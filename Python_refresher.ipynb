{
  "nbformat": 4,
  "nbformat_minor": 0,
  "metadata": {
    "colab": {
      "name": "Python_refresher.ipynb",
      "provenance": [],
      "authorship_tag": "ABX9TyORtrTeTCFbQsl/05S7V0I/",
      "include_colab_link": true
    },
    "kernelspec": {
      "name": "python3",
      "display_name": "Python 3"
    },
    "language_info": {
      "name": "python"
    }
  },
  "cells": [
    {
      "cell_type": "markdown",
      "metadata": {
        "id": "view-in-github",
        "colab_type": "text"
      },
      "source": [
        "<a href=\"https://colab.research.google.com/github/sadat1971/Conducting-Workshop-DATA-SCIENCE/blob/master/Python_refresher.ipynb\" target=\"_parent\"><img src=\"https://colab.research.google.com/assets/colab-badge.svg\" alt=\"Open In Colab\"/></a>"
      ]
    },
    {
      "cell_type": "markdown",
      "metadata": {
        "id": "wO4Bu1qEfv0H"
      },
      "source": [
        "## Python Data Types"
      ]
    },
    {
      "cell_type": "code",
      "metadata": {
        "colab": {
          "base_uri": "https://localhost:8080/"
        },
        "id": "GoI3V0MAducp",
        "outputId": "cfeee8b4-4f29-4a5b-8d81-560a232ec360"
      },
      "source": [
        "X = 2\n",
        "print('type of X is', type(X))\n",
        "\n",
        "Y = 3.98\n",
        "print('type of Y is', type(Y))\n",
        "\n",
        "Z = 'LeBron James'\n",
        "print('type of Z is', type(Z))\n",
        "\n",
        "W = False\n",
        "print('type of W is', type(W))"
      ],
      "execution_count": null,
      "outputs": [
        {
          "output_type": "stream",
          "name": "stdout",
          "text": [
            "type of X is <class 'int'>\n",
            "type of Y is <class 'float'>\n",
            "type of Z is <class 'str'>\n",
            "type of W is <class 'bool'>\n"
          ]
        }
      ]
    },
    {
      "cell_type": "markdown",
      "metadata": {
        "id": "aDpVcNE9gMfL"
      },
      "source": [
        "## Operations"
      ]
    },
    {
      "cell_type": "code",
      "metadata": {
        "colab": {
          "base_uri": "https://localhost:8080/"
        },
        "id": "dy2pWWR9gHUW",
        "outputId": "1924ae8a-fb0e-42a5-9005-91d191f6178f"
      },
      "source": [
        "a = 15 #integer\n",
        "b = 4 #integer \n",
        "print(a+b) #addition\n",
        "print(a*b) #Multiplication\n",
        "print(a-b) #Subtraction\n",
        "print(a%b) #remainder\n",
        "print(a**b) #Power"
      ],
      "execution_count": null,
      "outputs": [
        {
          "output_type": "stream",
          "name": "stdout",
          "text": [
            "19\n",
            "60\n",
            "11\n",
            "3\n",
            "50625\n"
          ]
        }
      ]
    },
    {
      "cell_type": "code",
      "metadata": {
        "colab": {
          "base_uri": "https://localhost:8080/"
        },
        "id": "ivxM3oGcgPZQ",
        "outputId": "a6c4d948-8b3a-4184-c9ca-a44ced76d32e"
      },
      "source": [
        "a = 5\n",
        "b = 'Python3_'\n",
        "print(a*b)"
      ],
      "execution_count": null,
      "outputs": [
        {
          "output_type": "stream",
          "name": "stdout",
          "text": [
            "Python3_Python3_Python3_Python3_Python3_\n"
          ]
        }
      ]
    },
    {
      "cell_type": "markdown",
      "metadata": {
        "id": "vVepZnvU2JJU"
      },
      "source": [
        "## Buit in Data Structure of Python"
      ]
    },
    {
      "cell_type": "markdown",
      "metadata": {
        "id": "vH28LKZ12rf1"
      },
      "source": [
        "## 1. List\n",
        "\n",
        "List is the most used data structure in python. It is used to\n",
        "store element of ANY type ! Can be accessed with indexs.\n",
        "Also can be mutable\n"
      ]
    },
    {
      "cell_type": "code",
      "metadata": {
        "colab": {
          "base_uri": "https://localhost:8080/"
        },
        "id": "QLdUNbV6gZb3",
        "outputId": "309a4bec-1caf-461b-8f3d-0ac922b3b576"
      },
      "source": [
        "L = [1,2,3,4, 5]\n",
        "print(L)\n",
        "print(L[0]) # Print the first element\n",
        "print(L[3]) # Print the fourth element \n",
        "print(L[-1]) #print the last element\n",
        "print(L[1:4]) # print the second to the fourth element"
      ],
      "execution_count": null,
      "outputs": [
        {
          "output_type": "stream",
          "name": "stdout",
          "text": [
            "[1, 2, 3, 4, 5]\n",
            "1\n",
            "4\n",
            "5\n",
            "[2, 3, 4]\n"
          ]
        }
      ]
    },
    {
      "cell_type": "code",
      "metadata": {
        "colab": {
          "base_uri": "https://localhost:8080/",
          "height": 35
        },
        "id": "YUw4rmxv3B_i",
        "outputId": "29062b3b-e65e-490a-9e17-78ee057720ea"
      },
      "source": [
        "\n",
        "# All types of data can be stored inside the list\n",
        "\n",
        "L_diverse = [1, 2.98, 'Houston', False, [12, 4]]\n",
        "L_diverse[2] #access the first element"
      ],
      "execution_count": null,
      "outputs": [
        {
          "output_type": "execute_result",
          "data": {
            "application/vnd.google.colaboratory.intrinsic+json": {
              "type": "string"
            },
            "text/plain": [
              "'Houston'"
            ]
          },
          "metadata": {},
          "execution_count": 4
        }
      ]
    },
    {
      "cell_type": "code",
      "metadata": {
        "colab": {
          "base_uri": "https://localhost:8080/"
        },
        "id": "l9ka9rr74T9e",
        "outputId": "dc697566-a67e-487a-ba10-55dc52cf7316"
      },
      "source": [
        "\n",
        "#List operation\n",
        "\n",
        "L[0] = 12.334  #assign any value to any position\n",
        "print(L)\n"
      ],
      "execution_count": null,
      "outputs": [
        {
          "output_type": "stream",
          "name": "stdout",
          "text": [
            "[12.334, 2, 3, 4, 5]\n"
          ]
        }
      ]
    },
    {
      "cell_type": "code",
      "metadata": {
        "colab": {
          "base_uri": "https://localhost:8080/"
        },
        "id": "MWhq8JmR4jH_",
        "outputId": "f110053f-bcda-4911-c511-604c65b2ba33"
      },
      "source": [
        "# check an element\n",
        "4 in L"
      ],
      "execution_count": null,
      "outputs": [
        {
          "output_type": "execute_result",
          "data": {
            "text/plain": [
              "True"
            ]
          },
          "metadata": {},
          "execution_count": 6
        }
      ]
    },
    {
      "cell_type": "code",
      "metadata": {
        "colab": {
          "base_uri": "https://localhost:8080/"
        },
        "id": "pgOs3H2e4jrY",
        "outputId": "302b493e-69b2-4994-d174-7e45a657b89e"
      },
      "source": [
        "# count, reverse and remove\n",
        "N = [1, 1, 2, 3, 5, 8, 13, 21, 34]\n",
        "print(N.count(1)) #how many times we have 1\n",
        "\n",
        "N.reverse() #reverse the list and update it\n",
        "print(N)\n",
        "N.reverse()\n",
        "print(N)\n",
        "\n",
        "N.remove(1)\n",
        "print(N)\n",
        "\n",
        "#Remove --> Removes an element from the list\n",
        "#list.remove(value)\n",
        "N.remove(13)\n",
        "print(N)"
      ],
      "execution_count": null,
      "outputs": [
        {
          "output_type": "stream",
          "name": "stdout",
          "text": [
            "2\n",
            "[34, 21, 13, 8, 5, 3, 2, 1, 1]\n",
            "[1, 1, 2, 3, 5, 8, 13, 21, 34]\n",
            "[1, 2, 3, 5, 8, 13, 21, 34]\n",
            "[1, 2, 3, 5, 8, 21, 34]\n"
          ]
        }
      ]
    },
    {
      "cell_type": "markdown",
      "metadata": {
        "id": "Pp3AKnMp6Vzp"
      },
      "source": [
        "## 2. Tuple\n",
        "## 3. Set\n",
        "\n",
        "Please take a look at: https://github.com/sadat1971/Conducting-Workshop-DATA-SCIENCE/blob/master/lecture_tutorials/03_python_data_science.ipynb"
      ]
    },
    {
      "cell_type": "markdown",
      "metadata": {
        "id": "kCqAXOCLjP3V"
      },
      "source": [
        "## 4. Dictionary:\n",
        "\n",
        "*****Smartest of all the data structures and probably the most important one*****\n",
        "\n"
      ]
    },
    {
      "cell_type": "code",
      "metadata": {
        "colab": {
          "base_uri": "https://localhost:8080/"
        },
        "id": "vMjiMV536JdH",
        "outputId": "fce1a1e7-d54b-42b5-c87d-b29e6343806e"
      },
      "source": [
        "\n",
        "#dictionary is a key-value paired data structure\n",
        "\n",
        "course_details = {\"Course_Name\":\"Data Science I\",\n",
        "                  \"Course_level\":\"Undergraduate\",\n",
        "                  \"Course_Number\":3337,\n",
        "                  \"Students\":68,\n",
        "                  \"Difficulty_level\":\"Easy\",\n",
        "                  \"Zybook_Required\":False}\n",
        "\n",
        "\n",
        "print(course_details)"
      ],
      "execution_count": null,
      "outputs": [
        {
          "output_type": "stream",
          "name": "stdout",
          "text": [
            "{'Course_Name': 'Data Science I', 'Course_level': 'Undergraduate', 'Course_Number': 3337, 'Students': 68, 'Difficulty_level': 'Easy', 'Zybook_Required': False}\n"
          ]
        }
      ]
    },
    {
      "cell_type": "markdown",
      "metadata": {
        "id": "gZhVpCh0j_Zw"
      },
      "source": [
        "* Key can be: string, integer, tuple\n",
        "* Value can be: Any type\n",
        "* Keys have to be unique\n",
        "* Values can be duplicated"
      ]
    },
    {
      "cell_type": "code",
      "metadata": {
        "colab": {
          "base_uri": "https://localhost:8080/"
        },
        "id": "abz2-5t7j8Su",
        "outputId": "e4397e2f-2332-43d1-ab1f-24c5a560893a"
      },
      "source": [
        "# Accessing\n",
        "print(course_details[\"Students\"])"
      ],
      "execution_count": null,
      "outputs": [
        {
          "output_type": "stream",
          "name": "stdout",
          "text": [
            "68\n"
          ]
        }
      ]
    },
    {
      "cell_type": "code",
      "metadata": {
        "colab": {
          "base_uri": "https://localhost:8080/"
        },
        "id": "XxrBjB8FkIWO",
        "outputId": "547818a1-10c6-4f5e-fcc8-d816c5e45550"
      },
      "source": [
        "# Updating\n",
        "course_details[\"Course_Name\"] = \"Intro_to_Data_Science\"\n",
        "print(course_details)"
      ],
      "execution_count": null,
      "outputs": [
        {
          "output_type": "stream",
          "name": "stdout",
          "text": [
            "{'Course_Name': 'Intro_to_Data_Science', 'Course_level': 'Undergraduate', 'Course_Number': 3337, 'Students': 68, 'Difficulty_level': 'Easy', 'Zybook_Required': False}\n"
          ]
        }
      ]
    },
    {
      "cell_type": "code",
      "metadata": {
        "id": "asPnMDLikZK7"
      },
      "source": [
        "# We can add two dictionaries\n",
        "# remove item from dictionary\n",
        "### Follow the link above"
      ],
      "execution_count": null,
      "outputs": []
    },
    {
      "cell_type": "code",
      "metadata": {
        "colab": {
          "base_uri": "https://localhost:8080/"
        },
        "id": "sPlfvyylkyjA",
        "outputId": "f142e1ee-580c-4a89-a7a3-13e0b22b839e"
      },
      "source": [
        "# Find all the keys\n",
        "course_details.keys()"
      ],
      "execution_count": null,
      "outputs": [
        {
          "output_type": "execute_result",
          "data": {
            "text/plain": [
              "dict_keys(['Course_Name', 'Course_level', 'Course_Number', 'Students', 'Difficulty_level', 'Zybook_Required'])"
            ]
          },
          "metadata": {},
          "execution_count": 10
        }
      ]
    },
    {
      "cell_type": "code",
      "metadata": {
        "colab": {
          "base_uri": "https://localhost:8080/"
        },
        "id": "M-BleRbdlEtE",
        "outputId": "3ac7b018-c758-4192-ce0b-6da3df42277b"
      },
      "source": [
        "# Find all the values\n",
        "course_details.values()"
      ],
      "execution_count": null,
      "outputs": [
        {
          "output_type": "execute_result",
          "data": {
            "text/plain": [
              "dict_values(['Intro_to_Data_Science', 'Undergraduate', 3337, 68, 'Easy', False])"
            ]
          },
          "metadata": {},
          "execution_count": 12
        }
      ]
    },
    {
      "cell_type": "code",
      "metadata": {
        "id": "vTqjKrytlVBq"
      },
      "source": [
        ""
      ],
      "execution_count": null,
      "outputs": []
    },
    {
      "cell_type": "markdown",
      "metadata": {
        "id": "aZ_Gb0pVlKJI"
      },
      "source": [
        "## Logics"
      ]
    },
    {
      "cell_type": "code",
      "metadata": {
        "colab": {
          "base_uri": "https://localhost:8080/"
        },
        "id": "Qd8uG43LlFzr",
        "outputId": "789a7952-cfa0-41e4-82e1-fc1049ef192c"
      },
      "source": [
        "#Example 1\n",
        "# Guess the number:\n",
        "import random # Library function\n",
        "\n",
        "answer = random.randint(1, 10) \n",
        "print('Can you guess, between 1 to 10 what the number is by two chances?')\n",
        "Num = int(input('Your guess is: '))\n",
        "if Num==answer:\n",
        "    print('What a guess! right answer :D')\n",
        "elif Num!=answer and Num<=10 and Num>=1:\n",
        "    if Num>answer:\n",
        "        print('You guessed lower than the correct answer')\n",
        "    else:\n",
        "        print('You guessed higher than the correct answer')\n",
        "else:\n",
        "    print('I said between 1 and 10, dude ! ')"
      ],
      "execution_count": null,
      "outputs": [
        {
          "output_type": "stream",
          "name": "stdout",
          "text": [
            "Can you guess, between 1 to 10 what the number is by two chances?\n",
            "Your guess is: 3\n",
            "You guessed higher than the correct answer\n"
          ]
        }
      ]
    },
    {
      "cell_type": "code",
      "metadata": {
        "colab": {
          "base_uri": "https://localhost:8080/"
        },
        "id": "-jo6_acomBCe",
        "outputId": "0c7deb52-afc4-4d95-9221-b1ee117f1c6c"
      },
      "source": [
        "\n",
        "#Example 2:\n",
        "# check if the word contains any vowel or not\n",
        "\n",
        "word = input('Please insert the word: ')\n",
        "if 'a' in word or 'e' in word or 'i' in word or 'o' in word or 'u' in word:\n",
        "    print('we have vowel')\n",
        "else:\n",
        "    print('Vowel-less word, not a lot, bro!')"
      ],
      "execution_count": null,
      "outputs": [
        {
          "output_type": "stream",
          "name": "stdout",
          "text": [
            "Please insert the word: course\n",
            "we have vowel\n"
          ]
        }
      ]
    },
    {
      "cell_type": "markdown",
      "metadata": {
        "id": "WJV-0831m07g"
      },
      "source": [
        "## Loops"
      ]
    },
    {
      "cell_type": "code",
      "metadata": {
        "colab": {
          "base_uri": "https://localhost:8080/"
        },
        "id": "S-o_59nkmrZE",
        "outputId": "10bc88d6-cf0f-4e08-c3d2-9891e0310761"
      },
      "source": [
        "\n",
        "# While loop:\n",
        "\n",
        "n = 1\n",
        "while n<10:\n",
        "    print(n)\n",
        "    n = n + 1"
      ],
      "execution_count": null,
      "outputs": [
        {
          "output_type": "stream",
          "name": "stdout",
          "text": [
            "1\n",
            "2\n",
            "3\n",
            "4\n",
            "5\n",
            "6\n",
            "7\n",
            "8\n",
            "9\n"
          ]
        }
      ]
    },
    {
      "cell_type": "code",
      "metadata": {
        "colab": {
          "base_uri": "https://localhost:8080/"
        },
        "id": "TbeQetdtm4Ny",
        "outputId": "408af67a-989d-4dbc-db4a-8aebe047e58d"
      },
      "source": [
        "## iterating through a list\n",
        "States = ['Nebraska', 'New York', 'North Carolina', 'Nevada', 'New Hampshire', 'North Dakota', 'New Jersey']\n",
        "for c in States:\n",
        "    print(c)"
      ],
      "execution_count": null,
      "outputs": [
        {
          "output_type": "stream",
          "name": "stdout",
          "text": [
            "Nebraska\n",
            "New York\n",
            "North Carolina\n",
            "Nevada\n",
            "New Hampshire\n",
            "North Dakota\n",
            "New Jersey\n"
          ]
        }
      ]
    },
    {
      "cell_type": "code",
      "metadata": {
        "colab": {
          "base_uri": "https://localhost:8080/"
        },
        "id": "S0qdcMzynQxI",
        "outputId": "fb6cf522-14a1-4a98-b00d-26bc54e580a3"
      },
      "source": [
        "\n",
        "# testing of prime number\n",
        "import math\n",
        "\n",
        "N = int(input('Please input an integer number'))\n",
        "prime_flag = 1\n",
        "if N==1:\n",
        "    pass\n",
        "elif N==2:\n",
        "    pass\n",
        "else:\n",
        "    if N%2==0:\n",
        "        prime_flag = 0\n",
        "    else:\n",
        "        for i in range(3, int(math.sqrt(N)+1), 2):\n",
        "            if N%i==0:\n",
        "                prime_flag = 0\n",
        "                break\n",
        "            \n",
        "if prime_flag==0:\n",
        "    print(\"Not a prime\")\n",
        "else:\n",
        "    print(\"It's a prime\")"
      ],
      "execution_count": null,
      "outputs": [
        {
          "output_type": "stream",
          "name": "stdout",
          "text": [
            "Please input an integer number31\n",
            "It's a prime\n"
          ]
        }
      ]
    },
    {
      "cell_type": "markdown",
      "metadata": {
        "id": "cfmtbeMbnnWD"
      },
      "source": [
        "# Functions"
      ]
    },
    {
      "cell_type": "code",
      "metadata": {
        "id": "sc9hTrQJnaRC"
      },
      "source": [
        "# You don't have to specify the return typr\n",
        "\n",
        "#example 1\n",
        "def name_seperator(full_name):\n",
        "    # THe function will seperate the name in first and last name\n",
        "    splitted_name = full_name.split()\n",
        "    first_name = splitted_name[:-1]\n",
        "    first_name = ' '.join(first_name)\n",
        "    last_name = splitted_name[-1]\n",
        "    return first_name, last_name"
      ],
      "execution_count": null,
      "outputs": []
    },
    {
      "cell_type": "code",
      "metadata": {
        "colab": {
          "base_uri": "https://localhost:8080/"
        },
        "id": "Xtmn5NaGrfel",
        "outputId": "3db4fd0e-239f-4a2a-ea64-de5e5874f467"
      },
      "source": [
        "\n",
        "first_name, last_name = name_seperator('John Doe')\n",
        "print(\"The first name is '{}' and the last name is '{}'\".format(first_name, last_name))"
      ],
      "execution_count": null,
      "outputs": [
        {
          "output_type": "stream",
          "name": "stdout",
          "text": [
            "The first name is 'John' and the last name is 'Doe'\n"
          ]
        }
      ]
    },
    {
      "cell_type": "markdown",
      "metadata": {
        "id": "h_2y-7Glruyi"
      },
      "source": [
        "Other important concepts:\n",
        "* Filter\n",
        "* Lambda function\n",
        "* map\n",
        "* list comprehension\n",
        "\n",
        "Take a look: https://github.com/sadat1971/Conducting-Workshop-DATA-SCIENCE/blob/master/lecture_tutorials/05_python_data_science.ipynb"
      ]
    },
    {
      "cell_type": "markdown",
      "metadata": {
        "id": "-u_sQxQAGLSz"
      },
      "source": [
        "**Other important concepts**\n",
        "\n",
        "1. [How exceptions are handled in python](https://github.com/sadat1971/Conducting-Workshop-DATA-SCIENCE/blob/master/lecture_tutorials/06_python_data_science.ipynb)\n",
        "\n",
        "2. [File Handling in Python](https://github.com/sadat1971/Conducting-Workshop-DATA-SCIENCE/blob/master/lecture_tutorials/07_python_data_science.ipynb)\n",
        "\n",
        "3. [Object Oriented Programming in Python](https://github.com/sadat1971/Conducting-Workshop-DATA-SCIENCE/blob/master/lecture_tutorials/08_python_data_science.ipynb)"
      ]
    },
    {
      "cell_type": "markdown",
      "metadata": {
        "id": "-apR99eAHP_P"
      },
      "source": [
        "## Numpy: The heart of scientific computing¶\n",
        "\n",
        "* All the Data Science libraries are based on NumPy (Like pandas, scipy, matplotlib, sklearn, tensorflow)\n",
        "* Mainly creates an n-dimensional array\n",
        "\n",
        "\n",
        "1. **Numpy is faster**\n",
        "\n",
        "a. Uses less memory see more : https://stackoverflow.com/questions/51240086/how-does-python-numpy-save-memory-compared-to-a-list\n",
        "\n",
        "b. No need to type-check while iterating\n",
        "\n",
        "c. Numpy has contiguous memory blocks, meaning, unlike lists, the memory blocks are next to each other\n",
        "\n",
        "2. **NumPy has many more functionalities including that of in Lists**\n"
      ]
    },
    {
      "cell_type": "code",
      "metadata": {
        "id": "FJm_6inzHPcX"
      },
      "source": [
        "# to install: pip install numpy or pip3 install numpy \n",
        "# for notebooks: \"!pip install numpy\"\n",
        "import numpy as np"
      ],
      "execution_count": null,
      "outputs": []
    },
    {
      "cell_type": "code",
      "metadata": {
        "colab": {
          "base_uri": "https://localhost:8080/"
        },
        "id": "F3H-ObTsrjdl",
        "outputId": "ad162575-3479-47ec-8509-4c5afcdc8019"
      },
      "source": [
        "A = np.array([[1, 2, 3, 4],[8, 9, 10, 11], [15, 16, 17, 18]])\n",
        "print(A)"
      ],
      "execution_count": null,
      "outputs": [
        {
          "output_type": "stream",
          "name": "stdout",
          "text": [
            "[[ 1  2  3  4]\n",
            " [ 8  9 10 11]\n",
            " [15 16 17 18]]\n"
          ]
        }
      ]
    },
    {
      "cell_type": "code",
      "metadata": {
        "colab": {
          "base_uri": "https://localhost:8080/"
        },
        "id": "75SpiTIuH4Zc",
        "outputId": "78e009c2-b38d-45ee-a41d-e5c37159fe78"
      },
      "source": [
        "print(A.shape)"
      ],
      "execution_count": null,
      "outputs": [
        {
          "output_type": "stream",
          "name": "stdout",
          "text": [
            "(3, 4)\n"
          ]
        }
      ]
    },
    {
      "cell_type": "code",
      "metadata": {
        "colab": {
          "base_uri": "https://localhost:8080/"
        },
        "id": "etQPzj4jH67S",
        "outputId": "080c75c5-3c92-4d73-fde9-427e1162f460"
      },
      "source": [
        "A[2,3] #third row, fourth column"
      ],
      "execution_count": null,
      "outputs": [
        {
          "output_type": "execute_result",
          "data": {
            "text/plain": [
              "18"
            ]
          },
          "metadata": {},
          "execution_count": 5
        }
      ]
    },
    {
      "cell_type": "markdown",
      "metadata": {
        "id": "je_I5YpKIEeC"
      },
      "source": [
        "You can find more important and interesting functionalities of Numpy [here](https://github.com/sadat1971/Conducting-Workshop-DATA-SCIENCE/blob/master/lecture_tutorials/09_python_data_science.ipynb)"
      ]
    },
    {
      "cell_type": "markdown",
      "metadata": {
        "id": "KQEDR1ZvKRe8"
      },
      "source": [
        "\n",
        "## Pandas Dataframe Tutorial\n",
        "Pandas facts:\n",
        "\n",
        "1. Data analysis library to analyze different types and forms of data\n",
        "2. Great performance as built on top of NumPy"
      ]
    },
    {
      "cell_type": "markdown",
      "metadata": {
        "id": "elDaBnyUKXrB"
      },
      "source": [
        "\n",
        "### How to install\n",
        "!pip install pandas\n",
        "\n",
        "\n",
        "For more: https://pandas.pydata.org/pandas-docs/stable/getting_started/install.html"
      ]
    },
    {
      "cell_type": "markdown",
      "metadata": {
        "id": "Zh4YUCTQKxkc"
      },
      "source": [
        "## How to generate pandas dataframe"
      ]
    },
    {
      "cell_type": "code",
      "metadata": {
        "id": "-4_AlqzULVCI"
      },
      "source": [
        "import pandas as pd"
      ],
      "execution_count": null,
      "outputs": []
    },
    {
      "cell_type": "code",
      "metadata": {
        "colab": {
          "base_uri": "https://localhost:8080/",
          "height": 204
        },
        "id": "aCyHXQAUKOHe",
        "outputId": "252e4ce5-fe94-437a-e08b-0dd6aea8a784"
      },
      "source": [
        "#Way 1: From the list of lists\n",
        "\n",
        "## Initialize your data\n",
        "data = [['Rachel', 'San Antonio', 44], ['Phoebe', 'Houston', 32], ['Ross', 'Austin', 28], ['Chandler', 'Dallas', 37], ['Joey', 'South Padre', 29]]\n",
        "\n",
        "## Initialize the dataframe\n",
        "df = pd.DataFrame(data, columns = ['Name', 'City', 'Age'])\n",
        "df"
      ],
      "execution_count": null,
      "outputs": [
        {
          "output_type": "execute_result",
          "data": {
            "text/html": [
              "<div>\n",
              "<style scoped>\n",
              "    .dataframe tbody tr th:only-of-type {\n",
              "        vertical-align: middle;\n",
              "    }\n",
              "\n",
              "    .dataframe tbody tr th {\n",
              "        vertical-align: top;\n",
              "    }\n",
              "\n",
              "    .dataframe thead th {\n",
              "        text-align: right;\n",
              "    }\n",
              "</style>\n",
              "<table border=\"1\" class=\"dataframe\">\n",
              "  <thead>\n",
              "    <tr style=\"text-align: right;\">\n",
              "      <th></th>\n",
              "      <th>Name</th>\n",
              "      <th>City</th>\n",
              "      <th>Age</th>\n",
              "    </tr>\n",
              "  </thead>\n",
              "  <tbody>\n",
              "    <tr>\n",
              "      <th>0</th>\n",
              "      <td>Rachel</td>\n",
              "      <td>San Antonio</td>\n",
              "      <td>44</td>\n",
              "    </tr>\n",
              "    <tr>\n",
              "      <th>1</th>\n",
              "      <td>Phoebe</td>\n",
              "      <td>Houston</td>\n",
              "      <td>32</td>\n",
              "    </tr>\n",
              "    <tr>\n",
              "      <th>2</th>\n",
              "      <td>Ross</td>\n",
              "      <td>Austin</td>\n",
              "      <td>28</td>\n",
              "    </tr>\n",
              "    <tr>\n",
              "      <th>3</th>\n",
              "      <td>Chandler</td>\n",
              "      <td>Dallas</td>\n",
              "      <td>37</td>\n",
              "    </tr>\n",
              "    <tr>\n",
              "      <th>4</th>\n",
              "      <td>Joey</td>\n",
              "      <td>South Padre</td>\n",
              "      <td>29</td>\n",
              "    </tr>\n",
              "  </tbody>\n",
              "</table>\n",
              "</div>"
            ],
            "text/plain": [
              "       Name         City  Age\n",
              "0    Rachel  San Antonio   44\n",
              "1    Phoebe      Houston   32\n",
              "2      Ross       Austin   28\n",
              "3  Chandler       Dallas   37\n",
              "4      Joey  South Padre   29"
            ]
          },
          "metadata": {},
          "execution_count": 10
        }
      ]
    },
    {
      "cell_type": "markdown",
      "metadata": {
        "id": "gu5ipFk-LooC"
      },
      "source": [
        "2. Way 2: Throught the dictionary\n",
        "3. Way 3: List of dicts\n",
        "4. Way 4: tuples\n",
        "5. way 5: Pandas Series\n",
        "\n",
        "You can find these ways [here](https://github.com/sadat1971/Conducting-Workshop-DATA-SCIENCE/blob/master/lecture_tutorials/10_python_data_science.ipynb)"
      ]
    },
    {
      "cell_type": "markdown",
      "metadata": {
        "id": "vjVTwtuGMF2k"
      },
      "source": [
        "## Most important: \n",
        "\n",
        "**You can import datasets that are in csv or tsv format from your local machine and have a nice frame-like representation of the data**\n",
        "\n",
        "\n",
        "\n",
        "```\n",
        "df = pd.read_csv(\"Documents\\\\Notebooks\\\\lecture_tutorials\\\\HR-data.csv\") #For windows\n",
        "df = pd.read_csv(\"Documents/Notebooks/lecture_tutorials/HR-data.csv\") #For Linux (and probably mac)\n",
        "```\n",
        "\n",
        "\n"
      ]
    },
    {
      "cell_type": "code",
      "metadata": {
        "id": "Q5PhP5pBWGpq"
      },
      "source": [
        ""
      ],
      "execution_count": null,
      "outputs": []
    },
    {
      "cell_type": "markdown",
      "metadata": {
        "id": "hOoFMAhoWHKd"
      },
      "source": [
        "Download any of the dataset from here: https://perso.telecom-paristech.fr/eagan/class/igr204/datasets"
      ]
    },
    {
      "cell_type": "code",
      "metadata": {
        "id": "w8aJLp9qIAXS",
        "colab": {
          "resources": {
            "http://localhost:8080/nbextensions/google.colab/files.js": {
              "data": "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",
              "ok": true,
              "headers": [
                [
                  "content-type",
                  "application/javascript"
                ]
              ],
              "status": 200,
              "status_text": ""
            }
          },
          "base_uri": "https://localhost:8080/",
          "height": 110
        },
        "outputId": "44ac7bdf-9534-4003-b307-2e33c90adfff"
      },
      "source": [
        "#Only for colab\n",
        "from google.colab import files \n",
        "files.upload()"
      ],
      "execution_count": null,
      "outputs": [
        {
          "output_type": "display_data",
          "data": {
            "text/html": [
              "\n",
              "     <input type=\"file\" id=\"files-3a74e18e-62ba-43d8-89d5-e846853b817c\" name=\"files[]\" multiple disabled\n",
              "        style=\"border:none\" />\n",
              "     <output id=\"result-3a74e18e-62ba-43d8-89d5-e846853b817c\">\n",
              "      Upload widget is only available when the cell has been executed in the\n",
              "      current browser session. Please rerun this cell to enable.\n",
              "      </output>\n",
              "      <script src=\"/nbextensions/google.colab/files.js\"></script> "
            ],
            "text/plain": [
              "<IPython.core.display.HTML object>"
            ]
          },
          "metadata": {}
        },
        {
          "output_type": "stream",
          "name": "stdout",
          "text": [
            "Saving happiness.csv to happiness.csv\n"
          ]
        },
        {
          "output_type": "execute_result",
          "data": {
            "text/plain": [
              "{'happiness.csv': b'Country,Gender,Mean,N=\\r\\nAT,Male,7.3,471\\r\\n,Female,7.3,570\\r\\n,Both,7.3,1041\\r\\nBE,Male,7.8,468\\r\\n,Female,7.8,542\\r\\n,Both,7.8,1010\\r\\nBG,Male,5.8,416\\r\\n,Female,5.8,555\\r\\n,Both,5.8,971\\r\\nCY,Male,7.8,433\\r\\n,Female,7.5,569\\r\\n,Both,7.7,1002\\r\\nCZ,Male,7.6,462\\r\\n,Female,7.4,759\\r\\n,Both,7.5,1221\\r\\nDE,Male,7.5,916\\r\\n,Female,7.5,1087\\r\\n,Both,7.5,2003\\r\\nDK,Male,8.3,447\\r\\n,Female,8.3,550\\r\\n,Both,8.3,997\\r\\nEE,Male,7.4,402\\r\\n,Female,7.3,615\\r\\n,Both,7.4,1017\\r\\nGR,Male,7.4,436\\r\\n,Female,7.3,564\\r\\n,Both,7.3,1000\\r\\nES,Male,7.7,498\\r\\n,Female,7.5,515\\r\\n,Both,7.6,1013\\r\\nFI,Male,8.2,463\\r\\n,Female,8.4,538\\r\\n,Both,8.3,1001\\r\\nFR,Male,7.8,630\\r\\n,Female,7.8,899\\r\\n,Both,7.8,1529\\r\\nHR,Male,7,384\\r\\n,Female,6.9,598\\r\\n,Both,7,982\\r\\nHU,Male,7.1,386\\r\\n,Female,6.9,612\\r\\n,Both,7,998\\r\\nIE,Male,8,400\\r\\n,Female,8.1,596\\r\\n,Both,8,996\\r\\nIT,Male,7.1,533\\r\\n,Female,6.9,973\\r\\n,Both,7,1506\\r\\nLT,Male,7.3,375\\r\\n,Female,7.2,622\\r\\n,Both,7.3,997\\r\\nLU,Male,8.1,425\\r\\n,Female,8,576\\r\\n,Both,8,1001\\r\\nLV,Male,6.9,379\\r\\n,Female,6.8,611\\r\\n,Both,6.8,990\\r\\nMK,Male,6.3,470\\r\\n,Female,6.2,510\\r\\n,Both,6.3,980\\r\\nMT,Male,8,498\\r\\n,Female,7.8,493\\r\\n,Both,7.9,991\\r\\nNL,Male,8,481\\r\\n,Female,8,529\\r\\n,Both,8,1010\\r\\nNO,Male,8,462\\r\\n,Female,8.1,530\\r\\n,Both,8.1,992\\r\\nPL,Male,7.4,604\\r\\n,Female,7.3,884\\r\\n,Both,7.4,1488\\r\\nPT,Male,7,477\\r\\n,Female,6.8,521\\r\\n,Both,6.9,998\\r\\nRO,Male,7.1,472\\r\\n,Female,7,525\\r\\n,Both,7,997\\r\\nSE,Male,8.2,492\\r\\n,Female,8.2,519\\r\\n,Both,8.2,1011\\r\\nSI,Male,7.7,426\\r\\n,Female,7.6,602\\r\\n,Both,7.7,1028\\r\\nSK,Male,7.5,435\\r\\n,Female,7.6,684\\r\\n,Both,7.5,1119\\r\\nTR,Male,6.6,874\\r\\n,Female,6.6,1118\\r\\n,Both,6.6,1992\\r\\nUK,Male,7.7,643\\r\\n,Female,7.9,856\\r\\n,Both,7.8,1499\\r\\nCC3,Male,6.6,1728\\r\\n,Female,6.6,2226\\r\\n,Both,6.6,3954\\r\\nEU 15,Male,7.6,7780\\r\\n,Female,7.6,9835\\r\\n,Both,7.6,17615\\r\\nNMS12,Male,7.2,5288\\r\\n,Female,7.1,7531\\r\\n,Both,7.2,12819\\r\\nEU 27,Male,7.5,13068\\r\\n,Female,7.5,17366\\r\\n,Both,7.5,30434\\r\\n'}"
            ]
          },
          "metadata": {},
          "execution_count": 20
        }
      ]
    },
    {
      "cell_type": "code",
      "metadata": {
        "id": "Mm4QqLOTLzxO",
        "colab": {
          "base_uri": "https://localhost:8080/",
          "height": 204
        },
        "outputId": "42001a13-deb6-4926-e0f5-58c5f0f8d04c"
      },
      "source": [
        "df = pd.read_csv(\"happiness.csv\")\n",
        "df.head()"
      ],
      "execution_count": 58,
      "outputs": [
        {
          "output_type": "execute_result",
          "data": {
            "text/html": [
              "<div>\n",
              "<style scoped>\n",
              "    .dataframe tbody tr th:only-of-type {\n",
              "        vertical-align: middle;\n",
              "    }\n",
              "\n",
              "    .dataframe tbody tr th {\n",
              "        vertical-align: top;\n",
              "    }\n",
              "\n",
              "    .dataframe thead th {\n",
              "        text-align: right;\n",
              "    }\n",
              "</style>\n",
              "<table border=\"1\" class=\"dataframe\">\n",
              "  <thead>\n",
              "    <tr style=\"text-align: right;\">\n",
              "      <th></th>\n",
              "      <th>Country</th>\n",
              "      <th>Gender</th>\n",
              "      <th>Mean</th>\n",
              "      <th>N=</th>\n",
              "    </tr>\n",
              "  </thead>\n",
              "  <tbody>\n",
              "    <tr>\n",
              "      <th>0</th>\n",
              "      <td>AT</td>\n",
              "      <td>Male</td>\n",
              "      <td>7.3</td>\n",
              "      <td>471</td>\n",
              "    </tr>\n",
              "    <tr>\n",
              "      <th>1</th>\n",
              "      <td>NaN</td>\n",
              "      <td>Female</td>\n",
              "      <td>7.3</td>\n",
              "      <td>570</td>\n",
              "    </tr>\n",
              "    <tr>\n",
              "      <th>2</th>\n",
              "      <td>NaN</td>\n",
              "      <td>Both</td>\n",
              "      <td>7.3</td>\n",
              "      <td>1041</td>\n",
              "    </tr>\n",
              "    <tr>\n",
              "      <th>3</th>\n",
              "      <td>BE</td>\n",
              "      <td>Male</td>\n",
              "      <td>7.8</td>\n",
              "      <td>468</td>\n",
              "    </tr>\n",
              "    <tr>\n",
              "      <th>4</th>\n",
              "      <td>NaN</td>\n",
              "      <td>Female</td>\n",
              "      <td>7.8</td>\n",
              "      <td>542</td>\n",
              "    </tr>\n",
              "  </tbody>\n",
              "</table>\n",
              "</div>"
            ],
            "text/plain": [
              "  Country  Gender  Mean    N=\n",
              "0      AT    Male   7.3   471\n",
              "1     NaN  Female   7.3   570\n",
              "2     NaN    Both   7.3  1041\n",
              "3      BE    Male   7.8   468\n",
              "4     NaN  Female   7.8   542"
            ]
          },
          "metadata": {},
          "execution_count": 58
        }
      ]
    },
    {
      "cell_type": "code",
      "metadata": {
        "colab": {
          "base_uri": "https://localhost:8080/",
          "height": 204
        },
        "id": "dtAGwKI0UTBT",
        "outputId": "24943e77-da45-46e2-89ec-9201bf94167d"
      },
      "source": [
        "df = pd.read_csv(\"cars.csv\", sep=\";\")\n",
        "df.head()"
      ],
      "execution_count": 98,
      "outputs": [
        {
          "output_type": "execute_result",
          "data": {
            "text/html": [
              "<div>\n",
              "<style scoped>\n",
              "    .dataframe tbody tr th:only-of-type {\n",
              "        vertical-align: middle;\n",
              "    }\n",
              "\n",
              "    .dataframe tbody tr th {\n",
              "        vertical-align: top;\n",
              "    }\n",
              "\n",
              "    .dataframe thead th {\n",
              "        text-align: right;\n",
              "    }\n",
              "</style>\n",
              "<table border=\"1\" class=\"dataframe\">\n",
              "  <thead>\n",
              "    <tr style=\"text-align: right;\">\n",
              "      <th></th>\n",
              "      <th>Car</th>\n",
              "      <th>MPG</th>\n",
              "      <th>Cylinders</th>\n",
              "      <th>Displacement</th>\n",
              "      <th>Horsepower</th>\n",
              "      <th>Weight</th>\n",
              "      <th>Acceleration</th>\n",
              "      <th>Model</th>\n",
              "      <th>Origin</th>\n",
              "    </tr>\n",
              "  </thead>\n",
              "  <tbody>\n",
              "    <tr>\n",
              "      <th>0</th>\n",
              "      <td>STRING</td>\n",
              "      <td>DOUBLE</td>\n",
              "      <td>INT</td>\n",
              "      <td>DOUBLE</td>\n",
              "      <td>DOUBLE</td>\n",
              "      <td>DOUBLE</td>\n",
              "      <td>DOUBLE</td>\n",
              "      <td>INT</td>\n",
              "      <td>CAT</td>\n",
              "    </tr>\n",
              "    <tr>\n",
              "      <th>1</th>\n",
              "      <td>Chevrolet Chevelle Malibu</td>\n",
              "      <td>18.0</td>\n",
              "      <td>8</td>\n",
              "      <td>307.0</td>\n",
              "      <td>130.0</td>\n",
              "      <td>3504.</td>\n",
              "      <td>12.0</td>\n",
              "      <td>70</td>\n",
              "      <td>US</td>\n",
              "    </tr>\n",
              "    <tr>\n",
              "      <th>2</th>\n",
              "      <td>Buick Skylark 320</td>\n",
              "      <td>15.0</td>\n",
              "      <td>8</td>\n",
              "      <td>350.0</td>\n",
              "      <td>165.0</td>\n",
              "      <td>3693.</td>\n",
              "      <td>11.5</td>\n",
              "      <td>70</td>\n",
              "      <td>US</td>\n",
              "    </tr>\n",
              "    <tr>\n",
              "      <th>3</th>\n",
              "      <td>Plymouth Satellite</td>\n",
              "      <td>18.0</td>\n",
              "      <td>8</td>\n",
              "      <td>318.0</td>\n",
              "      <td>150.0</td>\n",
              "      <td>3436.</td>\n",
              "      <td>11.0</td>\n",
              "      <td>70</td>\n",
              "      <td>US</td>\n",
              "    </tr>\n",
              "    <tr>\n",
              "      <th>4</th>\n",
              "      <td>AMC Rebel SST</td>\n",
              "      <td>16.0</td>\n",
              "      <td>8</td>\n",
              "      <td>304.0</td>\n",
              "      <td>150.0</td>\n",
              "      <td>3433.</td>\n",
              "      <td>12.0</td>\n",
              "      <td>70</td>\n",
              "      <td>US</td>\n",
              "    </tr>\n",
              "  </tbody>\n",
              "</table>\n",
              "</div>"
            ],
            "text/plain": [
              "                         Car     MPG Cylinders  ... Acceleration Model Origin\n",
              "0                     STRING  DOUBLE       INT  ...       DOUBLE   INT    CAT\n",
              "1  Chevrolet Chevelle Malibu    18.0         8  ...         12.0    70     US\n",
              "2          Buick Skylark 320    15.0         8  ...         11.5    70     US\n",
              "3         Plymouth Satellite    18.0         8  ...         11.0    70     US\n",
              "4              AMC Rebel SST    16.0         8  ...         12.0    70     US\n",
              "\n",
              "[5 rows x 9 columns]"
            ]
          },
          "metadata": {},
          "execution_count": 98
        }
      ]
    },
    {
      "cell_type": "code",
      "metadata": {
        "colab": {
          "base_uri": "https://localhost:8080/",
          "height": 204
        },
        "id": "Pu-g28hXVY21",
        "outputId": "1361499e-1d05-4e52-a37f-5bb03a7550ca"
      },
      "source": [
        "df.drop([0], inplace=True)\n",
        "df.head()"
      ],
      "execution_count": 99,
      "outputs": [
        {
          "output_type": "execute_result",
          "data": {
            "text/html": [
              "<div>\n",
              "<style scoped>\n",
              "    .dataframe tbody tr th:only-of-type {\n",
              "        vertical-align: middle;\n",
              "    }\n",
              "\n",
              "    .dataframe tbody tr th {\n",
              "        vertical-align: top;\n",
              "    }\n",
              "\n",
              "    .dataframe thead th {\n",
              "        text-align: right;\n",
              "    }\n",
              "</style>\n",
              "<table border=\"1\" class=\"dataframe\">\n",
              "  <thead>\n",
              "    <tr style=\"text-align: right;\">\n",
              "      <th></th>\n",
              "      <th>Car</th>\n",
              "      <th>MPG</th>\n",
              "      <th>Cylinders</th>\n",
              "      <th>Displacement</th>\n",
              "      <th>Horsepower</th>\n",
              "      <th>Weight</th>\n",
              "      <th>Acceleration</th>\n",
              "      <th>Model</th>\n",
              "      <th>Origin</th>\n",
              "    </tr>\n",
              "  </thead>\n",
              "  <tbody>\n",
              "    <tr>\n",
              "      <th>1</th>\n",
              "      <td>Chevrolet Chevelle Malibu</td>\n",
              "      <td>18.0</td>\n",
              "      <td>8</td>\n",
              "      <td>307.0</td>\n",
              "      <td>130.0</td>\n",
              "      <td>3504.</td>\n",
              "      <td>12.0</td>\n",
              "      <td>70</td>\n",
              "      <td>US</td>\n",
              "    </tr>\n",
              "    <tr>\n",
              "      <th>2</th>\n",
              "      <td>Buick Skylark 320</td>\n",
              "      <td>15.0</td>\n",
              "      <td>8</td>\n",
              "      <td>350.0</td>\n",
              "      <td>165.0</td>\n",
              "      <td>3693.</td>\n",
              "      <td>11.5</td>\n",
              "      <td>70</td>\n",
              "      <td>US</td>\n",
              "    </tr>\n",
              "    <tr>\n",
              "      <th>3</th>\n",
              "      <td>Plymouth Satellite</td>\n",
              "      <td>18.0</td>\n",
              "      <td>8</td>\n",
              "      <td>318.0</td>\n",
              "      <td>150.0</td>\n",
              "      <td>3436.</td>\n",
              "      <td>11.0</td>\n",
              "      <td>70</td>\n",
              "      <td>US</td>\n",
              "    </tr>\n",
              "    <tr>\n",
              "      <th>4</th>\n",
              "      <td>AMC Rebel SST</td>\n",
              "      <td>16.0</td>\n",
              "      <td>8</td>\n",
              "      <td>304.0</td>\n",
              "      <td>150.0</td>\n",
              "      <td>3433.</td>\n",
              "      <td>12.0</td>\n",
              "      <td>70</td>\n",
              "      <td>US</td>\n",
              "    </tr>\n",
              "    <tr>\n",
              "      <th>5</th>\n",
              "      <td>Ford Torino</td>\n",
              "      <td>17.0</td>\n",
              "      <td>8</td>\n",
              "      <td>302.0</td>\n",
              "      <td>140.0</td>\n",
              "      <td>3449.</td>\n",
              "      <td>10.5</td>\n",
              "      <td>70</td>\n",
              "      <td>US</td>\n",
              "    </tr>\n",
              "  </tbody>\n",
              "</table>\n",
              "</div>"
            ],
            "text/plain": [
              "                         Car   MPG Cylinders  ... Acceleration Model Origin\n",
              "1  Chevrolet Chevelle Malibu  18.0         8  ...         12.0    70     US\n",
              "2          Buick Skylark 320  15.0         8  ...         11.5    70     US\n",
              "3         Plymouth Satellite  18.0         8  ...         11.0    70     US\n",
              "4              AMC Rebel SST  16.0         8  ...         12.0    70     US\n",
              "5                Ford Torino  17.0         8  ...         10.5    70     US\n",
              "\n",
              "[5 rows x 9 columns]"
            ]
          },
          "metadata": {},
          "execution_count": 99
        }
      ]
    },
    {
      "cell_type": "code",
      "metadata": {
        "colab": {
          "base_uri": "https://localhost:8080/",
          "height": 204
        },
        "id": "U1kvDGB6Vz-V",
        "outputId": "41aa6d26-4c36-4096-8091-eb456c7d4ea6"
      },
      "source": [
        "df.reset_index(drop=True, inplace=True)\n",
        "df.head()"
      ],
      "execution_count": 100,
      "outputs": [
        {
          "output_type": "execute_result",
          "data": {
            "text/html": [
              "<div>\n",
              "<style scoped>\n",
              "    .dataframe tbody tr th:only-of-type {\n",
              "        vertical-align: middle;\n",
              "    }\n",
              "\n",
              "    .dataframe tbody tr th {\n",
              "        vertical-align: top;\n",
              "    }\n",
              "\n",
              "    .dataframe thead th {\n",
              "        text-align: right;\n",
              "    }\n",
              "</style>\n",
              "<table border=\"1\" class=\"dataframe\">\n",
              "  <thead>\n",
              "    <tr style=\"text-align: right;\">\n",
              "      <th></th>\n",
              "      <th>Car</th>\n",
              "      <th>MPG</th>\n",
              "      <th>Cylinders</th>\n",
              "      <th>Displacement</th>\n",
              "      <th>Horsepower</th>\n",
              "      <th>Weight</th>\n",
              "      <th>Acceleration</th>\n",
              "      <th>Model</th>\n",
              "      <th>Origin</th>\n",
              "    </tr>\n",
              "  </thead>\n",
              "  <tbody>\n",
              "    <tr>\n",
              "      <th>0</th>\n",
              "      <td>Chevrolet Chevelle Malibu</td>\n",
              "      <td>18.0</td>\n",
              "      <td>8</td>\n",
              "      <td>307.0</td>\n",
              "      <td>130.0</td>\n",
              "      <td>3504.</td>\n",
              "      <td>12.0</td>\n",
              "      <td>70</td>\n",
              "      <td>US</td>\n",
              "    </tr>\n",
              "    <tr>\n",
              "      <th>1</th>\n",
              "      <td>Buick Skylark 320</td>\n",
              "      <td>15.0</td>\n",
              "      <td>8</td>\n",
              "      <td>350.0</td>\n",
              "      <td>165.0</td>\n",
              "      <td>3693.</td>\n",
              "      <td>11.5</td>\n",
              "      <td>70</td>\n",
              "      <td>US</td>\n",
              "    </tr>\n",
              "    <tr>\n",
              "      <th>2</th>\n",
              "      <td>Plymouth Satellite</td>\n",
              "      <td>18.0</td>\n",
              "      <td>8</td>\n",
              "      <td>318.0</td>\n",
              "      <td>150.0</td>\n",
              "      <td>3436.</td>\n",
              "      <td>11.0</td>\n",
              "      <td>70</td>\n",
              "      <td>US</td>\n",
              "    </tr>\n",
              "    <tr>\n",
              "      <th>3</th>\n",
              "      <td>AMC Rebel SST</td>\n",
              "      <td>16.0</td>\n",
              "      <td>8</td>\n",
              "      <td>304.0</td>\n",
              "      <td>150.0</td>\n",
              "      <td>3433.</td>\n",
              "      <td>12.0</td>\n",
              "      <td>70</td>\n",
              "      <td>US</td>\n",
              "    </tr>\n",
              "    <tr>\n",
              "      <th>4</th>\n",
              "      <td>Ford Torino</td>\n",
              "      <td>17.0</td>\n",
              "      <td>8</td>\n",
              "      <td>302.0</td>\n",
              "      <td>140.0</td>\n",
              "      <td>3449.</td>\n",
              "      <td>10.5</td>\n",
              "      <td>70</td>\n",
              "      <td>US</td>\n",
              "    </tr>\n",
              "  </tbody>\n",
              "</table>\n",
              "</div>"
            ],
            "text/plain": [
              "                         Car   MPG Cylinders  ... Acceleration Model Origin\n",
              "0  Chevrolet Chevelle Malibu  18.0         8  ...         12.0    70     US\n",
              "1          Buick Skylark 320  15.0         8  ...         11.5    70     US\n",
              "2         Plymouth Satellite  18.0         8  ...         11.0    70     US\n",
              "3              AMC Rebel SST  16.0         8  ...         12.0    70     US\n",
              "4                Ford Torino  17.0         8  ...         10.5    70     US\n",
              "\n",
              "[5 rows x 9 columns]"
            ]
          },
          "metadata": {},
          "execution_count": 100
        }
      ]
    },
    {
      "cell_type": "code",
      "metadata": {
        "colab": {
          "base_uri": "https://localhost:8080/"
        },
        "id": "kDFTjbcBV104",
        "outputId": "f554b964-8d5c-46d6-c3cc-ba11c33e428c"
      },
      "source": [
        "df.info()"
      ],
      "execution_count": 101,
      "outputs": [
        {
          "output_type": "stream",
          "name": "stdout",
          "text": [
            "<class 'pandas.core.frame.DataFrame'>\n",
            "RangeIndex: 406 entries, 0 to 405\n",
            "Data columns (total 9 columns):\n",
            " #   Column        Non-Null Count  Dtype \n",
            "---  ------        --------------  ----- \n",
            " 0   Car           406 non-null    object\n",
            " 1   MPG           406 non-null    object\n",
            " 2   Cylinders     406 non-null    object\n",
            " 3   Displacement  406 non-null    object\n",
            " 4   Horsepower    406 non-null    object\n",
            " 5   Weight        406 non-null    object\n",
            " 6   Acceleration  406 non-null    object\n",
            " 7   Model         406 non-null    object\n",
            " 8   Origin        406 non-null    object\n",
            "dtypes: object(9)\n",
            "memory usage: 28.7+ KB\n"
          ]
        }
      ]
    },
    {
      "cell_type": "code",
      "metadata": {
        "id": "2y4tQSfqawTq"
      },
      "source": [
        "df.MPG = df.MPG.astype(\"float\")\n",
        "df.Cylinders=df.Cylinders.astype(\"float\")\n",
        "df.Displacement=df.Displacement.astype(\"float\")\n",
        "df.Horsepower=df.Horsepower.astype(\"float\")\n",
        "df.Weight=df.Weight.astype(\"float\")\n",
        "df.Acceleration=df.Acceleration.astype(\"float\")"
      ],
      "execution_count": 102,
      "outputs": []
    },
    {
      "cell_type": "code",
      "metadata": {
        "id": "QWe2AoOpbu-m",
        "outputId": "9a50d86e-c095-4fd7-ff1d-bf3286e83c18",
        "colab": {
          "base_uri": "https://localhost:8080/"
        }
      },
      "source": [
        "df.info()"
      ],
      "execution_count": 103,
      "outputs": [
        {
          "output_type": "stream",
          "name": "stdout",
          "text": [
            "<class 'pandas.core.frame.DataFrame'>\n",
            "RangeIndex: 406 entries, 0 to 405\n",
            "Data columns (total 9 columns):\n",
            " #   Column        Non-Null Count  Dtype  \n",
            "---  ------        --------------  -----  \n",
            " 0   Car           406 non-null    object \n",
            " 1   MPG           406 non-null    float64\n",
            " 2   Cylinders     406 non-null    float64\n",
            " 3   Displacement  406 non-null    float64\n",
            " 4   Horsepower    406 non-null    float64\n",
            " 5   Weight        406 non-null    float64\n",
            " 6   Acceleration  406 non-null    float64\n",
            " 7   Model         406 non-null    object \n",
            " 8   Origin        406 non-null    object \n",
            "dtypes: float64(6), object(3)\n",
            "memory usage: 28.7+ KB\n"
          ]
        }
      ]
    },
    {
      "cell_type": "code",
      "metadata": {
        "id": "Hsq-mWfpbRcC",
        "outputId": "555254fc-8bf9-47e9-f4f2-f2869f17b0f3",
        "colab": {
          "base_uri": "https://localhost:8080/"
        }
      },
      "source": [
        "df.info()"
      ],
      "execution_count": 104,
      "outputs": [
        {
          "output_type": "stream",
          "name": "stdout",
          "text": [
            "<class 'pandas.core.frame.DataFrame'>\n",
            "RangeIndex: 406 entries, 0 to 405\n",
            "Data columns (total 9 columns):\n",
            " #   Column        Non-Null Count  Dtype  \n",
            "---  ------        --------------  -----  \n",
            " 0   Car           406 non-null    object \n",
            " 1   MPG           406 non-null    float64\n",
            " 2   Cylinders     406 non-null    float64\n",
            " 3   Displacement  406 non-null    float64\n",
            " 4   Horsepower    406 non-null    float64\n",
            " 5   Weight        406 non-null    float64\n",
            " 6   Acceleration  406 non-null    float64\n",
            " 7   Model         406 non-null    object \n",
            " 8   Origin        406 non-null    object \n",
            "dtypes: float64(6), object(3)\n",
            "memory usage: 28.7+ KB\n"
          ]
        }
      ]
    },
    {
      "cell_type": "code",
      "metadata": {
        "id": "el_Isp3xY2YL",
        "outputId": "6239d496-97c5-4523-c728-5b06b3c4e81f",
        "colab": {
          "base_uri": "https://localhost:8080/"
        }
      },
      "source": [
        "# How many different types of car?\n",
        "df.Car.value_counts()"
      ],
      "execution_count": 105,
      "outputs": [
        {
          "output_type": "execute_result",
          "data": {
            "text/plain": [
              "Toyota Corolla               9\n",
              "Ford Pinto                   6\n",
              "AMC Matador                  5\n",
              "Ford Maverick                5\n",
              "Volkswagen Rabbit            5\n",
              "                            ..\n",
              "Dodge Aspen SE               1\n",
              "Ford Fiesta                  1\n",
              "Peugeot 505s Turbo Diesel    1\n",
              "Saab 99gle                   1\n",
              "Datsun 310                   1\n",
              "Name: Car, Length: 308, dtype: int64"
            ]
          },
          "metadata": {},
          "execution_count": 105
        }
      ]
    },
    {
      "cell_type": "code",
      "metadata": {
        "id": "-dE88XKmXWZ5",
        "colab": {
          "base_uri": "https://localhost:8080/"
        },
        "outputId": "30e87e60-00d6-4151-96ca-dd61ee102bd1"
      },
      "source": [
        "df.Origin.value_counts()"
      ],
      "execution_count": 106,
      "outputs": [
        {
          "output_type": "execute_result",
          "data": {
            "text/plain": [
              "US        254\n",
              "Japan      79\n",
              "Europe     73\n",
              "Name: Origin, dtype: int64"
            ]
          },
          "metadata": {},
          "execution_count": 106
        }
      ]
    },
    {
      "cell_type": "code",
      "metadata": {
        "id": "lq3SbCebXerv",
        "colab": {
          "base_uri": "https://localhost:8080/",
          "height": 328
        },
        "outputId": "6e295085-c965-457f-9b14-4183c946cff6"
      },
      "source": [
        "df.describe(include='all').transpose()"
      ],
      "execution_count": 107,
      "outputs": [
        {
          "output_type": "execute_result",
          "data": {
            "text/html": [
              "<div>\n",
              "<style scoped>\n",
              "    .dataframe tbody tr th:only-of-type {\n",
              "        vertical-align: middle;\n",
              "    }\n",
              "\n",
              "    .dataframe tbody tr th {\n",
              "        vertical-align: top;\n",
              "    }\n",
              "\n",
              "    .dataframe thead th {\n",
              "        text-align: right;\n",
              "    }\n",
              "</style>\n",
              "<table border=\"1\" class=\"dataframe\">\n",
              "  <thead>\n",
              "    <tr style=\"text-align: right;\">\n",
              "      <th></th>\n",
              "      <th>count</th>\n",
              "      <th>unique</th>\n",
              "      <th>top</th>\n",
              "      <th>freq</th>\n",
              "      <th>mean</th>\n",
              "      <th>std</th>\n",
              "      <th>min</th>\n",
              "      <th>25%</th>\n",
              "      <th>50%</th>\n",
              "      <th>75%</th>\n",
              "      <th>max</th>\n",
              "    </tr>\n",
              "  </thead>\n",
              "  <tbody>\n",
              "    <tr>\n",
              "      <th>Car</th>\n",
              "      <td>406</td>\n",
              "      <td>308</td>\n",
              "      <td>Toyota Corolla</td>\n",
              "      <td>9</td>\n",
              "      <td>NaN</td>\n",
              "      <td>NaN</td>\n",
              "      <td>NaN</td>\n",
              "      <td>NaN</td>\n",
              "      <td>NaN</td>\n",
              "      <td>NaN</td>\n",
              "      <td>NaN</td>\n",
              "    </tr>\n",
              "    <tr>\n",
              "      <th>MPG</th>\n",
              "      <td>406</td>\n",
              "      <td>NaN</td>\n",
              "      <td>NaN</td>\n",
              "      <td>NaN</td>\n",
              "      <td>23.0512</td>\n",
              "      <td>8.40178</td>\n",
              "      <td>0</td>\n",
              "      <td>17</td>\n",
              "      <td>22.35</td>\n",
              "      <td>29</td>\n",
              "      <td>46.6</td>\n",
              "    </tr>\n",
              "    <tr>\n",
              "      <th>Cylinders</th>\n",
              "      <td>406</td>\n",
              "      <td>NaN</td>\n",
              "      <td>NaN</td>\n",
              "      <td>NaN</td>\n",
              "      <td>5.47537</td>\n",
              "      <td>1.71216</td>\n",
              "      <td>3</td>\n",
              "      <td>4</td>\n",
              "      <td>4</td>\n",
              "      <td>8</td>\n",
              "      <td>8</td>\n",
              "    </tr>\n",
              "    <tr>\n",
              "      <th>Displacement</th>\n",
              "      <td>406</td>\n",
              "      <td>NaN</td>\n",
              "      <td>NaN</td>\n",
              "      <td>NaN</td>\n",
              "      <td>194.78</td>\n",
              "      <td>104.922</td>\n",
              "      <td>68</td>\n",
              "      <td>105</td>\n",
              "      <td>151</td>\n",
              "      <td>302</td>\n",
              "      <td>455</td>\n",
              "    </tr>\n",
              "    <tr>\n",
              "      <th>Horsepower</th>\n",
              "      <td>406</td>\n",
              "      <td>NaN</td>\n",
              "      <td>NaN</td>\n",
              "      <td>NaN</td>\n",
              "      <td>103.53</td>\n",
              "      <td>40.5207</td>\n",
              "      <td>0</td>\n",
              "      <td>75</td>\n",
              "      <td>93.5</td>\n",
              "      <td>129</td>\n",
              "      <td>230</td>\n",
              "    </tr>\n",
              "    <tr>\n",
              "      <th>Weight</th>\n",
              "      <td>406</td>\n",
              "      <td>NaN</td>\n",
              "      <td>NaN</td>\n",
              "      <td>NaN</td>\n",
              "      <td>2979.41</td>\n",
              "      <td>847.004</td>\n",
              "      <td>1613</td>\n",
              "      <td>2226.5</td>\n",
              "      <td>2822.5</td>\n",
              "      <td>3618.25</td>\n",
              "      <td>5140</td>\n",
              "    </tr>\n",
              "    <tr>\n",
              "      <th>Acceleration</th>\n",
              "      <td>406</td>\n",
              "      <td>NaN</td>\n",
              "      <td>NaN</td>\n",
              "      <td>NaN</td>\n",
              "      <td>15.5197</td>\n",
              "      <td>2.80336</td>\n",
              "      <td>8</td>\n",
              "      <td>13.7</td>\n",
              "      <td>15.5</td>\n",
              "      <td>17.175</td>\n",
              "      <td>24.8</td>\n",
              "    </tr>\n",
              "    <tr>\n",
              "      <th>Model</th>\n",
              "      <td>406</td>\n",
              "      <td>13</td>\n",
              "      <td>73</td>\n",
              "      <td>40</td>\n",
              "      <td>NaN</td>\n",
              "      <td>NaN</td>\n",
              "      <td>NaN</td>\n",
              "      <td>NaN</td>\n",
              "      <td>NaN</td>\n",
              "      <td>NaN</td>\n",
              "      <td>NaN</td>\n",
              "    </tr>\n",
              "    <tr>\n",
              "      <th>Origin</th>\n",
              "      <td>406</td>\n",
              "      <td>3</td>\n",
              "      <td>US</td>\n",
              "      <td>254</td>\n",
              "      <td>NaN</td>\n",
              "      <td>NaN</td>\n",
              "      <td>NaN</td>\n",
              "      <td>NaN</td>\n",
              "      <td>NaN</td>\n",
              "      <td>NaN</td>\n",
              "      <td>NaN</td>\n",
              "    </tr>\n",
              "  </tbody>\n",
              "</table>\n",
              "</div>"
            ],
            "text/plain": [
              "             count unique             top freq  ...     25%     50%      75%   max\n",
              "Car            406    308  Toyota Corolla    9  ...     NaN     NaN      NaN   NaN\n",
              "MPG            406    NaN             NaN  NaN  ...      17   22.35       29  46.6\n",
              "Cylinders      406    NaN             NaN  NaN  ...       4       4        8     8\n",
              "Displacement   406    NaN             NaN  NaN  ...     105     151      302   455\n",
              "Horsepower     406    NaN             NaN  NaN  ...      75    93.5      129   230\n",
              "Weight         406    NaN             NaN  NaN  ...  2226.5  2822.5  3618.25  5140\n",
              "Acceleration   406    NaN             NaN  NaN  ...    13.7    15.5   17.175  24.8\n",
              "Model          406     13              73   40  ...     NaN     NaN      NaN   NaN\n",
              "Origin         406      3              US  254  ...     NaN     NaN      NaN   NaN\n",
              "\n",
              "[9 rows x 11 columns]"
            ]
          },
          "metadata": {},
          "execution_count": 107
        }
      ]
    },
    {
      "cell_type": "markdown",
      "metadata": {
        "id": "zcWPmb-bc_sS"
      },
      "source": [
        "**You can perform various conditions and loops on the table**"
      ]
    },
    {
      "cell_type": "code",
      "metadata": {
        "id": "wDkHWD8hZK1V",
        "outputId": "44dcde9a-b3bc-426e-e3f9-79ba4b3cdbb5",
        "colab": {
          "base_uri": "https://localhost:8080/"
        }
      },
      "source": [
        "df.Model.value_counts()"
      ],
      "execution_count": 70,
      "outputs": [
        {
          "output_type": "execute_result",
          "data": {
            "text/plain": [
              "73    40\n",
              "78    36\n",
              "70    35\n",
              "76    34\n",
              "82    31\n",
              "81    30\n",
              "75    30\n",
              "80    29\n",
              "79    29\n",
              "71    29\n",
              "72    28\n",
              "77    28\n",
              "74    27\n",
              "Name: Model, dtype: int64"
            ]
          },
          "metadata": {},
          "execution_count": 70
        }
      ]
    },
    {
      "cell_type": "markdown",
      "metadata": {
        "id": "olhsXiZSesui"
      },
      "source": [
        "**For more interesting application and features of the dataframe you can take a look at:**\n",
        "\n",
        "1.  [pandas1](https://github.com/sadat1971/Conducting-Workshop-DATA-SCIENCE/blob/master/lecture_tutorials/10_python_data_science.ipynb)\n",
        "\n",
        "2. [pandas2](https://github.com/sadat1971/Conducting-Workshop-DATA-SCIENCE/blob/master/lecture_tutorials/11_python_data_science.ipynb)\n",
        "\n",
        "3. [pandas3](https://github.com/sadat1971/Conducting-Workshop-DATA-SCIENCE/blob/master/lecture_tutorials/12_python_data_science.ipynb)"
      ]
    },
    {
      "cell_type": "markdown",
      "metadata": {
        "id": "PEftWFNRfddY"
      },
      "source": [
        "## Data Visualization\n",
        "Best libraries for visualization are:\n",
        "1. Seaborn\n",
        "2. matplotlib\n"
      ]
    },
    {
      "cell_type": "code",
      "metadata": {
        "id": "exPoiim0esOO"
      },
      "source": [
        "\n",
        "import seaborn as sns\n",
        "import matplotlib.pyplot as plt\n",
        "%matplotlib inline"
      ],
      "execution_count": 108,
      "outputs": []
    },
    {
      "cell_type": "code",
      "metadata": {
        "id": "91zKMAitaGsl",
        "outputId": "896ad09a-7298-40f4-8dd8-aed101c70f81",
        "colab": {
          "base_uri": "https://localhost:8080/",
          "height": 279
        }
      },
      "source": [
        "\n",
        "sns.boxplot(x='Origin', y='Weight', data=df)\n",
        "plt.show()"
      ],
      "execution_count": 109,
      "outputs": [
        {
          "output_type": "display_data",
          "data": {
            "image/png": "[encoded data removed]",
            "text/plain": [
              "<Figure size 432x288 with 1 Axes>"
            ]
          },
          "metadata": {
            "needs_background": "light"
          }
        }
      ]
    },
    {
      "cell_type": "code",
      "metadata": {
        "id": "jhx83P4BgGzv",
        "outputId": "e6a5f22b-b17e-4416-a55d-f624480b4516",
        "colab": {
          "base_uri": "https://localhost:8080/",
          "height": 522
        }
      },
      "source": [
        "plt.figure(figsize=(15,8))\n",
        "plt.scatter(df['MPG'], df['Weight'])\n",
        "plt.title('MPG vs Weight relationship', fontsize=17)\n",
        "plt.xlabel('MPG', fontsize=16)\n",
        "plt.ylabel('Weight', fontsize=16)\n",
        "plt.show()"
      ],
      "execution_count": 118,
      "outputs": [
        {
          "output_type": "display_data",
          "data": {
            "image/png": "[encoded data removed]",
            "text/plain": [
              "<Figure size 1080x576 with 1 Axes>"
            ]
          },
          "metadata": {
            "needs_background": "light"
          }
        }
      ]
    },
    {
      "cell_type": "markdown",
      "metadata": {
        "id": "dgImG6r8hMzS"
      },
      "source": [
        "More on this:\n",
        "\n",
        "1. https://seaborn.pydata.org/tutorial.html\n",
        "2. https://matplotlib.org/stable/tutorials/index.html"
      ]
    },
    {
      "cell_type": "markdown",
      "metadata": {
        "id": "vwGX4ftohWdK"
      },
      "source": [
        "## Machine Learning and Prediction\n",
        "\n",
        "Popular algorithms:\n",
        "\n",
        "1. scikit-learn\n",
        "2. Tensorflow, Keras, Pytorch"
      ]
    },
    {
      "cell_type": "code",
      "metadata": {
        "id": "tb5kF7QBgXgG"
      },
      "source": [
        ""
      ],
      "execution_count": null,
      "outputs": []
    }
  ]
}