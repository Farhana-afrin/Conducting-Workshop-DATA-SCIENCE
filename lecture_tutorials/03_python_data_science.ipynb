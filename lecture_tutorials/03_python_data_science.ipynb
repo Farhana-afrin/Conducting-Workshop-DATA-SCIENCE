{
 "cells": [
  {
   "cell_type": "markdown",
   "metadata": {},
   "source": [
    "# Python Data Structure (built-in) "
   ]
  },
  {
   "cell_type": "markdown",
   "metadata": {},
   "source": [
    "### List "
   ]
  },
  {
   "cell_type": "code",
   "execution_count": 70,
   "metadata": {},
   "outputs": [
    {
     "name": "stdout",
     "output_type": "stream",
     "text": [
      "[1, 2, 3, 4, 5]\n",
      "1\n",
      "4\n",
      "5\n",
      "[2, 3, 4]\n"
     ]
    }
   ],
   "source": [
    "# List is the most used data structure in python. It is used to\n",
    "# store element of ANY type ! Can be accessed with indexs.\n",
    "# Also can be mutable\n",
    "\n",
    "L = [1,2,3,4, 5]\n",
    "print(L)\n",
    "print(L[0]) # Print the first element\n",
    "print(L[3]) # Print the fourth element \n",
    "print(L[-1]) #print the last element\n",
    "print(L[1:4]) # print the second to the fourth element"
   ]
  },
  {
   "cell_type": "code",
   "execution_count": 5,
   "metadata": {},
   "outputs": [
    {
     "data": {
      "text/plain": [
       "4"
      ]
     },
     "execution_count": 5,
     "metadata": {},
     "output_type": "execute_result"
    }
   ],
   "source": [
    "# All types of data can be stored inside the list\n",
    "\n",
    "L_diverse = [1, 2.98, 'EMK', False, [12, 4]]\n",
    "L_diverse[0] #access the first element\n",
    "L_diverse[-1][1] #access the second element in the last element (List)"
   ]
  },
  {
   "cell_type": "code",
   "execution_count": 7,
   "metadata": {},
   "outputs": [
    {
     "name": "stdout",
     "output_type": "stream",
     "text": [
      "[12.334, 2, 3, 4, 5]\n"
     ]
    }
   ],
   "source": [
    "#List operation\n",
    "\n",
    "L[0] = 12.334  #assign any value to any position\n",
    "print(L)"
   ]
  },
  {
   "cell_type": "code",
   "execution_count": 8,
   "metadata": {},
   "outputs": [
    {
     "data": {
      "text/plain": [
       "True"
      ]
     },
     "execution_count": 8,
     "metadata": {},
     "output_type": "execute_result"
    }
   ],
   "source": [
    "# check an element\n",
    "4 in L"
   ]
  },
  {
   "cell_type": "code",
   "execution_count": 11,
   "metadata": {},
   "outputs": [
    {
     "data": {
      "text/plain": [
       "[2, 4, 0, 6, 8, 10]"
      ]
     },
     "execution_count": 11,
     "metadata": {},
     "output_type": "execute_result"
    }
   ],
   "source": [
    "#Insert Function --> Useful for inserting data on an index\n",
    "#list.insert(index, value)\n",
    "nums = [2, 4, 6, 8, 10]\n",
    "nums.insert(2, 0)\n",
    "nums"
   ]
  },
  {
   "cell_type": "code",
   "execution_count": 12,
   "metadata": {},
   "outputs": [
    {
     "name": "stdout",
     "output_type": "stream",
     "text": [
      "[2, 4, 0, 6, 8, 10, '166']\n"
     ]
    }
   ],
   "source": [
    "#Append function --> Appends the value to the last location of the list\n",
    "#list.append(value)\n",
    "nums.append('166')\n",
    "print(nums)"
   ]
  },
  {
   "cell_type": "code",
   "execution_count": 14,
   "metadata": {},
   "outputs": [
    {
     "data": {
      "text/plain": [
       "7"
      ]
     },
     "execution_count": 14,
     "metadata": {},
     "output_type": "execute_result"
    }
   ],
   "source": [
    "len(nums) #print the length of the values"
   ]
  },
  {
   "cell_type": "code",
   "execution_count": 17,
   "metadata": {},
   "outputs": [
    {
     "name": "stdout",
     "output_type": "stream",
     "text": [
      "5\n"
     ]
    }
   ],
   "source": [
    "#index funciton --> Find an index of a particular element in the list\n",
    "#list.index(value)\n",
    "z = ['p','q','r','s','p','u']\n",
    "print(z.index('u')) #print the index of the first element. "
   ]
  },
  {
   "cell_type": "code",
   "execution_count": 40,
   "metadata": {},
   "outputs": [
    {
     "name": "stdout",
     "output_type": "stream",
     "text": [
      "2\n",
      "[34, 21, 13, 8, 5, 3, 2, 1, 1]\n",
      "[1, 1, 2, 3, 5, 8, 13, 21, 34]\n",
      "[1, 2, 3, 5, 8, 13, 21, 34]\n",
      "[1, 2, 3, 5, 8, 21, 34]\n"
     ]
    }
   ],
   "source": [
    "# count, reverse and remove\n",
    "N = [1, 1, 2, 3, 5, 8, 13, 21, 34]\n",
    "print(N.count(1)) #how many times we have 1\n",
    "\n",
    "N.reverse() #reverse the list and update it\n",
    "print(N)\n",
    "N.reverse()\n",
    "print(N)\n",
    "\n",
    "N.remove(1)\n",
    "print(N)\n",
    "\n",
    "#Remove --> Removes an element from the list\n",
    "#list.remove(value)\n",
    "N.remove(13)\n",
    "print(N)"
   ]
  },
  {
   "cell_type": "code",
   "execution_count": 42,
   "metadata": {},
   "outputs": [
    {
     "name": "stdout",
     "output_type": "stream",
     "text": [
      "[2, 4, 0, 6, 8, 10]\n",
      "10\n",
      "[2, 4, 0, 6, 8]\n"
     ]
    }
   ],
   "source": [
    "#Pop --> Pops the value out of the list and returns the value\n",
    "#list.pop(index)\n",
    "print(nums) #nums = [2, 4, 0, 6, 8, 10, '166']\n",
    "d = nums.pop(5)\n",
    "print(d)\n",
    "print(nums)"
   ]
  },
  {
   "cell_type": "code",
   "execution_count": 44,
   "metadata": {},
   "outputs": [
    {
     "name": "stdout",
     "output_type": "stream",
     "text": [
      "[2, 5, 8, 11, 14]\n",
      "14\n",
      "2\n",
      "40\n"
     ]
    }
   ],
   "source": [
    "#Numeric Function\n",
    "X = [2, 5, 8, 11, 14]\n",
    "print(X)\n",
    "print(max(X))\n",
    "print(min(X))\n",
    "print(sum(X))"
   ]
  },
  {
   "cell_type": "code",
   "execution_count": 53,
   "metadata": {},
   "outputs": [
    {
     "name": "stdout",
     "output_type": "stream",
     "text": [
      "zz\n",
      "ab\n"
     ]
    }
   ],
   "source": [
    "#Interestingly it can be done for the strings as well\n",
    "L = ['ab', 'abs', 'dsa', 'zz']\n",
    "print(max(L))\n",
    "print(min(L))"
   ]
  },
  {
   "cell_type": "code",
   "execution_count": 64,
   "metadata": {},
   "outputs": [
    {
     "name": "stdout",
     "output_type": "stream",
     "text": [
      "[9, 8, 7, 6, 99, 88, 77, 66]\n",
      "[9, 8, 7, 6, 9, 8, 7, 6]\n"
     ]
    }
   ],
   "source": [
    "#Adding/multiplicating list\n",
    "\n",
    "A = [9, 8, 7, 6]\n",
    "B = [99, 88, 77, 66]\n",
    "print(A + B) #will contain all the element of A and B\n",
    "print(A*2) # Will put all the element of A twice"
   ]
  },
  {
   "cell_type": "code",
   "execution_count": 69,
   "metadata": {},
   "outputs": [
    {
     "name": "stdout",
     "output_type": "stream",
     "text": [
      "[1, 2, 2.98, 3, 7, 21, 44]\n",
      "[44, 21, 7, 3, 2.98, 2, 1]\n"
     ]
    }
   ],
   "source": [
    "# sorting\n",
    "A = [2, 3, 1, 2.98, 44, 7, 21]\n",
    "\n",
    "print(sorted(A)) #ascending\n",
    "print(sorted(A, reverse= True)) #descending "
   ]
  },
  {
   "cell_type": "markdown",
   "metadata": {},
   "source": [
    "### Tuple"
   ]
  },
  {
   "cell_type": "markdown",
   "metadata": {},
   "source": [
    "tuple is 'almost' like list but there are some differences\n",
    "\n",
    "1. tuple is used with parentheses\n",
    "2. tuple is immutable --> most important\n",
    "\n",
    "tuple is used mostly for record keeping sort of things. \n"
   ]
  },
  {
   "cell_type": "code",
   "execution_count": 73,
   "metadata": {},
   "outputs": [
    {
     "name": "stdout",
     "output_type": "stream",
     "text": [
      "<class 'tuple'>\n"
     ]
    }
   ],
   "source": [
    "a = ('the', 'fault', 'in', 'our', 'stars')\n",
    "print(type(a))"
   ]
  },
  {
   "cell_type": "code",
   "execution_count": 74,
   "metadata": {},
   "outputs": [
    {
     "name": "stdout",
     "output_type": "stream",
     "text": [
      "('the', 'fault', 'in', 'our', 'stars')\n"
     ]
    }
   ],
   "source": [
    "print(a)"
   ]
  },
  {
   "cell_type": "code",
   "execution_count": 75,
   "metadata": {},
   "outputs": [
    {
     "name": "stdout",
     "output_type": "stream",
     "text": [
      "the\n",
      "stars\n",
      "('fault', 'in')\n"
     ]
    }
   ],
   "source": [
    "print(a[0])\n",
    "print(a[-1])\n",
    "print(a[1:3])"
   ]
  },
  {
   "cell_type": "code",
   "execution_count": 78,
   "metadata": {},
   "outputs": [
    {
     "ename": "TypeError",
     "evalue": "'tuple' object does not support item assignment",
     "output_type": "error",
     "traceback": [
      "\u001b[1;31m---------------------------------------------------------------------------\u001b[0m",
      "\u001b[1;31mTypeError\u001b[0m                                 Traceback (most recent call last)",
      "\u001b[1;32m<ipython-input-78-b4d9886fe7cd>\u001b[0m in \u001b[0;36m<module>\u001b[1;34m\u001b[0m\n\u001b[0;32m      1\u001b[0m \u001b[1;31m# immutability\u001b[0m\u001b[1;33m\u001b[0m\u001b[1;33m\u001b[0m\u001b[1;33m\u001b[0m\u001b[0m\n\u001b[0;32m      2\u001b[0m \u001b[0mT\u001b[0m \u001b[1;33m=\u001b[0m \u001b[1;33m(\u001b[0m\u001b[1;36m8\u001b[0m\u001b[1;33m,\u001b[0m \u001b[1;36m9\u001b[0m\u001b[1;33m,\u001b[0m \u001b[1;34m'absolute'\u001b[0m\u001b[1;33m,\u001b[0m \u001b[1;33m[\u001b[0m\u001b[1;36m1\u001b[0m\u001b[1;33m,\u001b[0m \u001b[1;36m2\u001b[0m\u001b[1;33m]\u001b[0m\u001b[1;33m)\u001b[0m\u001b[1;33m\u001b[0m\u001b[1;33m\u001b[0m\u001b[0m\n\u001b[1;32m----> 3\u001b[1;33m \u001b[0mT\u001b[0m\u001b[1;33m[\u001b[0m\u001b[1;36m0\u001b[0m\u001b[1;33m]\u001b[0m \u001b[1;33m=\u001b[0m \u001b[1;36m2\u001b[0m \u001b[1;31m#will throw an error\u001b[0m\u001b[1;33m\u001b[0m\u001b[1;33m\u001b[0m\u001b[0m\n\u001b[0m",
      "\u001b[1;31mTypeError\u001b[0m: 'tuple' object does not support item assignment"
     ]
    }
   ],
   "source": [
    "# immutability\n",
    "T = (8, 9, 'absolute', [1, 2])\n",
    "T[0] = 2 #will throw an error"
   ]
  },
  {
   "cell_type": "markdown",
   "metadata": {},
   "source": [
    "**You cannot change any value inside a tuple and you cannot insert or delete as well**"
   ]
  },
  {
   "cell_type": "code",
   "execution_count": 90,
   "metadata": {},
   "outputs": [
    {
     "name": "stdout",
     "output_type": "stream",
     "text": [
      "3\n",
      "7\n",
      "1\n",
      "10\n",
      "1\n"
     ]
    }
   ],
   "source": [
    "#some functions that can be used with tuple\n",
    "Z = (2, 7, 1)\n",
    "print(len(Z))\n",
    "print(max(Z))\n",
    "print(min(Z))\n",
    "print(sum(Z))\n",
    "print(Z.count(2))"
   ]
  },
  {
   "cell_type": "markdown",
   "metadata": {},
   "source": [
    "### Set"
   ]
  },
  {
   "cell_type": "markdown",
   "metadata": {},
   "source": [
    "Set is just like the mathematical set that we studied in school ! It also has a lot of similarities with lists. But the differeces are:\n",
    "\n",
    "1. It works with a curly brace--> {}\n",
    "2. One item can appear only once\n",
    "3. You cannot slice item from set, unlike lists or tuples"
   ]
  },
  {
   "cell_type": "code",
   "execution_count": 92,
   "metadata": {},
   "outputs": [
    {
     "name": "stdout",
     "output_type": "stream",
     "text": [
      "{12, 13, 14}\n"
     ]
    }
   ],
   "source": [
    "A = {12, 13, 14, 12}\n",
    "print(A) #automatically removes the multiple-occurred element"
   ]
  },
  {
   "cell_type": "code",
   "execution_count": 93,
   "metadata": {},
   "outputs": [
    {
     "name": "stdout",
     "output_type": "stream",
     "text": [
      "<class 'set'>\n"
     ]
    }
   ],
   "source": [
    "print(type(A))"
   ]
  },
  {
   "cell_type": "code",
   "execution_count": 94,
   "metadata": {},
   "outputs": [
    {
     "data": {
      "text/plain": [
       "3"
      ]
     },
     "execution_count": 94,
     "metadata": {},
     "output_type": "execute_result"
    }
   ],
   "source": [
    "len(A)"
   ]
  },
  {
   "cell_type": "code",
   "execution_count": 96,
   "metadata": {},
   "outputs": [
    {
     "ename": "TypeError",
     "evalue": "'set' object is not subscriptable",
     "output_type": "error",
     "traceback": [
      "\u001b[1;31m---------------------------------------------------------------------------\u001b[0m",
      "\u001b[1;31mTypeError\u001b[0m                                 Traceback (most recent call last)",
      "\u001b[1;32m<ipython-input-96-16c9290123fd>\u001b[0m in \u001b[0;36m<module>\u001b[1;34m\u001b[0m\n\u001b[1;32m----> 1\u001b[1;33m \u001b[0mprint\u001b[0m\u001b[1;33m(\u001b[0m\u001b[0mA\u001b[0m\u001b[1;33m[\u001b[0m\u001b[1;36m0\u001b[0m\u001b[1;33m]\u001b[0m\u001b[1;33m)\u001b[0m \u001b[1;31m# will throw an error\u001b[0m\u001b[1;33m\u001b[0m\u001b[1;33m\u001b[0m\u001b[0m\n\u001b[0m",
      "\u001b[1;31mTypeError\u001b[0m: 'set' object is not subscriptable"
     ]
    }
   ],
   "source": [
    "print(A[0]) # will throw an error "
   ]
  },
  {
   "cell_type": "markdown",
   "metadata": {},
   "source": [
    "এটা কেমন কথা? What will I do if I want to access an element after operating with set ?"
   ]
  },
  {
   "cell_type": "code",
   "execution_count": 102,
   "metadata": {},
   "outputs": [],
   "source": [
    "# convert to list\n",
    "A_converted = list(A)"
   ]
  },
  {
   "cell_type": "code",
   "execution_count": 103,
   "metadata": {},
   "outputs": [
    {
     "data": {
      "text/plain": [
       "[34, 11, 12, 13, 14]"
      ]
     },
     "execution_count": 103,
     "metadata": {},
     "output_type": "execute_result"
    }
   ],
   "source": [
    "A_converted"
   ]
  },
  {
   "cell_type": "code",
   "execution_count": 97,
   "metadata": {},
   "outputs": [],
   "source": [
    "#Adding element in set\n",
    "A.update({34, 11})"
   ]
  },
  {
   "cell_type": "code",
   "execution_count": 110,
   "metadata": {},
   "outputs": [
    {
     "name": "stdout",
     "output_type": "stream",
     "text": [
      "{34, 11, 13, 14}\n"
     ]
    }
   ],
   "source": [
    "# Removing element from set.\n",
    "# you can use either discard() or remove() method, but it's recommended to use the earlier\n",
    "A.discard(12)\n",
    "print(A)"
   ]
  },
  {
   "cell_type": "markdown",
   "metadata": {},
   "source": [
    "**set operation**"
   ]
  },
  {
   "cell_type": "code",
   "execution_count": 115,
   "metadata": {},
   "outputs": [
    {
     "name": "stdout",
     "output_type": "stream",
     "text": [
      "{1, 2, 3, 4, 5, 7, 9}\n",
      "{1, 9, 7}\n",
      "{3, 5}\n"
     ]
    }
   ],
   "source": [
    "A = {1, 3, 5, 7, 9}\n",
    "B = {1, 2, 4, 7, 9}\n",
    "\n",
    "print(A.union(B))\n",
    "print(A.intersection(B))\n",
    "print(A.difference(B))"
   ]
  },
  {
   "cell_type": "markdown",
   "metadata": {},
   "source": [
    "### Dictionary"
   ]
  },
  {
   "cell_type": "markdown",
   "metadata": {},
   "source": [
    "**##########   Smartest of all the data structures and probably the most important one   #########**"
   ]
  },
  {
   "cell_type": "code",
   "execution_count": 124,
   "metadata": {},
   "outputs": [
    {
     "name": "stdout",
     "output_type": "stream",
     "text": [
      "{'Language': 'Bangla', 'Year of independence': 1971, 'Capital': 'Dhaka', 'Divisions': ['Dhaka', 'Raj', 'Bar', 'Khulna', 'Rangpur', 'Ctg', 'Syl', 'Myman']}\n"
     ]
    }
   ],
   "source": [
    "#dictionary is a key-value paired data structure\n",
    "\n",
    "Bangladesh = {\"Language\":\"Bangla\", \n",
    "              \"Year of independence\":1971, \n",
    "              \"Capital\":\"Dhaka\", \n",
    "              \"Divisions\":[\"Dhaka\", \"Raj\", \"Bar\", \"Khulna\", \"Rangpur\", \"Ctg\", \"Syl\", \"Myman\"]}\n",
    "print(Bangladesh)"
   ]
  },
  {
   "cell_type": "markdown",
   "metadata": {},
   "source": [
    "dictionary = {'key1':'value1', \n",
    "\n",
    "             'key2':'value2...}"
   ]
  },
  {
   "cell_type": "markdown",
   "metadata": {},
   "source": [
    "* Key can be: string, integer, tuple\n",
    "* Value can be: Any type\n",
    "* Keys have to be unique\n",
    "* Values can be duplicated"
   ]
  },
  {
   "cell_type": "code",
   "execution_count": 125,
   "metadata": {},
   "outputs": [
    {
     "name": "stdout",
     "output_type": "stream",
     "text": [
      "Dhaka\n",
      "Bar\n"
     ]
    }
   ],
   "source": [
    "#accessing\n",
    "print(Bangladesh['Capital'])\n",
    "print(Bangladesh['Divisions'][2])\n"
   ]
  },
  {
   "cell_type": "code",
   "execution_count": 126,
   "metadata": {},
   "outputs": [
    {
     "name": "stdout",
     "output_type": "stream",
     "text": [
      "{'Language': 'Bengali', 'Year of independence': 1971, 'Capital': 'Dhaka', 'Divisions': ['Dhaka', 'Raj', 'Bar', 'Khulna', 'Rangpur', 'Ctg', 'Syl', 'Myman']}\n"
     ]
    }
   ],
   "source": [
    "#Update dictionary\n",
    "Bangladesh['Language'] = 'Bengali'\n",
    "print(Bangladesh)"
   ]
  },
  {
   "cell_type": "code",
   "execution_count": 127,
   "metadata": {},
   "outputs": [
    {
     "name": "stdout",
     "output_type": "stream",
     "text": [
      "{'Language': 'Bengali', 'Year of independence': 1971, 'Capital': 'Dhaka', 'Divisions': ['Dhaka', 'Raj', 'Bar', 'Khulna', 'Rangpur', 'Ctg', 'Syl', 'Myman'], 'Population': '160 million'}\n"
     ]
    }
   ],
   "source": [
    "#add new item\n",
    "Bangladesh['Population'] = '160 million'\n",
    "print(Bangladesh)"
   ]
  },
  {
   "cell_type": "code",
   "execution_count": 130,
   "metadata": {},
   "outputs": [
    {
     "name": "stdout",
     "output_type": "stream",
     "text": [
      "{'Language': 'Bengali', 'Year of independence': 1971, 'Capital': 'Dhaka', 'Divisions': ['Dhaka', 'Raj', 'Bar', 'Khulna', 'Rangpur', 'Ctg', 'Syl', 'Myman'], 'Population': '160 million', 'DU': 'General', 'DUET': 'Engineering', 'BSMMU': 'Medical'}\n"
     ]
    }
   ],
   "source": [
    "# We can add two dictionaries\n",
    "Universities = {'DU':'General', 'DUET':'Engineering', 'BSMMU':'Medical'}\n",
    "Bangladesh.update(Universities)\n",
    "print(Bangladesh)"
   ]
  },
  {
   "cell_type": "code",
   "execution_count": 131,
   "metadata": {},
   "outputs": [
    {
     "name": "stdout",
     "output_type": "stream",
     "text": [
      "{'Language': 'Bengali', 'Year of independence': 1971, 'Capital': 'Dhaka', 'Divisions': ['Dhaka', 'Raj', 'Bar', 'Khulna', 'Rangpur', 'Ctg', 'Syl', 'Myman'], 'DU': 'General', 'DUET': 'Engineering', 'BSMMU': 'Medical'}\n"
     ]
    }
   ],
   "source": [
    "# remove item from dictionary\n",
    "del Bangladesh['Population']\n",
    "print(Bangladesh)"
   ]
  },
  {
   "cell_type": "code",
   "execution_count": 134,
   "metadata": {},
   "outputs": [
    {
     "data": {
      "text/plain": [
       "dict_keys(['Language', 'Year of independence', 'Capital', 'Divisions', 'DU', 'DUET', 'BSMMU'])"
      ]
     },
     "execution_count": 134,
     "metadata": {},
     "output_type": "execute_result"
    }
   ],
   "source": [
    "# Find all the keys\n",
    "Bangladesh.keys()"
   ]
  },
  {
   "cell_type": "code",
   "execution_count": 135,
   "metadata": {},
   "outputs": [
    {
     "data": {
      "text/plain": [
       "dict_values(['Bengali', 1971, 'Dhaka', ['Dhaka', 'Raj', 'Bar', 'Khulna', 'Rangpur', 'Ctg', 'Syl', 'Myman'], 'General', 'Engineering', 'Medical'])"
      ]
     },
     "execution_count": 135,
     "metadata": {},
     "output_type": "execute_result"
    }
   ],
   "source": [
    "# Find all the values\n",
    "Bangladesh.values()\n"
   ]
  },
  {
   "cell_type": "markdown",
   "metadata": {},
   "source": [
    "### Convert one data structure to the other"
   ]
  },
  {
   "cell_type": "code",
   "execution_count": 138,
   "metadata": {},
   "outputs": [
    {
     "data": {
      "text/plain": [
       "[1, 4, 'abc', [43, 9.22]]"
      ]
     },
     "execution_count": 138,
     "metadata": {},
     "output_type": "execute_result"
    }
   ],
   "source": [
    "# tuple to list\n",
    "TPL = (1, 4, 'abc', [43, 9.22])\n",
    "list(TPL)"
   ]
  },
  {
   "cell_type": "code",
   "execution_count": 140,
   "metadata": {},
   "outputs": [
    {
     "data": {
      "text/plain": [
       "(1, 9, 2, 'bla')"
      ]
     },
     "execution_count": 140,
     "metadata": {},
     "output_type": "execute_result"
    }
   ],
   "source": [
    "#list to tuple\n",
    "LST = [1, 9, 2, 'bla']\n",
    "tuple(LST)"
   ]
  },
  {
   "cell_type": "code",
   "execution_count": 141,
   "metadata": {},
   "outputs": [
    {
     "data": {
      "text/plain": [
       "{1, 2, 9, 'bla'}"
      ]
     },
     "execution_count": 141,
     "metadata": {},
     "output_type": "execute_result"
    }
   ],
   "source": [
    "#list to set\n",
    "set(LST)"
   ]
  },
  {
   "cell_type": "code",
   "execution_count": 142,
   "metadata": {},
   "outputs": [
    {
     "data": {
      "text/plain": [
       "[9, 4, 1, 7]"
      ]
     },
     "execution_count": 142,
     "metadata": {},
     "output_type": "execute_result"
    }
   ],
   "source": [
    "#set to list\n",
    "ST = {9, 1, 7, 4}\n",
    "list(ST)"
   ]
  },
  {
   "cell_type": "code",
   "execution_count": 143,
   "metadata": {},
   "outputs": [
    {
     "data": {
      "text/plain": [
       "dict_items([('Language', 'Bengali'), ('Year of independence', 1971), ('Capital', 'Dhaka'), ('Divisions', ['Dhaka', 'Raj', 'Bar', 'Khulna', 'Rangpur', 'Ctg', 'Syl', 'Myman']), ('DU', 'General'), ('DUET', 'Engineering'), ('BSMMU', 'Medical')])"
      ]
     },
     "execution_count": 143,
     "metadata": {},
     "output_type": "execute_result"
    }
   ],
   "source": [
    "#dictionary to list\n",
    "Bangladesh.items()"
   ]
  },
  {
   "cell_type": "code",
   "execution_count": 144,
   "metadata": {},
   "outputs": [
    {
     "data": {
      "text/plain": [
       "{'Andrew': 28, 'Martina': 49, 'Gilli': 11}"
      ]
     },
     "execution_count": 144,
     "metadata": {},
     "output_type": "execute_result"
    }
   ],
   "source": [
    "#List to dictionary\n",
    "name_age = [('Andrew', 28), ('Martina', 49), ('Gilli', 11)]\n",
    "dict(name_age)"
   ]
  },
  {
   "cell_type": "markdown",
   "metadata": {},
   "source": [
    "**Summary**\n",
    "* List - indexed storage\n",
    "* Dictionary - Logical Association storage, useful for params\n",
    "* Tuple - Memory optimized and Secure data storage\n",
    "* Set - unindexed data storage, widely useful for removing redundancy and mathematics ops"
   ]
  },
  {
   "cell_type": "code",
   "execution_count": null,
   "metadata": {},
   "outputs": [],
   "source": []
  }
 ],
 "metadata": {
  "kernelspec": {
   "display_name": "Python 3",
   "language": "python",
   "name": "python3"
  },
  "language_info": {
   "codemirror_mode": {
    "name": "ipython",
    "version": 3
   },
   "file_extension": ".py",
   "mimetype": "text/x-python",
   "name": "python",
   "nbconvert_exporter": "python",
   "pygments_lexer": "ipython3",
   "version": "3.7.4"
  }
 },
 "nbformat": 4,
 "nbformat_minor": 2
}
