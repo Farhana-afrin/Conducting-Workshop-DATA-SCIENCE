{
 "cells": [
  {
   "cell_type": "markdown",
   "metadata": {},
   "source": [
    "# Conditional Logic and Loop"
   ]
  },
  {
   "cell_type": "markdown",
   "metadata": {},
   "source": [
    "## Conditional logic\n",
    "\n",
    "the structure is as follows. We can either use one of the followings:\n",
    "\n",
    "* if some_condition:\n",
    "\n",
    "      do_something\n",
    "      \n",
    "* if some_condition:\n",
    "\n",
    "      do_something\n",
    "      \n",
    "   else:\n",
    "   \n",
    "      do_something_else\n",
    "      \n",
    "* if some_condition:\n",
    "\n",
    "      do_something\n",
    "      \n",
    "  elif different_condition:\n",
    "  \n",
    "      do_something_different\n",
    "      \n",
    "  else:\n",
    "  \n",
    "      do_something_else\n",
    "      \n",
    "  "
   ]
  },
  {
   "cell_type": "code",
   "execution_count": 11,
   "metadata": {},
   "outputs": [
    {
     "name": "stdout",
     "output_type": "stream",
     "text": [
      "Can you guess, between 1 to 10 what the number is by two chances?\n",
      "Your 1st gusee is: -1\n",
      "I said between 1 and 10, dude ! \n"
     ]
    }
   ],
   "source": [
    "#Example 1\n",
    "# Guess the number:\n",
    "import random\n",
    "\n",
    "answer = random.randint(1, 10)\n",
    "print('Can you guess, between 1 to 10 what the number is by two chances?')\n",
    "Num = int(input('Your guess is: '))\n",
    "if Num==answer:\n",
    "    print('What a guess! right answer :D')\n",
    "elif Num!=answer and Num<=10 and Num>=1:\n",
    "    if Num>answer:\n",
    "        print('You guessed lower than the correct answer')\n",
    "    else:\n",
    "        print('You guessed higher than the correct answer')\n",
    "else:\n",
    "    print('I said between 1 and 10, dude ! ')"
   ]
  },
  {
   "cell_type": "code",
   "execution_count": 14,
   "metadata": {},
   "outputs": [
    {
     "name": "stdout",
     "output_type": "stream",
     "text": [
      "Please insert the word: damage\n",
      "we have vowel\n"
     ]
    }
   ],
   "source": [
    "#Example 2:\n",
    "# check if the word contains any vowel or not\n",
    "\n",
    "word = input('Please insert the word: ')\n",
    "if 'a' in word or 'e' in word or 'i' in word or 'o' in word or 'u' in word:\n",
    "    print('we have vowel')\n",
    "else:\n",
    "    print('Vowel-less word, not a lot, bro!')\n",
    "    "
   ]
  },
  {
   "cell_type": "markdown",
   "metadata": {},
   "source": [
    "## Loop"
   ]
  },
  {
   "cell_type": "markdown",
   "metadata": {},
   "source": [
    "Python has while loop and for loop. No do-while loop here."
   ]
  },
  {
   "cell_type": "code",
   "execution_count": 18,
   "metadata": {},
   "outputs": [
    {
     "name": "stdout",
     "output_type": "stream",
     "text": [
      "1\n",
      "2\n",
      "3\n",
      "4\n",
      "5\n",
      "6\n",
      "7\n",
      "8\n",
      "9\n"
     ]
    }
   ],
   "source": [
    "# While loop:\n",
    "\n",
    "n = 1\n",
    "while n<10:\n",
    "    print(n)\n",
    "    n = n + 1"
   ]
  },
  {
   "cell_type": "code",
   "execution_count": 22,
   "metadata": {},
   "outputs": [
    {
     "name": "stdout",
     "output_type": "stream",
     "text": [
      "B\n",
      "C\n",
      "D\n",
      "E\n",
      "F\n",
      "Over\n"
     ]
    }
   ],
   "source": [
    "# iterating through a list and using else\n",
    "Alphabets = ['A', 'B', 'C', 'D', 'E', 'F']\n",
    "i = 1\n",
    "while i<=5:\n",
    "    print(Alphabets[i])\n",
    "    i +=1\n",
    "else:\n",
    "    print('The loop is Over')\n",
    "    "
   ]
  },
  {
   "cell_type": "markdown",
   "metadata": {},
   "source": [
    "**For Loop**\n",
    "Most used loop is probably For loop"
   ]
  },
  {
   "cell_type": "code",
   "execution_count": 29,
   "metadata": {},
   "outputs": [
    {
     "name": "stdout",
     "output_type": "stream",
     "text": [
      "Australia\n",
      "Afghanistan\n",
      "Bangladesh\n",
      "India\n",
      "Ireland\n",
      "NewzealandPakistan\n",
      "South-Africa\n",
      "Srilanka\n",
      "West-Indies\n",
      "Zimbabwe\n",
      "Thats all the nation that plays test cricket\n"
     ]
    }
   ],
   "source": [
    "## iterating through a list\n",
    "Countries = ['Australia', 'Afghanistan', 'Bangladesh', 'India', 'Ireland', 'Newzealand' 'Pakistan', 'South-Africa', 'Srilanka', 'West-Indies', 'Zimbabwe']\n",
    "for c in Countries:\n",
    "    print(c)\n",
    "# else:\n",
    "#     print('Thats all the nation that plays test cricket')\n",
    "    "
   ]
  },
  {
   "cell_type": "code",
   "execution_count": 30,
   "metadata": {},
   "outputs": [
    {
     "data": {
      "text/plain": [
       "[0, 1, 2, 3, 4, 5, 6, 7, 8, 9]"
      ]
     },
     "execution_count": 30,
     "metadata": {},
     "output_type": "execute_result"
    }
   ],
   "source": [
    "# what is range?\n",
    "# range creates a list of ordered numbers\n",
    "list(range(10))\n"
   ]
  },
  {
   "cell_type": "markdown",
   "metadata": {},
   "source": [
    "range(starting_number, one_step_after_the_last_number_towards_the_loop, increment)"
   ]
  },
  {
   "cell_type": "code",
   "execution_count": 31,
   "metadata": {},
   "outputs": [
    {
     "data": {
      "text/plain": [
       "[2, 3, 4, 5, 6, 7]"
      ]
     },
     "execution_count": 31,
     "metadata": {},
     "output_type": "execute_result"
    }
   ],
   "source": [
    "list(range(2, 8))"
   ]
  },
  {
   "cell_type": "code",
   "execution_count": 34,
   "metadata": {},
   "outputs": [
    {
     "data": {
      "text/plain": [
       "[2, 5, 8, 11]"
      ]
     },
     "execution_count": 34,
     "metadata": {},
     "output_type": "execute_result"
    }
   ],
   "source": [
    "list(range(2, 14, 3))"
   ]
  },
  {
   "cell_type": "code",
   "execution_count": 38,
   "metadata": {},
   "outputs": [
    {
     "data": {
      "text/plain": [
       "[10, 8, 6, 4, 2]"
      ]
     },
     "execution_count": 38,
     "metadata": {},
     "output_type": "execute_result"
    }
   ],
   "source": [
    "list(range(10, 0, -2))"
   ]
  },
  {
   "cell_type": "code",
   "execution_count": 42,
   "metadata": {},
   "outputs": [
    {
     "name": "stdout",
     "output_type": "stream",
     "text": [
      "Which numbers multiplication table do you want? :33\n",
      "\n",
      "******\n",
      "\n",
      "33 X 1 = 33\n",
      "33 X 2 = 66\n",
      "33 X 3 = 99\n",
      "33 X 4 = 132\n",
      "33 X 5 = 165\n",
      "33 X 6 = 198\n",
      "33 X 7 = 231\n",
      "33 X 8 = 264\n",
      "33 X 9 = 297\n",
      "33 X 10 = 330\n"
     ]
    }
   ],
   "source": [
    "# create a multiplication table of any number\n",
    "# In bangla, we say namta\n",
    "N = int(input('Which numbers multiplication table do you want? :'))\n",
    "print('\\n******\\n')\n",
    "for i in range(1, 11):\n",
    "    print('{} X {} = {}'.format(N, i, N*i))"
   ]
  },
  {
   "cell_type": "code",
   "execution_count": 71,
   "metadata": {},
   "outputs": [
    {
     "name": "stdout",
     "output_type": "stream",
     "text": [
      "Please input an integer number3\n",
      "It's a prime\n"
     ]
    }
   ],
   "source": [
    "# testing of prime number\n",
    "import math\n",
    "\n",
    "N = int(input('Please input an integer number'))\n",
    "prime_flag = 1\n",
    "if N==1:\n",
    "    pass\n",
    "elif N==2:\n",
    "    pass\n",
    "else:\n",
    "    if N%2==0:\n",
    "        prime_flag = 0\n",
    "    else:\n",
    "        for i in range(3, int(math.sqrt(N)+1), 2):\n",
    "            if N%i==0:\n",
    "                prime_flag = 0\n",
    "                break\n",
    "            \n",
    "if prime_flag==0:\n",
    "    print(\"Not a prime\")\n",
    "else:\n",
    "    print(\"It's a prime\")\n",
    "            \n",
    "            "
   ]
  },
  {
   "cell_type": "code",
   "execution_count": null,
   "metadata": {},
   "outputs": [],
   "source": []
  }
 ],
 "metadata": {
  "kernelspec": {
   "display_name": "Python 3",
   "language": "python",
   "name": "python3"
  },
  "language_info": {
   "codemirror_mode": {
    "name": "ipython",
    "version": 3
   },
   "file_extension": ".py",
   "mimetype": "text/x-python",
   "name": "python",
   "nbconvert_exporter": "python",
   "pygments_lexer": "ipython3",
   "version": "3.7.4"
  }
 },
 "nbformat": 4,
 "nbformat_minor": 2
}
