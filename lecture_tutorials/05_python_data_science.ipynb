{
 "cells": [
  {
   "cell_type": "markdown",
   "metadata": {},
   "source": [
    "# Functions"
   ]
  },
  {
   "cell_type": "markdown",
   "metadata": {},
   "source": [
    "def function_name (argument or no argument):\n",
    "\n",
    "    do_something\n",
    "    \n",
    "    return something"
   ]
  },
  {
   "cell_type": "markdown",
   "metadata": {},
   "source": [
    "* Alsmost similar to C++ or Java function but no return type is needed"
   ]
  },
  {
   "cell_type": "markdown",
   "metadata": {},
   "source": [
    "## Function General idea"
   ]
  },
  {
   "cell_type": "code",
   "execution_count": 5,
   "metadata": {},
   "outputs": [],
   "source": [
    "#example 1\n",
    "def name_seperator(full_name):\n",
    "    # THe function will seperate the name in first and last name\n",
    "    splitted_name = full_name.split()\n",
    "    first_name = splitted_name[:-1]\n",
    "    first_name = ' '.join(first_name)\n",
    "    last_name = splitted_name[-1]\n",
    "    return first_name, last_name"
   ]
  },
  {
   "cell_type": "code",
   "execution_count": 12,
   "metadata": {},
   "outputs": [
    {
     "name": "stdout",
     "output_type": "stream",
     "text": [
      "The first name is 'Sadat Shahriar Islam' and the last name is 'Piash'\n"
     ]
    }
   ],
   "source": [
    "first_name, last_name = name_seperator('Sadat Shahriar Islam Piash')\n",
    "print(\"The first name is '{}' and the last name is '{}'\".format(first_name, last_name))"
   ]
  },
  {
   "cell_type": "code",
   "execution_count": 13,
   "metadata": {},
   "outputs": [],
   "source": [
    "#example 2:\n",
    "def average(a, b, c):\n",
    "    return (a+b+c)/3"
   ]
  },
  {
   "cell_type": "code",
   "execution_count": 14,
   "metadata": {},
   "outputs": [
    {
     "name": "stdout",
     "output_type": "stream",
     "text": [
      "4.0\n"
     ]
    }
   ],
   "source": [
    "print(average(1, 5, 6))"
   ]
  },
  {
   "cell_type": "markdown",
   "metadata": {},
   "source": [
    "Great! But what if we want average of 7 elements or 2 elements?"
   ]
  },
  {
   "cell_type": "code",
   "execution_count": 15,
   "metadata": {},
   "outputs": [
    {
     "ename": "TypeError",
     "evalue": "average() missing 1 required positional argument: 'c'",
     "output_type": "error",
     "traceback": [
      "\u001b[1;31m---------------------------------------------------------------------------\u001b[0m",
      "\u001b[1;31mTypeError\u001b[0m                                 Traceback (most recent call last)",
      "\u001b[1;32m<ipython-input-15-17d0040b14f6>\u001b[0m in \u001b[0;36m<module>\u001b[1;34m\u001b[0m\n\u001b[1;32m----> 1\u001b[1;33m \u001b[0maverage\u001b[0m\u001b[1;33m(\u001b[0m\u001b[1;36m3\u001b[0m\u001b[1;33m,\u001b[0m \u001b[1;36m9\u001b[0m\u001b[1;33m)\u001b[0m\u001b[1;33m\u001b[0m\u001b[1;33m\u001b[0m\u001b[0m\n\u001b[0m",
      "\u001b[1;31mTypeError\u001b[0m: average() missing 1 required positional argument: 'c'"
     ]
    }
   ],
   "source": [
    "average(3, 9)"
   ]
  },
  {
   "cell_type": "code",
   "execution_count": 16,
   "metadata": {},
   "outputs": [
    {
     "ename": "TypeError",
     "evalue": "average() takes 3 positional arguments but 8 were given",
     "output_type": "error",
     "traceback": [
      "\u001b[1;31m---------------------------------------------------------------------------\u001b[0m",
      "\u001b[1;31mTypeError\u001b[0m                                 Traceback (most recent call last)",
      "\u001b[1;32m<ipython-input-16-cffbe8478acc>\u001b[0m in \u001b[0;36m<module>\u001b[1;34m\u001b[0m\n\u001b[1;32m----> 1\u001b[1;33m \u001b[0maverage\u001b[0m\u001b[1;33m(\u001b[0m\u001b[1;36m2\u001b[0m\u001b[1;33m,\u001b[0m\u001b[1;36m3\u001b[0m\u001b[1;33m,\u001b[0m\u001b[1;36m4\u001b[0m\u001b[1;33m,\u001b[0m\u001b[1;36m5\u001b[0m\u001b[1;33m,\u001b[0m\u001b[1;36m6\u001b[0m\u001b[1;33m,\u001b[0m\u001b[1;36m7\u001b[0m\u001b[1;33m,\u001b[0m\u001b[1;36m8\u001b[0m\u001b[1;33m,\u001b[0m\u001b[1;36m9\u001b[0m\u001b[1;33m)\u001b[0m\u001b[1;33m\u001b[0m\u001b[1;33m\u001b[0m\u001b[0m\n\u001b[0m",
      "\u001b[1;31mTypeError\u001b[0m: average() takes 3 positional arguments but 8 were given"
     ]
    }
   ],
   "source": [
    "average(2,3,4,5,6,7,8,9)"
   ]
  },
  {
   "cell_type": "markdown",
   "metadata": {},
   "source": [
    "Look closely at the errors. We will discuss it soon ! "
   ]
  },
  {
   "cell_type": "code",
   "execution_count": 17,
   "metadata": {},
   "outputs": [],
   "source": [
    "# We can fix one parameter and that can come handy in some cases\n",
    "#example 2:\n",
    "def new_average(a, b, c=10): #as the value of c being default, we can also call it default argument\n",
    "    return (a+b+c)/3"
   ]
  },
  {
   "cell_type": "code",
   "execution_count": 20,
   "metadata": {},
   "outputs": [
    {
     "name": "stdout",
     "output_type": "stream",
     "text": [
      "14.0\n",
      "11.0\n"
     ]
    }
   ],
   "source": [
    "print(new_average(11, 12, 19))\n",
    "print(new_average(11, 12))"
   ]
  },
  {
   "cell_type": "code",
   "execution_count": 23,
   "metadata": {},
   "outputs": [],
   "source": [
    "# Example 3:\n",
    "# Keyword-argument\n",
    "def person_detail(name, age, address):\n",
    "    f, l = name_seperator(name)\n",
    "    year_of_birth = 2020-age\n",
    "    print(\"Mr. {}'s first name is '{}', last name is '{}'. He was born in {} and his address is {}.\".format(name, f, l, year_of_birth, address))\n",
    "    \n",
    "    "
   ]
  },
  {
   "cell_type": "code",
   "execution_count": 24,
   "metadata": {},
   "outputs": [
    {
     "name": "stdout",
     "output_type": "stream",
     "text": [
      "Mr. Ahmed Hussain's first name is 'Ahmed', last name is 'Hussain'. He was born in 1987 and his address is 12 Hacket Blvd..\n"
     ]
    }
   ],
   "source": [
    "person_detail('Ahmed Hussain', 33, '12 Hacket Blvd.')"
   ]
  },
  {
   "cell_type": "code",
   "execution_count": 25,
   "metadata": {},
   "outputs": [
    {
     "ename": "TypeError",
     "evalue": "unsupported operand type(s) for -: 'int' and 'str'",
     "output_type": "error",
     "traceback": [
      "\u001b[1;31m---------------------------------------------------------------------------\u001b[0m",
      "\u001b[1;31mTypeError\u001b[0m                                 Traceback (most recent call last)",
      "\u001b[1;32m<ipython-input-25-c057ed57632d>\u001b[0m in \u001b[0;36m<module>\u001b[1;34m\u001b[0m\n\u001b[1;32m----> 1\u001b[1;33m \u001b[0mperson_detail\u001b[0m\u001b[1;33m(\u001b[0m\u001b[1;34m'12 Hacket Blvd.'\u001b[0m\u001b[1;33m,\u001b[0m \u001b[1;34m'Ahmed Hussain'\u001b[0m\u001b[1;33m,\u001b[0m \u001b[1;36m33\u001b[0m\u001b[1;33m)\u001b[0m\u001b[1;33m\u001b[0m\u001b[1;33m\u001b[0m\u001b[0m\n\u001b[0m",
      "\u001b[1;32m<ipython-input-23-c37b18063871>\u001b[0m in \u001b[0;36mperson_detail\u001b[1;34m(name, age, address)\u001b[0m\n\u001b[0;32m      3\u001b[0m \u001b[1;32mdef\u001b[0m \u001b[0mperson_detail\u001b[0m\u001b[1;33m(\u001b[0m\u001b[0mname\u001b[0m\u001b[1;33m,\u001b[0m \u001b[0mage\u001b[0m\u001b[1;33m,\u001b[0m \u001b[0maddress\u001b[0m\u001b[1;33m)\u001b[0m\u001b[1;33m:\u001b[0m\u001b[1;33m\u001b[0m\u001b[1;33m\u001b[0m\u001b[0m\n\u001b[0;32m      4\u001b[0m     \u001b[0mf\u001b[0m\u001b[1;33m,\u001b[0m \u001b[0ml\u001b[0m \u001b[1;33m=\u001b[0m \u001b[0mname_seperator\u001b[0m\u001b[1;33m(\u001b[0m\u001b[0mname\u001b[0m\u001b[1;33m)\u001b[0m\u001b[1;33m\u001b[0m\u001b[1;33m\u001b[0m\u001b[0m\n\u001b[1;32m----> 5\u001b[1;33m     \u001b[0myear_of_birth\u001b[0m \u001b[1;33m=\u001b[0m \u001b[1;36m2020\u001b[0m\u001b[1;33m-\u001b[0m\u001b[0mage\u001b[0m\u001b[1;33m\u001b[0m\u001b[1;33m\u001b[0m\u001b[0m\n\u001b[0m\u001b[0;32m      6\u001b[0m     \u001b[0mprint\u001b[0m\u001b[1;33m(\u001b[0m\u001b[1;34m\"Mr. {}'s first name is '{}', last name is '{}'. He was born in {} and his address is {}.\"\u001b[0m\u001b[1;33m.\u001b[0m\u001b[0mformat\u001b[0m\u001b[1;33m(\u001b[0m\u001b[0mname\u001b[0m\u001b[1;33m,\u001b[0m \u001b[0mf\u001b[0m\u001b[1;33m,\u001b[0m \u001b[0ml\u001b[0m\u001b[1;33m,\u001b[0m \u001b[0myear_of_birth\u001b[0m\u001b[1;33m,\u001b[0m \u001b[0maddress\u001b[0m\u001b[1;33m)\u001b[0m\u001b[1;33m)\u001b[0m\u001b[1;33m\u001b[0m\u001b[1;33m\u001b[0m\u001b[0m\n\u001b[0;32m      7\u001b[0m \u001b[1;33m\u001b[0m\u001b[0m\n",
      "\u001b[1;31mTypeError\u001b[0m: unsupported operand type(s) for -: 'int' and 'str'"
     ]
    }
   ],
   "source": [
    "person_detail('12 Hacket Blvd.', 'Ahmed Hussain', 33)"
   ]
  },
  {
   "cell_type": "code",
   "execution_count": 26,
   "metadata": {},
   "outputs": [
    {
     "name": "stdout",
     "output_type": "stream",
     "text": [
      "Mr. Ahmed Hussain's first name is 'Ahmed', last name is 'Hussain'. He was born in 1987 and his address is 12 Hacket Blvd..\n"
     ]
    }
   ],
   "source": [
    "#use keyword argument instead:\n",
    "person_detail(address = '12 Hacket Blvd.', name = 'Ahmed Hussain', age = 33)"
   ]
  },
  {
   "cell_type": "markdown",
   "metadata": {},
   "source": [
    "**Variable length argument:**  args and kwargs"
   ]
  },
  {
   "cell_type": "code",
   "execution_count": 36,
   "metadata": {},
   "outputs": [],
   "source": [
    "# we can solve the problem of average by using the keyword args\n",
    "def whatever_average(*args):\n",
    "    sum = 0\n",
    "    for n in args:\n",
    "        sum = sum + n\n",
    "    return sum/len(args)"
   ]
  },
  {
   "cell_type": "code",
   "execution_count": 37,
   "metadata": {},
   "outputs": [
    {
     "data": {
      "text/plain": [
       "4.166666666666667"
      ]
     },
     "execution_count": 37,
     "metadata": {},
     "output_type": "execute_result"
    }
   ],
   "source": [
    "whatever_average(1, 2, 3, 4, 6, 9)"
   ]
  },
  {
   "cell_type": "code",
   "execution_count": 55,
   "metadata": {},
   "outputs": [],
   "source": [
    "# another way to handle that is using kwargs\n",
    "def kwarg_average(**kwargs):\n",
    "    sum = 0\n",
    "    for keys in kwargs:\n",
    "        sum = sum + kwargs[keys]\n",
    "    return sum/len(kwargs)"
   ]
  },
  {
   "cell_type": "code",
   "execution_count": 58,
   "metadata": {},
   "outputs": [
    {
     "data": {
      "text/plain": [
       "18.0"
      ]
     },
     "execution_count": 58,
     "metadata": {},
     "output_type": "execute_result"
    }
   ],
   "source": [
    "kwarg_average(a=2, b=34)"
   ]
  },
  {
   "cell_type": "code",
   "execution_count": 59,
   "metadata": {},
   "outputs": [],
   "source": [
    "#using arg, kwarg and positional argument together\n",
    "def man_details(name, *args, **kwargs):\n",
    "    f, l = name_seperator(name)\n",
    "    print(\"The first name is '{}' and the last name is '{}'\".format(f, l))\n",
    "    average = whatever_average(*args)\n",
    "    print('His avergae systolic pressusre in last 7 days is {}'.format(average))\n",
    "    \n",
    "    #exercise record: find the maximum time he exercised last week\n",
    "    exercise = []\n",
    "    for k in kwargs:\n",
    "        exercise.append(kwargs[k])\n",
    "    print('Maximum time of exercise last week is {} minutes'.format(max(exercise)))\n",
    "    \n",
    "    "
   ]
  },
  {
   "cell_type": "code",
   "execution_count": 63,
   "metadata": {},
   "outputs": [
    {
     "name": "stdout",
     "output_type": "stream",
     "text": [
      "The first name is 'Ramkani Das' and the last name is 'Gupta'\n",
      "His avergae systolic pressusre in last 7 days is 123.28571428571429\n",
      "Maximum time of exercise last week is 48 minutes\n"
     ]
    }
   ],
   "source": [
    "man_details('Ramkani Das Gupta', 126, 133, 121, 124, 119, 120, 120, d1=12, d2=11, d3=28, d4=18, d5=48, d6=29, d7=31)"
   ]
  },
  {
   "cell_type": "markdown",
   "metadata": {},
   "source": [
    "**But remember, order matters here! You cannot put args after kwargs**"
   ]
  },
  {
   "cell_type": "markdown",
   "metadata": {},
   "source": [
    "## Recursive Function\n",
    "\n",
    "Calling the function inside the function itself"
   ]
  },
  {
   "cell_type": "code",
   "execution_count": 74,
   "metadata": {},
   "outputs": [],
   "source": [
    "# example 1\n",
    "def factorial(N):\n",
    "    \"\"\"Recursive function\n",
    "    to find the factorial of N\"\"\"\n",
    "\n",
    "    if N == 1:\n",
    "        return 1\n",
    "    elif N==0:\n",
    "        return 1\n",
    "    elif N<0:\n",
    "        return 'Cannot compute'\n",
    "    else:\n",
    "        return (N * factorial(N-1))"
   ]
  },
  {
   "cell_type": "code",
   "execution_count": 76,
   "metadata": {},
   "outputs": [
    {
     "data": {
      "text/plain": [
       "'Cannot compute'"
      ]
     },
     "execution_count": 76,
     "metadata": {},
     "output_type": "execute_result"
    }
   ],
   "source": [
    "factorial(-34)"
   ]
  },
  {
   "cell_type": "code",
   "execution_count": 77,
   "metadata": {},
   "outputs": [],
   "source": [
    "# example 2\n",
    "def recur_fibo(n):\n",
    "    '''Compute the fibonacci value of the nth position'''\n",
    "    \n",
    "    if n==1:\n",
    "        return 1\n",
    "    elif n==2:\n",
    "        return 1\n",
    "    else:\n",
    "        return recur_fibo(n-1) + recur_fibo(n-2)"
   ]
  },
  {
   "cell_type": "code",
   "execution_count": 78,
   "metadata": {},
   "outputs": [
    {
     "data": {
      "text/plain": [
       "89"
      ]
     },
     "execution_count": 78,
     "metadata": {},
     "output_type": "execute_result"
    }
   ],
   "source": [
    "recur_fibo(11)"
   ]
  },
  {
   "cell_type": "markdown",
   "metadata": {},
   "source": [
    "## List comprehension\n",
    "\n",
    "One of the WOW features of python ! "
   ]
  },
  {
   "cell_type": "code",
   "execution_count": 84,
   "metadata": {},
   "outputs": [],
   "source": [
    "#find even or odd\n",
    "def all_even(L):\n",
    "    even_list = []\n",
    "    for i in L:\n",
    "        if i%2==0:\n",
    "            even_list.append(i)\n",
    "    return even_list\n",
    "            "
   ]
  },
  {
   "cell_type": "code",
   "execution_count": 86,
   "metadata": {},
   "outputs": [
    {
     "data": {
      "text/plain": [
       "[2, 8, 12]"
      ]
     },
     "execution_count": 86,
     "metadata": {},
     "output_type": "execute_result"
    }
   ],
   "source": [
    "all_even(L = [23, 11, 9, 2, 8, 7, 12])"
   ]
  },
  {
   "cell_type": "code",
   "execution_count": 89,
   "metadata": {},
   "outputs": [],
   "source": [
    "# use list comprehension to shorten the for loop\n",
    "def list_comp_even(L):\n",
    "    even_list = [i for i in L if i%2==0]\n",
    "    return even_list\n"
   ]
  },
  {
   "cell_type": "code",
   "execution_count": 96,
   "metadata": {},
   "outputs": [
    {
     "name": "stdout",
     "output_type": "stream",
     "text": [
      "[0, 1, 2, 5]\n"
     ]
    }
   ],
   "source": [
    "# using enumerate to find the position of the odd numbers:\n",
    "odd_pos = [idx for idx, num in enumerate(L) if num%2!=0]\n",
    "print(odd_pos)"
   ]
  },
  {
   "cell_type": "code",
   "execution_count": null,
   "metadata": {},
   "outputs": [],
   "source": []
  },
  {
   "cell_type": "markdown",
   "metadata": {},
   "source": [
    "## lambda function\n",
    "\n",
    "Function in a same line "
   ]
  },
  {
   "cell_type": "markdown",
   "metadata": {},
   "source": [
    "lambda  variable1,  variable2 : returned_value_after_some_operation"
   ]
  },
  {
   "cell_type": "code",
   "execution_count": 80,
   "metadata": {},
   "outputs": [],
   "source": [
    "average = lambda a, b, c:(a+b+c)/3"
   ]
  },
  {
   "cell_type": "code",
   "execution_count": 81,
   "metadata": {},
   "outputs": [
    {
     "data": {
      "text/plain": [
       "5.333333333333333"
      ]
     },
     "execution_count": 81,
     "metadata": {},
     "output_type": "execute_result"
    }
   ],
   "source": [
    "average(3,5,8)"
   ]
  },
  {
   "cell_type": "markdown",
   "metadata": {},
   "source": [
    "Some facts on lambda function: \n",
    "\n",
    "* It is also called anonymous function\n",
    "* Highly useful in data science and in many aspect, you'll use it with pandas\n",
    "* Not recommended when you use a slightly more complicated functinalities. Always use def in that case\n",
    "* You can use if-else but better write a full function."
   ]
  },
  {
   "cell_type": "markdown",
   "metadata": {},
   "source": [
    "## map"
   ]
  },
  {
   "cell_type": "markdown",
   "metadata": {},
   "source": [
    "* takes 2 arguments. The function and the iterator object\n",
    "* applies the function over all the elements of the iterator"
   ]
  },
  {
   "cell_type": "code",
   "execution_count": 104,
   "metadata": {},
   "outputs": [
    {
     "data": {
      "text/plain": [
       "['4.58257569495584', '3.0i', '4.69041575982343', '2.6457513110645907', '7.0i']"
      ]
     },
     "execution_count": 104,
     "metadata": {},
     "output_type": "execute_result"
    }
   ],
   "source": [
    "#example 1:\n",
    "# Build a function that finds the square-root of all the items in the list\n",
    "\n",
    "import math\n",
    "def square_root(x):\n",
    "    if x<0:\n",
    "        root = math.sqrt(-x)\n",
    "        return str(root) + 'i'\n",
    "    else:\n",
    "        return str(math.sqrt(x))\n",
    "\n",
    "L = [21, -9, 22, 7, -49]\n",
    "list(map(square_root, L))"
   ]
  },
  {
   "cell_type": "code",
   "execution_count": 105,
   "metadata": {},
   "outputs": [
    {
     "data": {
      "text/plain": [
       "[441, 81, 484, 49, 2401]"
      ]
     },
     "execution_count": 105,
     "metadata": {},
     "output_type": "execute_result"
    }
   ],
   "source": [
    "# find the squared values of all the items in the list\n",
    "list(map(lambda x:x**2, L))"
   ]
  },
  {
   "cell_type": "markdown",
   "metadata": {},
   "source": [
    "## Filter"
   ]
  },
  {
   "cell_type": "markdown",
   "metadata": {},
   "source": [
    "Same as map. But as the same sounds: \"filter\" filters out the element that has false output. "
   ]
  },
  {
   "cell_type": "code",
   "execution_count": 110,
   "metadata": {},
   "outputs": [
    {
     "data": {
      "text/plain": [
       "['Asadur Rahman', 'Camila Cabello', 'Sachin Tendulkar']"
      ]
     },
     "execution_count": 110,
     "metadata": {},
     "output_type": "execute_result"
    }
   ],
   "source": [
    "#let's build a baby spam classifier. \n",
    "#In many spam messages or emails, a lot of the fake name contains number in it. \n",
    "#we will ommit filter-out the id's that has number in it\n",
    "\n",
    "def spam(sender_name):\n",
    "    sender_name = list(sender_name)\n",
    "    flag = True\n",
    "    for s in sender_name:\n",
    "        if s.isdigit():\n",
    "            flag = False\n",
    "            break\n",
    "    return flag\n",
    "\n",
    "names = ['Asadur Rahman', 'Dipjol420', 'princess_nigeria_16_years', 'Camila Cabello', 'Sachin Tendulkar']\n",
    "\n",
    "list(filter(spam, names))\n"
   ]
  },
  {
   "cell_type": "code",
   "execution_count": null,
   "metadata": {},
   "outputs": [],
   "source": []
  },
  {
   "cell_type": "code",
   "execution_count": null,
   "metadata": {},
   "outputs": [],
   "source": []
  },
  {
   "cell_type": "code",
   "execution_count": null,
   "metadata": {},
   "outputs": [],
   "source": []
  }
 ],
 "metadata": {
  "kernelspec": {
   "display_name": "Python 3",
   "language": "python",
   "name": "python3"
  },
  "language_info": {
   "codemirror_mode": {
    "name": "ipython",
    "version": 3
   },
   "file_extension": ".py",
   "mimetype": "text/x-python",
   "name": "python",
   "nbconvert_exporter": "python",
   "pygments_lexer": "ipython3",
   "version": "3.7.4"
  }
 },
 "nbformat": 4,
 "nbformat_minor": 2
}
