{
 "cells": [
  {
   "cell_type": "markdown",
   "metadata": {},
   "source": [
    "# Exception Handling "
   ]
  },
  {
   "cell_type": "markdown",
   "metadata": {},
   "source": [
    "* Errors  ---> Generated on compile time\n",
    "  \n",
    "  Exception ---> Generated on run time\n",
    "  \n",
    "  \n",
    "\n",
    "* Exception terminates the code/execution\n",
    "  \n",
    "  Warning allows program executions"
   ]
  },
  {
   "cell_type": "code",
   "execution_count": 1,
   "metadata": {},
   "outputs": [
    {
     "ename": "ZeroDivisionError",
     "evalue": "division by zero",
     "output_type": "error",
     "traceback": [
      "\u001b[1;31m---------------------------------------------------------------------------\u001b[0m",
      "\u001b[1;31mZeroDivisionError\u001b[0m                         Traceback (most recent call last)",
      "\u001b[1;32m<ipython-input-1-cbc7cd4ddfd4>\u001b[0m in \u001b[0;36m<module>\u001b[1;34m\u001b[0m\n\u001b[0;32m      1\u001b[0m \u001b[0mx\u001b[0m \u001b[1;33m=\u001b[0m \u001b[1;36m0\u001b[0m\u001b[1;33m\u001b[0m\u001b[1;33m\u001b[0m\u001b[0m\n\u001b[0;32m      2\u001b[0m \u001b[0my\u001b[0m \u001b[1;33m=\u001b[0m \u001b[1;36m1\u001b[0m\u001b[1;33m\u001b[0m\u001b[1;33m\u001b[0m\u001b[0m\n\u001b[1;32m----> 3\u001b[1;33m \u001b[0mz\u001b[0m \u001b[1;33m=\u001b[0m \u001b[0my\u001b[0m\u001b[1;33m/\u001b[0m\u001b[0mx\u001b[0m\u001b[1;33m\u001b[0m\u001b[1;33m\u001b[0m\u001b[0m\n\u001b[0m",
      "\u001b[1;31mZeroDivisionError\u001b[0m: division by zero"
     ]
    }
   ],
   "source": [
    "x = 0\n",
    "y = 1\n",
    "z = y/x"
   ]
  },
  {
   "cell_type": "markdown",
   "metadata": {},
   "source": [
    "try:\n",
    "\n",
    "     do_something\n",
    "   \n",
    "except:\n",
    "\n",
    "     do_something_else\n",
    "   \n",
    "except:\n",
    "\n",
    "     .....\n",
    "   \n",
    "finally:\n",
    "\n",
    "     ....\n",
    "   \n",
    "   \n",
    "    "
   ]
  },
  {
   "cell_type": "code",
   "execution_count": 12,
   "metadata": {},
   "outputs": [
    {
     "name": "stdout",
     "output_type": "stream",
     "text": [
      "Error Occured!\n"
     ]
    }
   ],
   "source": [
    "#try-except block\n",
    "try:\n",
    "    1 + \"ABC\"\n",
    "except:\n",
    "    print(\"Error Occured!\")"
   ]
  },
  {
   "cell_type": "code",
   "execution_count": 14,
   "metadata": {},
   "outputs": [
    {
     "name": "stdout",
     "output_type": "stream",
     "text": [
      "Error occurred and the error is of <class 'TypeError'>\n"
     ]
    }
   ],
   "source": [
    "# What kind of error?\n",
    "try:\n",
    "    1 + '11'\n",
    "except Exception as e:\n",
    "    print('Error occurred and the error is of {}'.format(type(e)))"
   ]
  },
  {
   "cell_type": "code",
   "execution_count": 2,
   "metadata": {},
   "outputs": [
    {
     "name": "stdout",
     "output_type": "stream",
     "text": [
      "Zero Div Error Generated\n"
     ]
    }
   ],
   "source": [
    "#Handling known possible exception\n",
    "try:\n",
    "    1 + 1\n",
    "    1/0\n",
    "    print(\"Done Calculation\")\n",
    "except ZeroDivisionError:\n",
    "    print(\"Zero Div Error Generated\")"
   ]
  },
  {
   "cell_type": "markdown",
   "metadata": {},
   "source": [
    "Find all the different buitin errors here: https://docs.python.org/3/library/exceptions.html"
   ]
  },
  {
   "cell_type": "code",
   "execution_count": 22,
   "metadata": {},
   "outputs": [
    {
     "name": "stdout",
     "output_type": "stream",
     "text": [
      "Handling TypeError and NameError\n"
     ]
    }
   ],
   "source": [
    "#one try block can have multiple except blocks as well\n",
    "try:\n",
    "    1/1\n",
    "    1 + \"xyz\"\n",
    "    z + 5\n",
    "except ZeroDivisionError:\n",
    "    print(\"Handling ZeroDivError\")\n",
    "except TypeError:\n",
    "    print('Typerror')\n",
    "except (TypeError, NameError, ZeroDivisionError):\n",
    "    print(\"Handling TypeError and NameError\")"
   ]
  },
  {
   "cell_type": "markdown",
   "metadata": {},
   "source": [
    "*the first matching except clause is triggered.*"
   ]
  },
  {
   "cell_type": "markdown",
   "metadata": {},
   "source": [
    "### Finally block\n"
   ]
  },
  {
   "cell_type": "code",
   "execution_count": 25,
   "metadata": {},
   "outputs": [
    {
     "name": "stdout",
     "output_type": "stream",
     "text": [
      "Handled an Error in the try block\n",
      "Always executed whether or not there's an exception\n"
     ]
    }
   ],
   "source": [
    "try:\n",
    "    1/0\n",
    "    print(\"No Exception\")\n",
    "except:\n",
    "    print(\"Handled an Error in the try block\")\n",
    "finally:\n",
    "    print(\"Always executed whether or not there's an exception\")"
   ]
  },
  {
   "cell_type": "markdown",
   "metadata": {},
   "source": [
    "### except-else-finally"
   ]
  },
  {
   "cell_type": "code",
   "execution_count": 32,
   "metadata": {},
   "outputs": [
    {
     "name": "stdout",
     "output_type": "stream",
     "text": [
      "Please input a valid integer : 33\n",
      "There is no error and the value of r is  429\n",
      "Please use the blocks carefully to avoid bursting into error messages.\n"
     ]
    }
   ],
   "source": [
    "#Else can be used with exception. \"Else\" will be executed if the exception block is not executed \n",
    "N = input('Please input a valid integer : ')\n",
    "try:\n",
    "    z = int(N)\n",
    "    r = z*13\n",
    "except Exception as ex:\n",
    "    print(\"Exception Generated is:\",type(ex).__name__)\n",
    "else:\n",
    "    print(\"There is no error and the value of r is \", r)\n",
    "finally:\n",
    "    print(\"Please use the blocks carefully to avoid bursting into error messages.\")"
   ]
  },
  {
   "cell_type": "markdown",
   "metadata": {},
   "source": [
    "### You can also raise exception by your own"
   ]
  },
  {
   "cell_type": "code",
   "execution_count": 2,
   "metadata": {},
   "outputs": [
    {
     "name": "stdout",
     "output_type": "stream",
     "text": [
      "please insert your name:  Abdul420\n"
     ]
    },
    {
     "ename": "ValueError",
     "evalue": "Your name has a number in it! Come one dude, be real.",
     "output_type": "error",
     "traceback": [
      "\u001b[1;31m---------------------------------------------------------------------------\u001b[0m",
      "\u001b[1;31mValueError\u001b[0m                                Traceback (most recent call last)",
      "\u001b[1;32m<ipython-input-2-52e0d91facc9>\u001b[0m in \u001b[0;36m<module>\u001b[1;34m\u001b[0m\n\u001b[0;32m      8\u001b[0m     \u001b[1;32mreturn\u001b[0m \u001b[0mn\u001b[0m\u001b[1;33m\u001b[0m\u001b[1;33m\u001b[0m\u001b[0m\n\u001b[0;32m      9\u001b[0m \u001b[1;33m\u001b[0m\u001b[0m\n\u001b[1;32m---> 10\u001b[1;33m \u001b[0mChecked_name\u001b[0m \u001b[1;33m=\u001b[0m \u001b[1;34m''\u001b[0m\u001b[1;33m.\u001b[0m\u001b[0mjoin\u001b[0m\u001b[1;33m(\u001b[0m\u001b[0mlist\u001b[0m\u001b[1;33m(\u001b[0m\u001b[0mmap\u001b[0m\u001b[1;33m(\u001b[0m\u001b[0mtestname\u001b[0m\u001b[1;33m,\u001b[0m \u001b[0mL\u001b[0m\u001b[1;33m)\u001b[0m\u001b[1;33m)\u001b[0m\u001b[1;33m)\u001b[0m\u001b[1;33m.\u001b[0m\u001b[0mupper\u001b[0m\u001b[1;33m(\u001b[0m\u001b[1;33m)\u001b[0m\u001b[1;33m\u001b[0m\u001b[1;33m\u001b[0m\u001b[0m\n\u001b[0m\u001b[0;32m     11\u001b[0m \u001b[0mprint\u001b[0m\u001b[1;33m(\u001b[0m\u001b[1;34m'So, {} is the blocked version of your checked name and I trust you!'\u001b[0m\u001b[1;33m.\u001b[0m\u001b[0mformat\u001b[0m\u001b[1;33m(\u001b[0m\u001b[0mChecked_name\u001b[0m\u001b[1;33m)\u001b[0m\u001b[1;33m)\u001b[0m\u001b[1;33m\u001b[0m\u001b[1;33m\u001b[0m\u001b[0m\n",
      "\u001b[1;32m<ipython-input-2-52e0d91facc9>\u001b[0m in \u001b[0;36mtestname\u001b[1;34m(N)\u001b[0m\n\u001b[0;32m      5\u001b[0m     \u001b[1;32mfor\u001b[0m \u001b[0mn\u001b[0m \u001b[1;32min\u001b[0m \u001b[0mN\u001b[0m\u001b[1;33m:\u001b[0m\u001b[1;33m\u001b[0m\u001b[1;33m\u001b[0m\u001b[0m\n\u001b[0;32m      6\u001b[0m         \u001b[1;32mif\u001b[0m \u001b[0mn\u001b[0m\u001b[1;33m.\u001b[0m\u001b[0misdigit\u001b[0m\u001b[1;33m(\u001b[0m\u001b[1;33m)\u001b[0m\u001b[1;33m:\u001b[0m\u001b[1;33m\u001b[0m\u001b[1;33m\u001b[0m\u001b[0m\n\u001b[1;32m----> 7\u001b[1;33m             \u001b[1;32mraise\u001b[0m \u001b[0mValueError\u001b[0m\u001b[1;33m(\u001b[0m\u001b[1;34m'Your name has a number in it! Come one dude, be real.'\u001b[0m\u001b[1;33m)\u001b[0m\u001b[1;33m\u001b[0m\u001b[1;33m\u001b[0m\u001b[0m\n\u001b[0m\u001b[0;32m      8\u001b[0m     \u001b[1;32mreturn\u001b[0m \u001b[0mn\u001b[0m\u001b[1;33m\u001b[0m\u001b[1;33m\u001b[0m\u001b[0m\n\u001b[0;32m      9\u001b[0m \u001b[1;33m\u001b[0m\u001b[0m\n",
      "\u001b[1;31mValueError\u001b[0m: Your name has a number in it! Come one dude, be real."
     ]
    }
   ],
   "source": [
    "Name = input('please insert your name:  ')\n",
    "L = list(Name)\n",
    "\n",
    "def testname(N):\n",
    "    for n in N:\n",
    "        if n.isdigit():\n",
    "            raise ValueError('Your name has a number in it! Come one dude, be real.')\n",
    "    return n\n",
    "            \n",
    "Checked_name = ''.join(list(map(testname, L))).upper()\n",
    "print('So, {} is the blocked version of your checked name and I trust you!'.format(Checked_name))"
   ]
  },
  {
   "cell_type": "markdown",
   "metadata": {},
   "source": [
    "Furthrer Check:\n",
    "\n",
    "We can also have assertion error and we can make user-defined error as well. Interested people can check: https://www.geeksforgeeks.org/user-defined-exceptions-python-examples/"
   ]
  },
  {
   "cell_type": "code",
   "execution_count": null,
   "metadata": {},
   "outputs": [],
   "source": []
  }
 ],
 "metadata": {
  "kernelspec": {
   "display_name": "Python 3",
   "language": "python",
   "name": "python3"
  },
  "language_info": {
   "codemirror_mode": {
    "name": "ipython",
    "version": 3
   },
   "file_extension": ".py",
   "mimetype": "text/x-python",
   "name": "python",
   "nbconvert_exporter": "python",
   "pygments_lexer": "ipython3",
   "version": "3.7.4"
  }
 },
 "nbformat": 4,
 "nbformat_minor": 2
}
