{
 "cells": [
  {
   "cell_type": "markdown",
   "metadata": {},
   "source": [
    "# File Handling "
   ]
  },
  {
   "cell_type": "markdown",
   "metadata": {},
   "source": [
    "<font color = 'blue'>Filename</font>: The filename is usually string if the it is in the directory of the script. Otherwise, we have to give the file path.\n",
    "\n",
    "<font color = 'blue'>File Access Mode</font>: Let's discuss what can be used as file access mode and when or which purpose:\n",
    "\n",
    "1. Mode <font color = 'red'>'r'</font>:  The default mode. Keeps the pointer at the top of the file to read the file. \n",
    "2. Mode <font color = 'red'>'r+'</font>: Same as the Mode <font color = 'red'>r</font>. Extra benefit is, we can write the file as well.\n",
    "3. Mode <font color = 'red'>'w'</font>: Opens the file in the write mode. Even if the file is not present, it creates the file and then writes in it. *Problem is, if the file is already present, opening in this mode will overwrite the existing file.*\n",
    "4. Mode <font color = 'red'>'a'</font>: This is called append mode. But good news is, the file pointer stays at the end of the file, so that overwrite doesnot happen. \n",
    "5. Mode <font color = 'red'>'a+'</font>: Same as <font color = 'red'>a</font> (append) mode. Only difference is, we can read the file as well.\n",
    "\n",
    "\n",
    "Binary Modes --> <font color = 'red'>'rb', 'wb', 'ab', 'rb+', 'wb+', 'ab+'</font>\n",
    "\n",
    "For the read operation: read()\n",
    "\n",
    "For the write operation: write()\n",
    "\n",
    "For the closing operation: close()\n",
    "\n",
    "<font color = 'green'>** You must close the file once you open it ! **</font>\n",
    "\n",
    "\n",
    "\n",
    "**This is how you have to handle the file**"
   ]
  },
  {
   "cell_type": "code",
   "execution_count": 11,
   "metadata": {},
   "outputs": [
    {
     "name": "stdout",
     "output_type": "stream",
     "text": [
      "C:\\Users\\Sadat\\Documents\\GDM\\DS_sessions\n"
     ]
    }
   ],
   "source": [
    "## Reading a file that already has been created. \n",
    "#Let's come to my working dir\n",
    "cd Documents\\EMK_Data_science\\Notebooks"
   ]
  },
  {
   "cell_type": "markdown",
   "metadata": {},
   "source": [
    "**Let's write the poem**\n",
    "\n",
    "\n",
    "The woods are lovely, dark and deep,   \n",
    "But I have promises to keep,   \n",
    "And miles to go before I sleep,   \n",
    "And miles to go before I sleep."
   ]
  },
  {
   "cell_type": "code",
   "execution_count": 24,
   "metadata": {},
   "outputs": [
    {
     "name": "stdout",
     "output_type": "stream",
     "text": [
      "The woods are lovely, dark and deep,   \n",
      "But I have promises to keep,   \n",
      "And miles to go before I sleep,   \n",
      "And miles to go before I sleep.\n",
      "\n"
     ]
    }
   ],
   "source": [
    "file = open(\"emk.txt\", 'r')\n",
    "poem = file.read()\n",
    "print(poem)\n",
    "file.close()"
   ]
  },
  {
   "cell_type": "code",
   "execution_count": 27,
   "metadata": {},
   "outputs": [],
   "source": [
    "file = open(\"emk.txt\", 'w')\n",
    "file.write(\"Well I've heard there was a secret chord \\nThat David played and it pleased the Lord \\nBut you don't really care for music, do you?\")\n",
    "file.close()"
   ]
  },
  {
   "cell_type": "code",
   "execution_count": 41,
   "metadata": {},
   "outputs": [
    {
     "name": "stdout",
     "output_type": "stream",
     "text": [
      "20\n",
      "The first 10 character of the hallelujah poem is ####\n",
      " Well I've  ******\n",
      "The next 10 character of the hallelujah poem is ####\n",
      " heard ther ******\n"
     ]
    }
   ],
   "source": [
    "# see some more functionalities. What if we pass a value in read function?\n",
    "file = open(\"emk.txt\", 'r')\n",
    "poem_0 = file.read(10) #read upto first 10 character\n",
    "poem_1 = file.read(10) # then the next 10 characters\n",
    "print(\"The first 10 character of the hallelujah poem is ####\\n\", poem_0, '******')\n",
    "print(\"The next 10 character of the hallelujah poem is ####\\n\", poem_1, '******')\n",
    "file.close()"
   ]
  },
  {
   "cell_type": "code",
   "execution_count": 49,
   "metadata": {},
   "outputs": [
    {
     "name": "stdout",
     "output_type": "stream",
     "text": [
      "The first 10 character of the hallelujah poem is ####\n",
      " Well I've  ******\n",
      "10\n",
      "The next 10 character of the hallelujah poem is ####\n",
      " heard ther ******\n",
      "20\n",
      "0\n"
     ]
    }
   ],
   "source": [
    "file = open(\"emk.txt\", 'r')\n",
    "poem_0 = file.read(10) #read upto first 10 character\n",
    "print(\"The first 10 character of the hallelujah poem is ####\\n\", poem_0, '******')\n",
    "print(file.tell())\n",
    "poem_1 = file.read(10) # then the next 10 characters\n",
    "print(\"The next 10 character of the hallelujah poem is ####\\n\", poem_1, '******')\n",
    "print(file.tell())\n",
    "file.seek(0)\n",
    "print(file.tell())\n",
    "file.close()"
   ]
  },
  {
   "cell_type": "markdown",
   "metadata": {},
   "source": [
    "**Better Practice**"
   ]
  },
  {
   "cell_type": "code",
   "execution_count": 50,
   "metadata": {},
   "outputs": [
    {
     "name": "stdout",
     "output_type": "stream",
     "text": [
      "Well I've heard there was a secret chord \n",
      "That David played and it pleased the Lord \n",
      "But you don't really care for music, do you?\n"
     ]
    }
   ],
   "source": [
    "with open(\"emk.txt\") as file:\n",
    "    poem = file.read()\n",
    "    print(poem)"
   ]
  },
  {
   "cell_type": "code",
   "execution_count": 72,
   "metadata": {},
   "outputs": [
    {
     "name": "stdout",
     "output_type": "stream",
     "text": [
      "[\"Well I've heard there was a secret chord \\n\", 'That David played and it pleased the Lord \\n', \"But you don't really care for music, do you?\"]\n"
     ]
    }
   ],
   "source": [
    "with open(\"emk.txt\", 'r') as file:\n",
    "    poem_line_list = file.readlines()\n",
    "\n",
    "print(poem_line_list)"
   ]
  },
  {
   "cell_type": "code",
   "execution_count": 73,
   "metadata": {},
   "outputs": [
    {
     "data": {
      "text/plain": [
       "3"
      ]
     },
     "execution_count": 73,
     "metadata": {},
     "output_type": "execute_result"
    }
   ],
   "source": [
    "len(poem_line_list)"
   ]
  },
  {
   "cell_type": "code",
   "execution_count": 74,
   "metadata": {},
   "outputs": [
    {
     "data": {
      "text/plain": [
       "[\"Well I've heard there was a secret chord\",\n",
       " 'That David played and it pleased the Lord',\n",
       " \"But you don't really care for music, do you?\"]"
      ]
     },
     "execution_count": 74,
     "metadata": {},
     "output_type": "execute_result"
    }
   ],
   "source": [
    "content = [x.strip() for x in poem_line_list] \n",
    "content\n"
   ]
  }
 ],
 "metadata": {
  "kernelspec": {
   "display_name": "Python 3",
   "language": "python",
   "name": "python3"
  },
  "language_info": {
   "codemirror_mode": {
    "name": "ipython",
    "version": 3
   },
   "file_extension": ".py",
   "mimetype": "text/x-python",
   "name": "python",
   "nbconvert_exporter": "python",
   "pygments_lexer": "ipython3",
   "version": "3.7.4"
  }
 },
 "nbformat": 4,
 "nbformat_minor": 2
}
