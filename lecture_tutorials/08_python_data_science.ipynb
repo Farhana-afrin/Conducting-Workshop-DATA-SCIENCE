{
 "cells": [
  {
   "cell_type": "markdown",
   "metadata": {},
   "source": [
    "# Object Oriented Programming"
   ]
  },
  {
   "cell_type": "markdown",
   "metadata": {},
   "source": [
    "class has two important features: \n",
    "\n",
    "<font color = 'blue'>Properties</font>: variables\n",
    "\n",
    "<font color = 'blue'>Methods</font>: functions"
   ]
  },
  {
   "cell_type": "markdown",
   "metadata": {},
   "source": [
    "**Objects & Instances**\n",
    "\n",
    "Simpy putting, Object is an instance of the class. \n",
    "\n",
    "Example: Orange is an object of the class <font color = 'red'>fruit</font>, Toyota is an object of the class <font color = 'red'>car</font>, 34.988 is an object of the class <font color = 'red'>float</font>\n",
    "\n",
    "\n",
    "**Object: variable of the class type. Also used to access properties of the class**"
   ]
  },
  {
   "cell_type": "code",
   "execution_count": 2,
   "metadata": {},
   "outputs": [],
   "source": [
    "#Defining a class and an object\n",
    "\n",
    "class Country:\n",
    "    '''\n",
    "    The class creates a full data-abstraction of the country data-type ! \n",
    "    '''\n",
    "    def __init__(self, country_name):  \n",
    "        #self is a kind-of-a placeholder. It is used to make a binding between attributes and argument\n",
    "        self.country_name = country_name"
   ]
  },
  {
   "cell_type": "code",
   "execution_count": 3,
   "metadata": {},
   "outputs": [
    {
     "name": "stdout",
     "output_type": "stream",
     "text": [
      "The type of ctry is <class '__main__.Country'>\n",
      "Bangladesh\n",
      "Cuba\n"
     ]
    }
   ],
   "source": [
    "#creating an object\n",
    "ctry1 = Country(\"Bangladesh\")\n",
    "ctry2 = Country(\"Cuba\")\n",
    "print('The type of ctry1 is {}'.format(type(ctry1)))\n",
    "print(ctry1.country_name)\n",
    "print(ctry2.country_name)"
   ]
  },
  {
   "cell_type": "code",
   "execution_count": 6,
   "metadata": {},
   "outputs": [
    {
     "name": "stdout",
     "output_type": "stream",
     "text": [
      "[2, 3, 4, 8, 9, 10, 2.22]\n"
     ]
    }
   ],
   "source": [
    "#34 + 43 #77 \n",
    "L = [2, 3, 4] + [8, 9, 10]\n",
    "L.append(2.22)\n",
    "print(L)"
   ]
  },
  {
   "cell_type": "code",
   "execution_count": 7,
   "metadata": {},
   "outputs": [],
   "source": [
    "#Example 1\n",
    "import math\n",
    "\n",
    "class geometry_coordinate:\n",
    "    \n",
    "    '''The class geometry_coordinate will work on different 2-d coordinate'''\n",
    "    \n",
    "    def __init__(self, x, y):\n",
    "        self.x = x\n",
    "        self.y = y\n",
    "        \n",
    "    def polarize(self):\n",
    "        r = math.sqrt((self.x)**2 + (self.y)**2)\n",
    "        theta = abs(math.atan(self.y/self.x)*180/3.14159)\n",
    "        if self.x<0 and self.y>0:\n",
    "            theta = 180 - theta\n",
    "        elif self.x>0 and self.y<0:\n",
    "            theta = 360 - theta\n",
    "        elif self.x<0 and self.y<0:\n",
    "            theta = 270 - theta\n",
    "            \n",
    "        return r, theta\n",
    "    \n",
    "    def which_quadrant(self):\n",
    "        __, angle = self.polarize()\n",
    "        if angle>0 and angle<90:\n",
    "            return 'first quad'\n",
    "        elif angle>90 and angle<180:\n",
    "            return 'second quad'\n",
    "        elif angle>180 and angle<270:\n",
    "            return 'third quad'\n",
    "        elif angle>270 and angle<360:\n",
    "            return 'fourth quad'\n",
    "        else:\n",
    "            return 'in the axes'\n",
    "        \n",
    "    def distance(self, other):\n",
    "        return math.sqrt((self.x - other.x)**2 + (self.y - other.y)**2)\n",
    "    \n",
    "    def build_line(self, other):\n",
    "        x_coef = self.y - other.y\n",
    "        y_coef = self.x - other.x\n",
    "        const = self.x*other.y + self.y*other.x\n",
    "        print('{}x + {}y + {} = 0'.format(x_coef, y_coef, const))\n",
    "        \n",
    "#     def __str__(self):\n",
    "#         return 'corrdinate' + str((self.x, self.y))"
   ]
  },
  {
   "cell_type": "code",
   "execution_count": 13,
   "metadata": {},
   "outputs": [
    {
     "data": {
      "text/plain": [
       "7.0710678118654755"
      ]
     },
     "execution_count": 13,
     "metadata": {},
     "output_type": "execute_result"
    }
   ],
   "source": [
    "c = geometry_coordinate(-3,0)\n",
    "d = geometry_coordinate(4,1)\n",
    "\n",
    "#geometry_coordinate.distance(c, d)\n",
    "c.distance(d)"
   ]
  },
  {
   "cell_type": "code",
   "execution_count": 11,
   "metadata": {},
   "outputs": [
    {
     "data": {
      "text/plain": [
       "(4.123105625617661, 14.03625532384415)"
      ]
     },
     "execution_count": 11,
     "metadata": {},
     "output_type": "execute_result"
    }
   ],
   "source": [
    "d.polarize()"
   ]
  },
  {
   "cell_type": "code",
   "execution_count": null,
   "metadata": {},
   "outputs": [],
   "source": [
    "print(c)"
   ]
  },
  {
   "cell_type": "markdown",
   "metadata": {},
   "source": [
    "## Inheritence"
   ]
  },
  {
   "cell_type": "code",
   "execution_count": 14,
   "metadata": {},
   "outputs": [],
   "source": [
    "class complex_number(geometry_coordinate):\n",
    "    '''\n",
    "    Creates a comeplex number class that can have all the attributes of geometry_coordinate as well\n",
    "    '''\n",
    "    # In most cases, you donot need to create the __init__ method again. But if you do, you \n",
    "    # have to be careful about accessing the variables.\n",
    "    # check it out: https://stackoverflow.com/questions/5166473/inheritance-and-init-method-in-python\n",
    "    \n",
    "    def show_complex(self):\n",
    "        print(\"({}) + ({})i\".format(self.x, self.y))\n",
    "        \n",
    "    def show_conjugate(self):\n",
    "        print(\"({}) - ({})i\".format(self.x, self.y))\n",
    "        \n",
    "    def build_quad_eqn(self):\n",
    "        SS = self.x\n",
    "        one_degree_part = 2*self.x\n",
    "        const = (self.x)**2 + (self.y)**2\n",
    "        equation = \"x^2 + ({})x + ({})\".format(one_degree_part, const)\n",
    "        return equation\n",
    "    "
   ]
  },
  {
   "cell_type": "code",
   "execution_count": 15,
   "metadata": {},
   "outputs": [
    {
     "data": {
      "text/plain": [
       "'x^2 + (4)x + (13)'"
      ]
     },
     "execution_count": 15,
     "metadata": {},
     "output_type": "execute_result"
    }
   ],
   "source": [
    "a = complex_number(2, -3)\n",
    "a.build_quad_eqn()"
   ]
  },
  {
   "cell_type": "code",
   "execution_count": 16,
   "metadata": {},
   "outputs": [
    {
     "data": {
      "text/plain": [
       "'fourth quad'"
      ]
     },
     "execution_count": 16,
     "metadata": {},
     "output_type": "execute_result"
    }
   ],
   "source": [
    "a.which_quadrant()"
   ]
  },
  {
   "cell_type": "code",
   "execution_count": 17,
   "metadata": {},
   "outputs": [
    {
     "data": {
      "text/plain": [
       "(3.605551275463989, 303.6900199629744)"
      ]
     },
     "execution_count": 17,
     "metadata": {},
     "output_type": "execute_result"
    }
   ],
   "source": [
    "a.polarize()"
   ]
  },
  {
   "cell_type": "markdown",
   "metadata": {},
   "source": [
    "## Method overriding"
   ]
  },
  {
   "cell_type": "code",
   "execution_count": 19,
   "metadata": {},
   "outputs": [],
   "source": [
    "class complex_number_electrical(complex_number):\n",
    "    \n",
    "    def show_complex(self):\n",
    "        print(\"({}) + j({})\".format(self.x, self.y))"
   ]
  },
  {
   "cell_type": "code",
   "execution_count": 20,
   "metadata": {},
   "outputs": [
    {
     "name": "stdout",
     "output_type": "stream",
     "text": [
      "(2) + j(7)\n"
     ]
    }
   ],
   "source": [
    "d = complex_number_electrical(2,7)\n",
    "d.show_complex()"
   ]
  },
  {
   "cell_type": "code",
   "execution_count": 21,
   "metadata": {},
   "outputs": [
    {
     "name": "stdout",
     "output_type": "stream",
     "text": [
      "(2) + (7)i\n"
     ]
    }
   ],
   "source": [
    "e = complex_number(2,7)\n",
    "e.show_complex()"
   ]
  },
  {
   "cell_type": "markdown",
   "metadata": {},
   "source": [
    "## Super class"
   ]
  },
  {
   "cell_type": "code",
   "execution_count": 24,
   "metadata": {},
   "outputs": [],
   "source": [
    "class A:\n",
    "    def __init__(self, name):\n",
    "        print('This is printing an instance: {} of class A'.format(name))\n",
    "        \n",
    "class S:\n",
    "    def __init__(self, name):\n",
    "        print('This is printing an instance: {} of class S'.format(name))\n",
    "        \n",
    "class B(A):\n",
    "    def __init__(self):\n",
    "        print('This is class B')\n",
    "        super().__init__('INHERITED')"
   ]
  },
  {
   "cell_type": "code",
   "execution_count": 25,
   "metadata": {},
   "outputs": [
    {
     "name": "stdout",
     "output_type": "stream",
     "text": [
      "This is class B\n",
      "This is printing an instance: INHERITED of class A\n"
     ]
    }
   ],
   "source": [
    "b = B()"
   ]
  },
  {
   "cell_type": "markdown",
   "metadata": {},
   "source": [
    "## Magic Method and Operator Overloading"
   ]
  },
  {
   "cell_type": "code",
   "execution_count": null,
   "metadata": {},
   "outputs": [],
   "source": [
    "# comparison magic methods: __eq__, __neq__, __lt__, __gt__ etc.\n",
    "    \n",
    "# arithmatic magic methods: __add__, __sub__, __mul__, __div__ etc.\n"
   ]
  },
  {
   "cell_type": "code",
   "execution_count": 28,
   "metadata": {},
   "outputs": [
    {
     "data": {
      "text/plain": [
       "False"
      ]
     },
     "execution_count": 28,
     "metadata": {},
     "output_type": "execute_result"
    }
   ],
   "source": [
    "(13).__eq__(12)"
   ]
  },
  {
   "cell_type": "code",
   "execution_count": 27,
   "metadata": {},
   "outputs": [
    {
     "data": {
      "text/plain": [
       "True"
      ]
     },
     "execution_count": 27,
     "metadata": {},
     "output_type": "execute_result"
    }
   ],
   "source": [
    "12==12"
   ]
  },
  {
   "cell_type": "code",
   "execution_count": 29,
   "metadata": {},
   "outputs": [
    {
     "data": {
      "text/plain": [
       "False"
      ]
     },
     "execution_count": 29,
     "metadata": {},
     "output_type": "execute_result"
    }
   ],
   "source": [
    "(123).__gt__(213)"
   ]
  },
  {
   "cell_type": "code",
   "execution_count": null,
   "metadata": {},
   "outputs": [],
   "source": []
  },
  {
   "cell_type": "code",
   "execution_count": 30,
   "metadata": {},
   "outputs": [],
   "source": [
    "class coordinate_length(geometry_coordinate):\n",
    "    \n",
    "    def __eq__(self, other):\n",
    "        distance_self = math.sqrt((self.x)**2 + (self.y)**2)\n",
    "        distance_other = math.sqrt((other.x)**2 + (other.y)**2)\n",
    "        if distance_self==distance_other:\n",
    "            return True\n",
    "        else:\n",
    "            return False"
   ]
  },
  {
   "cell_type": "code",
   "execution_count": 31,
   "metadata": {},
   "outputs": [
    {
     "data": {
      "text/plain": [
       "True"
      ]
     },
     "execution_count": 31,
     "metadata": {},
     "output_type": "execute_result"
    }
   ],
   "source": [
    "C1 = coordinate_length(2,4)\n",
    "C2 = coordinate_length(-2,4)\n",
    "C1==C2"
   ]
  },
  {
   "cell_type": "code",
   "execution_count": 32,
   "metadata": {},
   "outputs": [],
   "source": [
    "class digits_in_the_text:\n",
    "    def __init__(self, string):\n",
    "        self.string = string\n",
    "    \n",
    "    def __len__(self):\n",
    "        listed = list(self.string)\n",
    "        return len([i for i in listed if i.isdigit()])"
   ]
  },
  {
   "cell_type": "code",
   "execution_count": 33,
   "metadata": {},
   "outputs": [
    {
     "data": {
      "text/plain": [
       "6"
      ]
     },
     "execution_count": 33,
     "metadata": {},
     "output_type": "execute_result"
    }
   ],
   "source": [
    "X = digits_in_the_text('12as32d12')\n",
    "len(X)"
   ]
  },
  {
   "cell_type": "markdown",
   "metadata": {},
   "source": [
    "## Decorators"
   ]
  },
  {
   "cell_type": "markdown",
   "metadata": {},
   "source": [
    "Functions that take another function as argument, add some kind of functionality, then returns another function and donot alter the function that was passed inside."
   ]
  },
  {
   "cell_type": "code",
   "execution_count": 34,
   "metadata": {},
   "outputs": [],
   "source": [
    "def outer(value):\n",
    "    def inner():\n",
    "        print(\"value is\", value)\n",
    "    return inner"
   ]
  },
  {
   "cell_type": "code",
   "execution_count": 35,
   "metadata": {},
   "outputs": [
    {
     "data": {
      "text/plain": [
       "<function __main__.outer.<locals>.inner()>"
      ]
     },
     "execution_count": 35,
     "metadata": {},
     "output_type": "execute_result"
    }
   ],
   "source": [
    "printed = outer(44)\n",
    "printed"
   ]
  },
  {
   "cell_type": "code",
   "execution_count": 36,
   "metadata": {},
   "outputs": [
    {
     "name": "stdout",
     "output_type": "stream",
     "text": [
      "value is 44\n"
     ]
    }
   ],
   "source": [
    "printed()"
   ]
  },
  {
   "cell_type": "code",
   "execution_count": 37,
   "metadata": {},
   "outputs": [],
   "source": [
    "def squared_when_needed(cubbed):\n",
    "    def inside_what_happens(X):\n",
    "        X = [i if i>0 else i**2 for i in X]\n",
    "        return cubbed(X)\n",
    "    return inside_what_happens\n",
    "\n",
    "@squared_when_needed\n",
    "def cubbed(N):\n",
    "    return [i**3 for i in N]\n",
    "        "
   ]
  },
  {
   "cell_type": "code",
   "execution_count": 38,
   "metadata": {},
   "outputs": [
    {
     "data": {
      "text/plain": [
       "[64, 27, 64, 125]"
      ]
     },
     "execution_count": 38,
     "metadata": {},
     "output_type": "execute_result"
    }
   ],
   "source": [
    "cubbed([-2,3,4,5])"
   ]
  },
  {
   "cell_type": "markdown",
   "metadata": {},
   "source": [
    "**decorators can be both class and functions**"
   ]
  },
  {
   "cell_type": "markdown",
   "metadata": {},
   "source": [
    "## classmethods and static method"
   ]
  },
  {
   "cell_type": "code",
   "execution_count": 62,
   "metadata": {},
   "outputs": [],
   "source": [
    "class Product_Price:\n",
    "    \n",
    "    increase = 5 #5% increase in price # it's also called class variable\n",
    "    \n",
    "    def __init__(self, product_name, product_price):\n",
    "        self.name = product_name\n",
    "        self.price = product_price\n",
    "        \n",
    "    def changed_price(self):\n",
    "        changed_price = self.price + self.price*self.increase/100\n",
    "        print(\"The changed price of {} is {}\".format(self.name, changed_price))\n",
    "        \n",
    "    @classmethod\n",
    "    def set_price_increase(cls, new_increase):\n",
    "        cls.increase = new_increase\n",
    "    \n",
    "    @staticmethod\n",
    "    def increase_in_past_3_month(N):\n",
    "        if N[2]>N[1] and N[1]>N[0]:\n",
    "            print(\"The price is increasing rapidly\")\n",
    "        elif (N[2]==N[1] and N[1]==N[0]):\n",
    "            print(\"Market is stable\")\n",
    "        else:\n",
    "            print(\"There is no consistancy in the market\")\n",
    "                "
   ]
  },
  {
   "cell_type": "code",
   "execution_count": 63,
   "metadata": {},
   "outputs": [
    {
     "name": "stdout",
     "output_type": "stream",
     "text": [
      "Market is stable\n"
     ]
    }
   ],
   "source": [
    "Product_Price.increase_in_past_3_month([1,1,1])"
   ]
  },
  {
   "cell_type": "code",
   "execution_count": 64,
   "metadata": {},
   "outputs": [
    {
     "name": "stdout",
     "output_type": "stream",
     "text": [
      "The changed price of Meet is 525.0\n"
     ]
    }
   ],
   "source": [
    "p1 = Product_Price(\"Rice\", 80)\n",
    "p2 = Product_Price(\"Meet\", 500)\n",
    "p2.changed_price()"
   ]
  },
  {
   "cell_type": "code",
   "execution_count": 65,
   "metadata": {},
   "outputs": [
    {
     "name": "stdout",
     "output_type": "stream",
     "text": [
      "The changed price of Rice is 84.0\n"
     ]
    }
   ],
   "source": [
    "p1.changed_price()"
   ]
  },
  {
   "cell_type": "code",
   "execution_count": 66,
   "metadata": {},
   "outputs": [],
   "source": [
    "p1.set_price_increase(9)"
   ]
  },
  {
   "cell_type": "code",
   "execution_count": 67,
   "metadata": {},
   "outputs": [
    {
     "name": "stdout",
     "output_type": "stream",
     "text": [
      "The changed price of Meet is 545.0\n"
     ]
    }
   ],
   "source": [
    "p2.changed_price()"
   ]
  },
  {
   "cell_type": "code",
   "execution_count": 68,
   "metadata": {},
   "outputs": [
    {
     "name": "stdout",
     "output_type": "stream",
     "text": [
      "The changed price of Rice is 87.2\n"
     ]
    }
   ],
   "source": [
    "p1.changed_price()"
   ]
  },
  {
   "cell_type": "code",
   "execution_count": 69,
   "metadata": {},
   "outputs": [
    {
     "name": "stdout",
     "output_type": "stream",
     "text": [
      "Market is stable\n"
     ]
    }
   ],
   "source": [
    "p1.increase_in_past_3_month([2,2,2])"
   ]
  },
  {
   "cell_type": "code",
   "execution_count": null,
   "metadata": {},
   "outputs": [],
   "source": []
  }
 ],
 "metadata": {
  "kernelspec": {
   "display_name": "Python 3",
   "language": "python",
   "name": "python3"
  },
  "language_info": {
   "codemirror_mode": {
    "name": "ipython",
    "version": 3
   },
   "file_extension": ".py",
   "mimetype": "text/x-python",
   "name": "python",
   "nbconvert_exporter": "python",
   "pygments_lexer": "ipython3",
   "version": "3.7.4"
  }
 },
 "nbformat": 4,
 "nbformat_minor": 2
}
