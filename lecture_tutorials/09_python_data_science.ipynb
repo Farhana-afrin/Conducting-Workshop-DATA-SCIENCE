{
 "cells": [
  {
   "cell_type": "markdown",
   "metadata": {},
   "source": [
    "# Numpy: The heart of scientific computing"
   ]
  },
  {
   "cell_type": "markdown",
   "metadata": {},
   "source": [
    "* All the Data Science libraries are based on NumPy (Like pandas, scipy, matplotlib, sklearn, tensorflow)\n",
    "* Mainly creates an n-dimensional array\n",
    "![](np_array.PNG)"
   ]
  },
  {
   "cell_type": "markdown",
   "metadata": {},
   "source": [
    "<font color='red'>**Why not list then?**</font>"
   ]
  },
  {
   "cell_type": "markdown",
   "metadata": {},
   "source": [
    "**1. Numpy is faster**\n",
    "\n",
    "a. Uses less memory \n",
    "see more : https://stackoverflow.com/questions/51240086/how-does-python-numpy-save-memory-compared-to-a-list\n",
    "\n",
    "b. No need to type-check while iterating\n",
    "\n",
    "c. Numpy has contiguous memory blocks, meaning, unlike lists, the memory blocks are next to each other\n",
    "\n",
    "**2. NumPy has many more functionalities including that of in Lists**"
   ]
  },
  {
   "cell_type": "markdown",
   "metadata": {},
   "source": [
    "## start the code"
   ]
  },
  {
   "cell_type": "code",
   "execution_count": 1,
   "metadata": {},
   "outputs": [],
   "source": [
    "# to install: pip install numpy or pip3 install numpy \n",
    "# for notebooks: \"!pip install numpy\"\n",
    "import numpy as np"
   ]
  },
  {
   "cell_type": "code",
   "execution_count": 2,
   "metadata": {},
   "outputs": [
    {
     "name": "stdout",
     "output_type": "stream",
     "text": [
      "[ 1.   13.    2.99 45.    8.  ]\n",
      "The dimension of V array is 1\n"
     ]
    }
   ],
   "source": [
    "V = np.array([1, 13, 2.99, 45, 8])\n",
    "print(V)\n",
    "print(\"The dimension of V array is\", V.ndim)"
   ]
  },
  {
   "cell_type": "markdown",
   "metadata": {},
   "source": [
    "**writing multidimensional array**\n",
    "\n",
    "<font color = 'magenta'>ARRAY = np.array( [row1, row2,... rown] )</font> --> All the rows have to be of same length."
   ]
  },
  {
   "cell_type": "code",
   "execution_count": 3,
   "metadata": {},
   "outputs": [
    {
     "name": "stdout",
     "output_type": "stream",
     "text": [
      "[[ 1  2  3  4]\n",
      " [ 8  9 10 11]\n",
      " [15 16 17 18]]\n"
     ]
    }
   ],
   "source": [
    "A = np.array([[1, 2, 3, 4],[8, 9, 10, 11], [15, 16, 17, 18]])\n",
    "print(A)"
   ]
  },
  {
   "cell_type": "code",
   "execution_count": 4,
   "metadata": {},
   "outputs": [
    {
     "data": {
      "text/plain": [
       "2"
      ]
     },
     "execution_count": 4,
     "metadata": {},
     "output_type": "execute_result"
    }
   ],
   "source": [
    "A.ndim"
   ]
  },
  {
   "cell_type": "code",
   "execution_count": 5,
   "metadata": {},
   "outputs": [
    {
     "name": "stdout",
     "output_type": "stream",
     "text": [
      "[[[0 0 0 0 1]\n",
      "  [0 0 0 1 0]\n",
      "  [0 0 0 1 1]\n",
      "  [1 0 0 1 0]]\n",
      "\n",
      " [[0 1 0 0 0]\n",
      "  [0 1 0 0 0]\n",
      "  [0 1 0 1 0]\n",
      "  [0 1 0 1 1]]\n",
      "\n",
      " [[0 1 1 1 1]\n",
      "  [1 0 0 0 0]\n",
      "  [1 0 0 0 1]\n",
      "  [1 0 0 1 0]]]\n",
      "\n",
      "**************\n",
      "\n",
      "Dimension of the A_3d matrix is 3\n"
     ]
    }
   ],
   "source": [
    "# An interesting 3-D array\n",
    "A_3d = np.array([[[0,0,0,0,1], [0,0,0,1,0], [0,0,0,1,1], [1,0,0,1,0]],\n",
    "                 [[0,1,0,0,0], [0,1,0,0,0], [0,1,0,1,0], [0,1,0,1,1]], \n",
    "                 [[0,1,1,1,1], [1,0,0,0,0], [1,0,0,0,1], [1,0,0,1,0]]])\n",
    "print(A_3d)\n",
    "print(\"\\n**************\\n\")\n",
    "print(\"Dimension of the A_3d matrix is\", A_3d.ndim)\n"
   ]
  },
  {
   "cell_type": "code",
   "execution_count": 6,
   "metadata": {},
   "outputs": [
    {
     "name": "stdout",
     "output_type": "stream",
     "text": [
      "The shape of the array V is (5,)\n",
      "The shape of the array A is (3, 4)\n",
      "The shape of the array A_3d is (3, 4, 5)\n"
     ]
    }
   ],
   "source": [
    "# shape of the array\n",
    "print(\"The shape of the array V is\", V.shape)\n",
    "print(\"The shape of the array A is\", A.shape)\n",
    "print(\"The shape of the array A_3d is\", A_3d.shape)"
   ]
  },
  {
   "cell_type": "markdown",
   "metadata": {},
   "source": [
    "**type and size of the array**"
   ]
  },
  {
   "cell_type": "code",
   "execution_count": 7,
   "metadata": {},
   "outputs": [
    {
     "data": {
      "text/plain": [
       "numpy.ndarray"
      ]
     },
     "execution_count": 7,
     "metadata": {},
     "output_type": "execute_result"
    }
   ],
   "source": [
    "type(A)"
   ]
  },
  {
   "cell_type": "code",
   "execution_count": 8,
   "metadata": {},
   "outputs": [
    {
     "data": {
      "text/plain": [
       "dtype('int32')"
      ]
     },
     "execution_count": 8,
     "metadata": {},
     "output_type": "execute_result"
    }
   ],
   "source": [
    "A.dtype #the data type of the values in array A"
   ]
  },
  {
   "cell_type": "code",
   "execution_count": 9,
   "metadata": {},
   "outputs": [
    {
     "data": {
      "text/plain": [
       "dtype('int8')"
      ]
     },
     "execution_count": 9,
     "metadata": {},
     "output_type": "execute_result"
    }
   ],
   "source": [
    "# we can redefine that\n",
    "A_redefined = np.array([[1, 2, 3, 4],[8, 9, 10, 11], [15, 16, 17, 18]], dtype='int8')\n",
    "A_redefined.dtype"
   ]
  },
  {
   "cell_type": "code",
   "execution_count": 10,
   "metadata": {},
   "outputs": [
    {
     "data": {
      "text/plain": [
       "48"
      ]
     },
     "execution_count": 10,
     "metadata": {},
     "output_type": "execute_result"
    }
   ],
   "source": [
    "A.nbytes"
   ]
  },
  {
   "cell_type": "code",
   "execution_count": 11,
   "metadata": {},
   "outputs": [
    {
     "data": {
      "text/plain": [
       "12"
      ]
     },
     "execution_count": 11,
     "metadata": {},
     "output_type": "execute_result"
    }
   ],
   "source": [
    "A_redefined.nbytes"
   ]
  },
  {
   "cell_type": "code",
   "execution_count": null,
   "metadata": {},
   "outputs": [],
   "source": []
  },
  {
   "cell_type": "markdown",
   "metadata": {},
   "source": [
    "## Access value in the array"
   ]
  },
  {
   "cell_type": "code",
   "execution_count": 13,
   "metadata": {},
   "outputs": [
    {
     "data": {
      "text/plain": [
       "array([[ 1,  2,  3,  4],\n",
       "       [ 8,  9, 10, 11],\n",
       "       [15, 16, 17, 18]])"
      ]
     },
     "execution_count": 13,
     "metadata": {},
     "output_type": "execute_result"
    }
   ],
   "source": [
    "A"
   ]
  },
  {
   "cell_type": "code",
   "execution_count": null,
   "metadata": {},
   "outputs": [],
   "source": [
    "A[2,3] #third row, fourth column"
   ]
  },
  {
   "cell_type": "code",
   "execution_count": 15,
   "metadata": {},
   "outputs": [
    {
     "data": {
      "text/plain": [
       "10"
      ]
     },
     "execution_count": 15,
     "metadata": {},
     "output_type": "execute_result"
    }
   ],
   "source": [
    "A[-2, -2] #second from the last row and second from the last column"
   ]
  },
  {
   "cell_type": "code",
   "execution_count": 17,
   "metadata": {},
   "outputs": [
    {
     "data": {
      "text/plain": [
       "array([ 8,  9, 10, 11])"
      ]
     },
     "execution_count": 17,
     "metadata": {},
     "output_type": "execute_result"
    }
   ],
   "source": [
    "A[1,:] # will print the second row as a vector"
   ]
  },
  {
   "cell_type": "code",
   "execution_count": 18,
   "metadata": {},
   "outputs": [
    {
     "data": {
      "text/plain": [
       "array([ 4, 11, 18])"
      ]
     },
     "execution_count": 18,
     "metadata": {},
     "output_type": "execute_result"
    }
   ],
   "source": [
    "A[:, 3] # all the element of the fourth column"
   ]
  },
  {
   "cell_type": "code",
   "execution_count": 19,
   "metadata": {},
   "outputs": [
    {
     "data": {
      "text/plain": [
       "array([15, 17])"
      ]
     },
     "execution_count": 19,
     "metadata": {},
     "output_type": "execute_result"
    }
   ],
   "source": [
    "#iterating\n",
    "A[2, 0:4:2]  # print the third row but iterate that in every two element"
   ]
  },
  {
   "cell_type": "code",
   "execution_count": 20,
   "metadata": {},
   "outputs": [
    {
     "data": {
      "text/plain": [
       "array([[ 1,  2,  3,  4],\n",
       "       [ 1,  4,  9, 16],\n",
       "       [15, 16, 17, 18]])"
      ]
     },
     "execution_count": 20,
     "metadata": {},
     "output_type": "execute_result"
    }
   ],
   "source": [
    "# replace element \n",
    "A_cp = A.copy() #later\n",
    "A_cp[1,:] = [1, 4, 9, 16] # you can do that without making an array\n",
    "A_cp"
   ]
  },
  {
   "cell_type": "code",
   "execution_count": 21,
   "metadata": {},
   "outputs": [
    {
     "data": {
      "text/plain": [
       "array([[ 1,  2,  3,  4],\n",
       "       [ 1,  4,  9, 16],\n",
       "       [15, 16, 17, 18]])"
      ]
     },
     "execution_count": 21,
     "metadata": {},
     "output_type": "execute_result"
    }
   ],
   "source": [
    "# what if we replace with a float?\n",
    "A_cp[1,:] = [1.88, 4, 9.33, 16]\n",
    "A_cp"
   ]
  },
  {
   "cell_type": "code",
   "execution_count": 27,
   "metadata": {},
   "outputs": [
    {
     "data": {
      "text/plain": [
       "array([[0, 1],\n",
       "       [3, 4]])"
      ]
     },
     "execution_count": 27,
     "metadata": {},
     "output_type": "execute_result"
    }
   ],
   "source": [
    "simple = np.array([[1,2], [3,4]], dtype='int32')\n",
    "simple[0,:] = [0.99, 1.89]\n",
    "simple"
   ]
  },
  {
   "cell_type": "markdown",
   "metadata": {},
   "source": [
    "**It didn't change!**"
   ]
  },
  {
   "cell_type": "code",
   "execution_count": 28,
   "metadata": {},
   "outputs": [
    {
     "data": {
      "text/plain": [
       "dtype('int32')"
      ]
     },
     "execution_count": 28,
     "metadata": {},
     "output_type": "execute_result"
    }
   ],
   "source": [
    "A_cp.dtype"
   ]
  },
  {
   "cell_type": "code",
   "execution_count": 29,
   "metadata": {},
   "outputs": [
    {
     "data": {
      "text/plain": [
       "array([[ 1.,  2.,  3.,  4.],\n",
       "       [ 1.,  4.,  9., 16.],\n",
       "       [15., 16., 17., 18.]])"
      ]
     },
     "execution_count": 29,
     "metadata": {},
     "output_type": "execute_result"
    }
   ],
   "source": [
    "A_cp_float = A_cp.astype('float')\n",
    "A_cp_float"
   ]
  },
  {
   "cell_type": "code",
   "execution_count": 30,
   "metadata": {},
   "outputs": [
    {
     "data": {
      "text/plain": [
       "array([[ 1.  ,  2.  ,  3.  ,  4.  ],\n",
       "       [ 1.88,  4.  ,  9.33, 16.  ],\n",
       "       [15.  , 16.  , 17.  , 18.  ]])"
      ]
     },
     "execution_count": 30,
     "metadata": {},
     "output_type": "execute_result"
    }
   ],
   "source": [
    "A_cp_float[1,:] = [1.88, 4, 9.33, 16]\n",
    "A_cp_float"
   ]
  },
  {
   "cell_type": "code",
   "execution_count": null,
   "metadata": {},
   "outputs": [],
   "source": [
    "A_cp_float.dtype"
   ]
  },
  {
   "cell_type": "markdown",
   "metadata": {},
   "source": [
    "## Initialization matrices"
   ]
  },
  {
   "cell_type": "code",
   "execution_count": 31,
   "metadata": {},
   "outputs": [
    {
     "data": {
      "text/plain": [
       "array([[1., 1., 1., 1., 1., 1.],\n",
       "       [1., 1., 1., 1., 1., 1.],\n",
       "       [1., 1., 1., 1., 1., 1.],\n",
       "       [1., 1., 1., 1., 1., 1.]])"
      ]
     },
     "execution_count": 31,
     "metadata": {},
     "output_type": "execute_result"
    }
   ],
   "source": [
    "All_ones = np.ones((4,6))\n",
    "All_ones"
   ]
  },
  {
   "cell_type": "code",
   "execution_count": 32,
   "metadata": {},
   "outputs": [
    {
     "data": {
      "text/plain": [
       "array([[0., 0., 0., 0., 0., 0.],\n",
       "       [0., 0., 0., 0., 0., 0.],\n",
       "       [0., 0., 0., 0., 0., 0.],\n",
       "       [0., 0., 0., 0., 0., 0.]])"
      ]
     },
     "execution_count": 32,
     "metadata": {},
     "output_type": "execute_result"
    }
   ],
   "source": [
    "All_zeros = np.zeros((4,6))\n",
    "All_zeros"
   ]
  },
  {
   "cell_type": "code",
   "execution_count": 33,
   "metadata": {},
   "outputs": [
    {
     "data": {
      "text/plain": [
       "array([[5, 5, 5, 5, 5, 5, 5, 5],\n",
       "       [5, 5, 5, 5, 5, 5, 5, 5],\n",
       "       [5, 5, 5, 5, 5, 5, 5, 5]])"
      ]
     },
     "execution_count": 33,
     "metadata": {},
     "output_type": "execute_result"
    }
   ],
   "source": [
    "All_5s = np.full((3,8), 5)\n",
    "All_5s"
   ]
  },
  {
   "cell_type": "code",
   "execution_count": 34,
   "metadata": {},
   "outputs": [
    {
     "data": {
      "text/plain": [
       "array([[0.48557178, 0.92949923],\n",
       "       [0.12927275, 0.76135243],\n",
       "       [0.136967  , 0.6315703 ],\n",
       "       [0.5498768 , 0.63562025]])"
      ]
     },
     "execution_count": 34,
     "metadata": {},
     "output_type": "execute_result"
    }
   ],
   "source": [
    "# random number\n",
    "rand_array = np.random.rand(4,2) # notice the difference between all zeros or all ones and this one\n",
    "rand_array"
   ]
  },
  {
   "cell_type": "code",
   "execution_count": 40,
   "metadata": {},
   "outputs": [
    {
     "data": {
      "text/plain": [
       "array([[-2,  6, -3],\n",
       "       [ 7,  3,  1],\n",
       "       [ 3, -1,  9],\n",
       "       [ 2,  7,  9],\n",
       "       [ 2, -3,  9],\n",
       "       [ 9,  9,  6],\n",
       "       [ 2,  0,  3]])"
      ]
     },
     "execution_count": 40,
     "metadata": {},
     "output_type": "execute_result"
    }
   ],
   "source": [
    "rand_array = np.random.randint(-3, 10, size = (7,3)) # A random array that values take between -3 to 9\n",
    "rand_array"
   ]
  },
  {
   "cell_type": "code",
   "execution_count": 43,
   "metadata": {},
   "outputs": [
    {
     "data": {
      "text/plain": [
       "array([[ 0,  3,  5],\n",
       "       [ 6,  3,  5],\n",
       "       [ 9,  8,  4],\n",
       "       [ 7,  6,  0],\n",
       "       [ 3,  8,  9],\n",
       "       [-2, -1,  8],\n",
       "       [ 2,  2, -3]])"
      ]
     },
     "execution_count": 43,
     "metadata": {},
     "output_type": "execute_result"
    }
   ],
   "source": [
    "# Random seed\n",
    "np.random.seed(23)\n",
    "rand_array = np.random.randint(-3, 10, size = (7,3)) # A random array that values take between -3 to 9\n",
    "rand_array"
   ]
  },
  {
   "cell_type": "code",
   "execution_count": 78,
   "metadata": {},
   "outputs": [
    {
     "data": {
      "text/plain": [
       "array([ 1.91411474,  0.50676878, 12.55972778,  2.3112097 ,  5.89643553,\n",
       "        4.93506483, 11.63324908,  5.9861032 , 11.108019  ,  9.68850353])"
      ]
     },
     "execution_count": 78,
     "metadata": {},
     "output_type": "execute_result"
    }
   ],
   "source": [
    "np.random.uniform(low=0.5, high=13.3, size=(10,))"
   ]
  },
  {
   "cell_type": "code",
   "execution_count": 47,
   "metadata": {},
   "outputs": [
    {
     "data": {
      "text/plain": [
       "array([[1., 0., 0., 0., 0., 0., 0., 0., 0., 0., 0., 0., 0., 0., 0.],\n",
       "       [0., 1., 0., 0., 0., 0., 0., 0., 0., 0., 0., 0., 0., 0., 0.],\n",
       "       [0., 0., 1., 0., 0., 0., 0., 0., 0., 0., 0., 0., 0., 0., 0.],\n",
       "       [0., 0., 0., 1., 0., 0., 0., 0., 0., 0., 0., 0., 0., 0., 0.],\n",
       "       [0., 0., 0., 0., 1., 0., 0., 0., 0., 0., 0., 0., 0., 0., 0.],\n",
       "       [0., 0., 0., 0., 0., 1., 0., 0., 0., 0., 0., 0., 0., 0., 0.],\n",
       "       [0., 0., 0., 0., 0., 0., 1., 0., 0., 0., 0., 0., 0., 0., 0.],\n",
       "       [0., 0., 0., 0., 0., 0., 0., 1., 0., 0., 0., 0., 0., 0., 0.],\n",
       "       [0., 0., 0., 0., 0., 0., 0., 0., 1., 0., 0., 0., 0., 0., 0.],\n",
       "       [0., 0., 0., 0., 0., 0., 0., 0., 0., 1., 0., 0., 0., 0., 0.],\n",
       "       [0., 0., 0., 0., 0., 0., 0., 0., 0., 0., 1., 0., 0., 0., 0.],\n",
       "       [0., 0., 0., 0., 0., 0., 0., 0., 0., 0., 0., 1., 0., 0., 0.],\n",
       "       [0., 0., 0., 0., 0., 0., 0., 0., 0., 0., 0., 0., 1., 0., 0.],\n",
       "       [0., 0., 0., 0., 0., 0., 0., 0., 0., 0., 0., 0., 0., 1., 0.],\n",
       "       [0., 0., 0., 0., 0., 0., 0., 0., 0., 0., 0., 0., 0., 0., 1.]])"
      ]
     },
     "execution_count": 47,
     "metadata": {},
     "output_type": "execute_result"
    }
   ],
   "source": [
    "# identity matrix\n",
    "iden_array = np.identity(15) # creates a nXn identity matrix \n",
    "iden_array"
   ]
  },
  {
   "cell_type": "code",
   "execution_count": 50,
   "metadata": {},
   "outputs": [
    {
     "name": "stdout",
     "output_type": "stream",
     "text": [
      "[[2 3 4]\n",
      " [2 3 4]\n",
      " [2 3 4]]\n"
     ]
    }
   ],
   "source": [
    "# repeat matrix\n",
    "C = np.array([[2,3,4]])\n",
    "C_repeated = np.repeat(C, 3, axis=0) # axis 0 means, repeat the rows. axis 1 means, repeat the columns\n",
    "print(C_repeated)"
   ]
  },
  {
   "cell_type": "code",
   "execution_count": 51,
   "metadata": {},
   "outputs": [
    {
     "data": {
      "text/plain": [
       "array([[ 1,  1,  1,  2,  2,  2,  3,  3,  3,  4,  4,  4],\n",
       "       [ 8,  8,  8,  9,  9,  9, 10, 10, 10, 11, 11, 11],\n",
       "       [15, 15, 15, 16, 16, 16, 17, 17, 17, 18, 18, 18]])"
      ]
     },
     "execution_count": 51,
     "metadata": {},
     "output_type": "execute_result"
    }
   ],
   "source": [
    "np.repeat(A, 3, axis=1)"
   ]
  },
  {
   "cell_type": "markdown",
   "metadata": {},
   "source": [
    "## copy method"
   ]
  },
  {
   "cell_type": "code",
   "execution_count": 52,
   "metadata": {},
   "outputs": [
    {
     "data": {
      "text/plain": [
       "array([[ 2,  3,  5,  7],\n",
       "       [11, 13, 17, 19],\n",
       "       [23, 29, 31, 37]])"
      ]
     },
     "execution_count": 52,
     "metadata": {},
     "output_type": "execute_result"
    }
   ],
   "source": [
    "D = np.array([[2,3,5,7],[11,13,17,19],[23,29,31,37]])\n",
    "D"
   ]
  },
  {
   "cell_type": "code",
   "execution_count": 53,
   "metadata": {},
   "outputs": [
    {
     "data": {
      "text/plain": [
       "array([[ 2,  3,  5,  7],\n",
       "       [11, 13, 17, 19],\n",
       "       [ 0,  0,  0,  0]])"
      ]
     },
     "execution_count": 53,
     "metadata": {},
     "output_type": "execute_result"
    }
   ],
   "source": [
    "D_equal = D\n",
    "D_equal[2,:] = [0, 0, 0, 0]\n",
    "D_equal"
   ]
  },
  {
   "cell_type": "code",
   "execution_count": 54,
   "metadata": {},
   "outputs": [
    {
     "data": {
      "text/plain": [
       "array([[ 2,  3,  5,  7],\n",
       "       [11, 13, 17, 19],\n",
       "       [ 0,  0,  0,  0]])"
      ]
     },
     "execution_count": 54,
     "metadata": {},
     "output_type": "execute_result"
    }
   ],
   "source": [
    "D"
   ]
  },
  {
   "cell_type": "markdown",
   "metadata": {},
   "source": [
    "<font color = 'red'>We can see that D has changed as well !</font>"
   ]
  },
  {
   "cell_type": "code",
   "execution_count": 55,
   "metadata": {},
   "outputs": [
    {
     "data": {
      "text/plain": [
       "array([[ 2,  3,  5,  7],\n",
       "       [11, 13, 17, 19],\n",
       "       [ 0,  0,  0,  0]])"
      ]
     },
     "execution_count": 55,
     "metadata": {},
     "output_type": "execute_result"
    }
   ],
   "source": [
    "D_cp = D.copy()\n",
    "D_cp[2,:] = [1, 0, 1, 1]\n",
    "D"
   ]
  },
  {
   "cell_type": "code",
   "execution_count": 56,
   "metadata": {},
   "outputs": [
    {
     "data": {
      "text/plain": [
       "array([[ 2,  3,  5,  7],\n",
       "       [11, 13, 17, 19],\n",
       "       [ 1,  0,  1,  1]])"
      ]
     },
     "execution_count": 56,
     "metadata": {},
     "output_type": "execute_result"
    }
   ],
   "source": [
    "D_cp"
   ]
  },
  {
   "cell_type": "markdown",
   "metadata": {},
   "source": [
    "## Computation"
   ]
  },
  {
   "cell_type": "code",
   "execution_count": 57,
   "metadata": {},
   "outputs": [
    {
     "name": "stdout",
     "output_type": "stream",
     "text": [
      "[[ 23  36  17]\n",
      " [ 30  26 108]]\n",
      "***************\n",
      "[[-19  30  -9]\n",
      " [-28  10  90]]\n",
      "***************\n",
      "[[ 42  99  52]\n",
      " [ 29 144 891]]\n",
      "***************\n",
      "[[ 0.0952381  11.          0.30769231]\n",
      " [ 0.03448276  2.25       11.        ]]\n"
     ]
    }
   ],
   "source": [
    "AR1 = np.array([[2,33,4], [1, 18, 99]])\n",
    "AR2 = np.array([[21,3,13], [29, 8, 9]])\n",
    "print(AR1 + AR2) # element to element add\n",
    "print('***************')\n",
    "print(AR1-AR2) # element to element subtract\n",
    "print('***************')\n",
    "print(AR1*AR2)# element to element multiplication\n",
    "print('***************')\n",
    "print(AR1/AR2)# element to element division"
   ]
  },
  {
   "cell_type": "code",
   "execution_count": 70,
   "metadata": {},
   "outputs": [
    {
     "name": "stdout",
     "output_type": "stream",
     "text": [
      "[[ 14  45  16]\n",
      " [ 13  30 111]]\n",
      "***************\n",
      "[[  3  45   5]\n",
      " [  2  30 100]]\n",
      "***************\n"
     ]
    }
   ],
   "source": [
    "## broadcasting the array\n",
    "print(AR1 + 12) # makes an array of same size of AR1 and then adds it\n",
    "print('***************')\n",
    "print(AR1 + np.array([[1, 12, 1]])) #copy the row and then adds it\n",
    "print('***************')"
   ]
  },
  {
   "cell_type": "code",
   "execution_count": 74,
   "metadata": {},
   "outputs": [
    {
     "data": {
      "text/plain": [
       "1.0"
      ]
     },
     "execution_count": 74,
     "metadata": {},
     "output_type": "execute_result"
    }
   ],
   "source": [
    "#the sin/cos are also here!\n",
    "np.sin(3.141592653/2)"
   ]
  },
  {
   "cell_type": "markdown",
   "metadata": {},
   "source": [
    "## Dealing with Linear Algebra"
   ]
  },
  {
   "cell_type": "code",
   "execution_count": 60,
   "metadata": {},
   "outputs": [
    {
     "data": {
      "text/plain": [
       "array([[24, 13, 15, 40],\n",
       "       [14, 14, 18, 43]])"
      ]
     },
     "execution_count": 60,
     "metadata": {},
     "output_type": "execute_result"
    }
   ],
   "source": [
    "A1 = np.array([[2,3,4],[4,1,1]]) # A 2X3 matrix\n",
    "A2 = np.array([[2,3,4,9],\n",
    "               [4,1,1,6],\n",
    "               [2,1,1,1]]) # A 3X4 matrix\n",
    "np.matmul(A1, A2) # we will have a 2X4 matrix"
   ]
  },
  {
   "cell_type": "code",
   "execution_count": 61,
   "metadata": {},
   "outputs": [
    {
     "data": {
      "text/plain": [
       "9.999999999999998"
      ]
     },
     "execution_count": 61,
     "metadata": {},
     "output_type": "execute_result"
    }
   ],
   "source": [
    "# Find the determinant\n",
    "B1 = np.array([[1,3],[-2,4]])\n",
    "np.linalg.det(B1)"
   ]
  },
  {
   "cell_type": "markdown",
   "metadata": {},
   "source": [
    "Even more: https://numpy.org/doc/stable/reference/routines.linalg.html"
   ]
  },
  {
   "cell_type": "markdown",
   "metadata": {},
   "source": [
    "## Statistical calculations"
   ]
  },
  {
   "cell_type": "code",
   "execution_count": 68,
   "metadata": {},
   "outputs": [
    {
     "data": {
      "text/plain": [
       "array([[2, 3, 4, 9],\n",
       "       [4, 1, 1, 6],\n",
       "       [2, 1, 1, 1]])"
      ]
     },
     "execution_count": 68,
     "metadata": {},
     "output_type": "execute_result"
    }
   ],
   "source": [
    "A2"
   ]
  },
  {
   "cell_type": "code",
   "execution_count": 62,
   "metadata": {},
   "outputs": [
    {
     "name": "stdout",
     "output_type": "stream",
     "text": [
      "[2.66666667 1.66666667 2.         5.33333333]\n",
      "[4.5  3.   1.25]\n",
      "2.9166666666666665\n"
     ]
    }
   ],
   "source": [
    "print(np.mean(A2, axis = 0)) # move row-wise \n",
    "print(np.mean(A2, axis = 1)) # move column wise\n",
    "print(np.mean(A2)) #mean of all values\n"
   ]
  },
  {
   "cell_type": "markdown",
   "metadata": {},
   "source": [
    "Explore min, max, quantile and so on..."
   ]
  },
  {
   "cell_type": "markdown",
   "metadata": {},
   "source": [
    "## Organizing an array"
   ]
  },
  {
   "cell_type": "code",
   "execution_count": 63,
   "metadata": {},
   "outputs": [
    {
     "data": {
      "text/plain": [
       "array([[2, 3, 4, 9],\n",
       "       [4, 1, 1, 6],\n",
       "       [2, 1, 1, 1]])"
      ]
     },
     "execution_count": 63,
     "metadata": {},
     "output_type": "execute_result"
    }
   ],
   "source": [
    "A2"
   ]
  },
  {
   "cell_type": "code",
   "execution_count": 66,
   "metadata": {},
   "outputs": [
    {
     "data": {
      "text/plain": [
       "array([[2],\n",
       "       [3],\n",
       "       [4],\n",
       "       [9],\n",
       "       [4],\n",
       "       [1],\n",
       "       [1],\n",
       "       [6],\n",
       "       [2],\n",
       "       [1],\n",
       "       [1],\n",
       "       [1]])"
      ]
     },
     "execution_count": 66,
     "metadata": {},
     "output_type": "execute_result"
    }
   ],
   "source": [
    "## Reshaping an array\n",
    "A2.reshape(12,1)\n"
   ]
  },
  {
   "cell_type": "code",
   "execution_count": 69,
   "metadata": {},
   "outputs": [
    {
     "name": "stdout",
     "output_type": "stream",
     "text": [
      "[[ 2.   3.1  3. ]\n",
      " [ 9.  11.  13. ]\n",
      " [ 2.   3.1  3. ]]\n",
      "[[ 2.   3.1  3.   9.  11.  13. ]]\n"
     ]
    }
   ],
   "source": [
    "## stacking up the rows\n",
    "R1 = np.array([[2, 3.1, 3]])\n",
    "R2 = np.array([[9, 11, 13]])\n",
    "print(np.vstack((R1,R2, R1)))\n",
    "print(np.hstack((R1,R2)))"
   ]
  }
 ],
 "metadata": {
  "kernelspec": {
   "display_name": "Python 3",
   "language": "python",
   "name": "python3"
  },
  "language_info": {
   "codemirror_mode": {
    "name": "ipython",
    "version": 3
   },
   "file_extension": ".py",
   "mimetype": "text/x-python",
   "name": "python",
   "nbconvert_exporter": "python",
   "pygments_lexer": "ipython3",
   "version": "3.7.4"
  }
 },
 "nbformat": 4,
 "nbformat_minor": 2
}
