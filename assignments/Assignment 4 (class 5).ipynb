{
 "cells": [
  {
   "cell_type": "markdown",
   "metadata": {},
   "source": [
    "# Question 1 : total 10 mark"
   ]
  },
  {
   "cell_type": "markdown",
   "metadata": {},
   "source": [
    "Build a class named **Shape**. Inside the class build method named **area**, and **perimeter**. In the **init** method, take 4 arguments that are **default** arguments. \n",
    "\n",
    "\n",
    "After the class and method description, create three **shape** objects: circle, rectangle and triangle. Find the perimeter and area of these shapes by calling the **perimeter** and **area** method. "
   ]
  },
  {
   "cell_type": "code",
   "execution_count": null,
   "metadata": {},
   "outputs": [],
   "source": [
    "class shape:\n",
    "    \n",
    "    pi = 3.1416\n",
    "    def __init__(self, measure1=0, measure2=0, measure3=0, measure4=0):\n",
    "        # your code here\n",
    "        pass\n",
    "    def area(#whatever):\n",
    "        if #condition_circle:condition of the circle. if user give only one input, that is a circle.\n",
    "            # your code here\n",
    "        elif #condition triangle:if user give three input, then that's a triangle. Check for the triangle condition as well! \n",
    "            #your code here\n",
    "        elif #condition of a rectangle: if user gives four input and two of them are same, make it a rectangle\n",
    "            #your code here\n",
    "        else:\n",
    "            return \"We are not prepared for such shapes yet.\"\n",
    "        \n",
    "    def perimeter(#whatever):\n",
    "        # your code here. Find the pattern of the area function\n",
    "        \n",
    "\n",
    "circle = shape(10) \n",
    "print(circle.area())#should print 314.16\n",
    "print(circle.perimeter()) # 62.832\n",
    "rectangle = shape(2,7,9,1)\n",
    "print((rectangle.area()))\n",
    "#do the same for triangle as well with three arguments\n",
    "\n",
    "        "
   ]
  },
  {
   "cell_type": "markdown",
   "metadata": {},
   "source": [
    "## Question 2: total 10 mark\n",
    "\n",
    "Do the task of Question 1 with \\*args or **kwargs (any one of these) in the init method. "
   ]
  },
  {
   "cell_type": "code",
   "execution_count": null,
   "metadata": {},
   "outputs": [],
   "source": [
    "# your code here"
   ]
  },
  {
   "cell_type": "markdown",
   "metadata": {},
   "source": [
    "## Question 3: total 20 marks"
   ]
  },
  {
   "cell_type": "markdown",
   "metadata": {},
   "source": [
    "Build a class named **University**. Make the method \"print_motto\" to print a motto, another method \"print_address\" that prints the location of the university. Another funtion named \"total_doctorate_teachers\" will take input of the total teachers amount and print the integer of 67% of that to be doctorates. For example if there are 445 teachers, then 298 will be doctorates. \n",
    "\n",
    "Then build a child class of that class named **Faculty**. Build method named \"departments_under_it\" and takes \\*args input, \"total_students\". \n",
    "\n",
    "Then, build another class named **Department** that is the child of **Faculty**. This new class will have methods named \"degree_provided\", which will take a \\**kwarg to take input of the names of the degrees and print them. Another funtion named \"total_doctorate_teachers\" just like the **University** class, just this time, instead of 67%, we will say 78% of the total teachers inputted will have doctorates.\n",
    "\n",
    "**Write the code such a way that the following block of codes prints the correct answer**"
   ]
  },
  {
   "cell_type": "code",
   "execution_count": null,
   "metadata": {},
   "outputs": [],
   "source": [
    "# KUET = University()\n",
    "# print(KUET.print_motto(\"God, give me wisdom\")) # will print: The motto of this University is \"God, give me wisdom\"\n",
    "# print(KUET.total_doctorate_teachers(445)) # will print: we have 298 doctorates\n",
    "# EEE = Faculty()\n",
    "# print(Faculty.departments_under_it('EEE', 'CSE', 'BME', 'MME', 'ECE')) # will print: The departments under this faculty are: 'EEE', 'CSE', 'BME', 'MME', 'ECE'\n",
    "# MME = Department()\n",
    "# MME.degree_provided('Bachelors', 'Masters', 'PhD') # degress provided from this department are: 'Bachelors', 'Masters', 'PhD'\n",
    "# MME.total_doctorate_teachers(61) # will print 47\n",
    "# print(MME.print_motto(\"We build semiconductor materials\")): #Will print: The motto of this Department is \"We build semiconductor materials\"."
   ]
  },
  {
   "cell_type": "code",
   "execution_count": null,
   "metadata": {},
   "outputs": [],
   "source": [
    "# Your code here"
   ]
  },
  {
   "cell_type": "markdown",
   "metadata": {},
   "source": [
    "## Question 4: total 10 marks"
   ]
  },
  {
   "cell_type": "markdown",
   "metadata": {},
   "source": [
    "Make a child class of our **Shape** class and create a operator overloading by redefining the \\__add__ function. Now, this addition is a bit weird. If you add two shapes, first, the perimeter of both of them will be calculated. Then the area of the shape with higher perimeter will be returned.\n",
    "\n",
    "So, if we d0, **circle(34) + rectangle(2, 100)**, we will get 3631.6896 as return. "
   ]
  },
  {
   "cell_type": "code",
   "execution_count": 6,
   "metadata": {},
   "outputs": [],
   "source": [
    "# your code here"
   ]
  }
 ],
 "metadata": {
  "kernelspec": {
   "display_name": "Python 3",
   "language": "python",
   "name": "python3"
  },
  "language_info": {
   "codemirror_mode": {
    "name": "ipython",
    "version": 3
   },
   "file_extension": ".py",
   "mimetype": "text/x-python",
   "name": "python",
   "nbconvert_exporter": "python",
   "pygments_lexer": "ipython3",
   "version": "3.7.4"
  }
 },
 "nbformat": 4,
 "nbformat_minor": 2
}
