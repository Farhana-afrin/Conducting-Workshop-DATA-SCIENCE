{
 "cells": [
  {
   "cell_type": "markdown",
   "metadata": {},
   "source": [
    "## Question 1\n",
    "Q1. Palindrome means, a word is same as it's backword.\n",
    "\n",
    "* 'Noon' is palindrome\n",
    "* 'Mom' is palindrome\n",
    "* 'Nun' is palindrome\n",
    "* 'Deep' is not palindrome\n",
    "* 'Snowwon' is not palindrome\n",
    "\n",
    "Check, if without the first letter, a word is plindrome or not. Let's say we name them pseudo-palindrome. For example:\n",
    "\n",
    "* 'Aror' is pseudo-palindrome\n",
    "* 'Paka' is pseudo-palindrome\n",
    "* 'Snowwon' is pseudo-palindrome\n",
    "* 'Adradra' is not pseudo-palindrome\n",
    "* 'Mom' is not pseudo-palindrome"
   ]
  },
  {
   "cell_type": "code",
   "execution_count": null,
   "metadata": {},
   "outputs": [],
   "source": [
    "# Your code here\n",
    "word = input('Please input the word you want to test: ')"
   ]
  },
  {
   "cell_type": "markdown",
   "metadata": {},
   "source": [
    "## Question 2\n",
    "\n",
    "\n",
    "Q2. Given the number N, can you produce the following interesting pattern? Example:\n",
    "\n",
    "**Example 1:**\n",
    "\n",
    "Input: 5\n",
    "\n",
    "Output:\n",
    "\n",
    "5  4  3  2  1\n",
    "\n",
    "4  3  2  1\n",
    "\n",
    "3  2  1\n",
    "\n",
    "2  1\n",
    "\n",
    "1\n",
    "\n",
    "\n",
    "**Example 2:**\n",
    "\n",
    "Input: 7\n",
    "\n",
    "Output:\n",
    "\n",
    "7  6  5  4  3  2  1\n",
    "\n",
    "6  5  4  3  2  1\n",
    "\n",
    "5  4  3  2  1\n",
    "\n",
    "4  3  2  1\n",
    "\n",
    "3  2  1\n",
    "\n",
    "2  1\n",
    "\n",
    "1\n",
    "\n",
    "##hint:Python’s print() function comes with a parameter called ‘end’. By default, the value of this parameter is ‘\\n’, i.e. the new line character. You can end a print statement with any character/string using this parameter.\n",
    "\n",
    "if you print like \"print(i, end=' ')\", it will print a space after the printing instead of a newline."
   ]
  },
  {
   "cell_type": "code",
   "execution_count": null,
   "metadata": {},
   "outputs": [],
   "source": [
    "# Your code here\n",
    "N = int(input('Please input an integer: '))"
   ]
  },
  {
   "cell_type": "markdown",
   "metadata": {},
   "source": [
    "## Question 3:\n",
    "\n",
    "Fibonacci series is formed by adding the two previous numbers. \n",
    "\n",
    "Fibonacci series:   1, 1, 2, 3, 5, 8, 13, 21, 34, 55, 89...........\n",
    "\n",
    "Given an input N, find the Nth fibonacci number. \n",
    "\n",
    "Example: \n",
    "\n",
    "input: 7\n",
    "Output: 13\n",
    "\n",
    "input: 11\n",
    "Output: 89"
   ]
  },
  {
   "cell_type": "code",
   "execution_count": null,
   "metadata": {},
   "outputs": [],
   "source": [
    "#Your code here\n",
    "N = int(input('Please input an integer: '))"
   ]
  },
  {
   "cell_type": "markdown",
   "metadata": {},
   "source": [
    "## Question 4\n",
    "\n",
    "Let's get back to our lovely senior-school or early-college life. How golden those days were! We used to find the roots of quadratic equation, you remember ? \n",
    "\n",
    "Let's say, we have this equation:  X^2 - 5X + 6 = 0. What were the roots? 2 and 3, right ? But how did we get that? if an equation were of the form aX^2 + bX + c = 0, the roots would be, (-b +- sqrt(b^2 - 4ac))/2a. Watch this short video, if you are still confused: https://www.youtube.com/watch?time_continue=200&v=-JhZekciKxM&feature=emb_logo\n",
    "\n",
    "Our goal is, given the value of a, b and c, find the roots of the quadratic equation. Just a little heads-up, donot forget to check if the roots are real or not. If the roots are imaginary, you just output \"imaginary roots\" and avoid any error. \n",
    "\n",
    "**Example 1**: \n",
    "\n",
    "input:  a=1, b=5, c=6\n",
    "Output: -2, -3\n",
    "\n",
    "**Example 2**: \n",
    "\n",
    "input:  a=1, b=5, c=10\n",
    "Output: \"imaginary roots\""
   ]
  },
  {
   "cell_type": "code",
   "execution_count": null,
   "metadata": {},
   "outputs": [],
   "source": [
    "# Your code here\n",
    "import math\n",
    "a = float(input(\"What is the value of the coefficient for the X^2 term?\"))\n",
    "b = float(input(\"What is the value of the coefficient for the X term?\"))\n",
    "c = float(input(\"What is the value of the coefficient for the constant term?\"))"
   ]
  },
  {
   "cell_type": "markdown",
   "metadata": {},
   "source": [
    "## Question 5:\n",
    "\n",
    "You are given 2 lists. The first list contains the name and heights(inches) of certain students. \n",
    "\n",
    "List_students = [('Sadat', 66), ('Shamsun', 64), ('Shakib', 69), ('Soumya', 72)]\n",
    "\n",
    "and the second list contains which class they are in:\n",
    "\n",
    "List_class = [3, 6, 3, 3]\n",
    "\n",
    "You have to make a dictionary which has the key as class and avg_height. The values will be class and the average height. \n",
    "\n",
    "So, if the name of the dictionary is class_height, then the output wull be like:\n",
    "\n",
    "{3: 69.0, \n",
    "\n",
    "6: 64.0}\n",
    "\n",
    "Verty important: You MUST NOT imagine that there are only 2 classes like the example. There could be as many as 100 and as low as 1. The code should figure out itself. You can define the lists however long you want but the lingth of the lists must be the same. "
   ]
  },
  {
   "cell_type": "code",
   "execution_count": null,
   "metadata": {},
   "outputs": [],
   "source": [
    "# your code is here \n",
    "List_1 = #whatever you like keeping the form of List_students\n",
    "List_1 = #whatever you like keeping the form of List_class"
   ]
  },
  {
   "cell_type": "markdown",
   "metadata": {},
   "source": [
    "## Bonus\n",
    "\n",
    "Review of Probability:\n",
    "\n",
    "Given a list of numbers, what is the probability of pickking a number if you pickk it randomly?\n",
    "\n",
    "Example: \n",
    "\n",
    "List = [1, 1, 2, 1, 4, 99, 21, 99, 8, 7]\n",
    "The probability of picking 1 is: 3/10 or 0.3.\n",
    "\n",
    "You have to make a dictionary of the probability of picking all these numbers in a list. So, if the input list is the List here, the output will be:\n",
    "\n",
    "prob_list = {1: 0.3, 2: 0.1, 4: 0.1, 99: 0.2, 21: 0.1, 8: 0.1, 7: 0.1}"
   ]
  },
  {
   "cell_type": "code",
   "execution_count": null,
   "metadata": {},
   "outputs": [],
   "source": [
    "# Your answer is here\n",
    "List = [2, 1, 2, 99, 4, 99, 21, 99, 8, 17]"
   ]
  },
  {
   "cell_type": "code",
   "execution_count": null,
   "metadata": {},
   "outputs": [],
   "source": []
  }
 ],
 "metadata": {
  "kernelspec": {
   "display_name": "Python 3",
   "language": "python",
   "name": "python3"
  },
  "language_info": {
   "codemirror_mode": {
    "name": "ipython",
    "version": 3
   },
   "file_extension": ".py",
   "mimetype": "text/x-python",
   "name": "python",
   "nbconvert_exporter": "python",
   "pygments_lexer": "ipython3",
   "version": "3.7.4"
  }
 },
 "nbformat": 4,
 "nbformat_minor": 2
}
