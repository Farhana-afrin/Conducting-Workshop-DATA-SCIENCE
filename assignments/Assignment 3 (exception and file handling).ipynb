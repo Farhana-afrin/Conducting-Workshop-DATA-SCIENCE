{
 "cells": [
  {
   "cell_type": "markdown",
   "metadata": {},
   "source": [
    "<font color = 'red'>This assignment is going to be a bit lengthy, but a very easy one.</font>"
   ]
  },
  {
   "cell_type": "markdown",
   "metadata": {},
   "source": [
    "# Question 1 : <font color = 'red'>max possible point 15</font>\n",
    "\n",
    "In this link: https://docs.python.org/3/library/exceptions.html, you can find a lot of detailed information about different kind of exceptions. \n",
    "\n",
    "Your task: You have to pick any 5 built-in exceptions of your choice and make an use case for each of them (plagiarism is strictly monitored), do the coding. Therefore you will write 10 functions, each contains at least one try-except block (you are free to write as many as exceptions you want). This time, try to utilize the the comments, that means, try explaining the exception in a one/two sentence. "
   ]
  },
  {
   "cell_type": "code",
   "execution_count": 3,
   "metadata": {},
   "outputs": [],
   "source": [
    "# your codes here:"
   ]
  },
  {
   "cell_type": "markdown",
   "metadata": {},
   "source": [
    "# Question 2 : <font color = 'red'>max possible point 10</font>\n",
    "\n",
    "Write a use-case, where you write a function to raise an error (you raise it, not the code itself). Then write another function to handle that error, by making an exception. Use your own imagination to build use case. \n"
   ]
  },
  {
   "cell_type": "code",
   "execution_count": 2,
   "metadata": {},
   "outputs": [],
   "source": [
    "# your codes here:"
   ]
  },
  {
   "cell_type": "markdown",
   "metadata": {},
   "source": [
    "# Question 3 :  <font color = 'red'>max possible point 25</font>\n",
    "\n",
    "Make a survey that takes input of 10 random people's name, age, approxiamte number of minute spent everyday in facebook, approxiamte number of facebook friends, and if he/she is provided with all of his/her choice of free pdf books, will he/she cut the time spent in facebook in one-third or not (yes or no question). Put all these entries in a txt file, named fb_usage_survey.txt (using the file handling in python). Your first task is to write a function on that.\n",
    "\n",
    "second task: Open the saved fb_usage_survey.txt file in read mode. Answer the follwing question by analysis:\n",
    "\n",
    "* what is the average age being surveyed ? What is the minimum and maximum age?\n",
    "* what is the average time spent in facebook? What is the minimum and maximum time spent in facebook?\n",
    "* what is the average facebook friend? What is the minimum and maximum facebook friend?\n",
    "*  what is the average number time-spent-in-facebook for people who answered the last question \"yes\"? and what about who answered \"No\"?\n",
    "* what is the average number if facebook friends for people who answered the last question \"yes\"? and what about who answered \"No\"?\n",
    "\n",
    "\n",
    "<font color = 'red'>This is an interesting data exploration experience for you. Utilize it ! </font>"
   ]
  },
  {
   "cell_type": "code",
   "execution_count": null,
   "metadata": {},
   "outputs": [],
   "source": []
  }
 ],
 "metadata": {
  "kernelspec": {
   "display_name": "Python 3",
   "language": "python",
   "name": "python3"
  },
  "language_info": {
   "codemirror_mode": {
    "name": "ipython",
    "version": 3
   },
   "file_extension": ".py",
   "mimetype": "text/x-python",
   "name": "python",
   "nbconvert_exporter": "python",
   "pygments_lexer": "ipython3",
   "version": "3.7.4"
  }
 },
 "nbformat": 4,
 "nbformat_minor": 2
}
