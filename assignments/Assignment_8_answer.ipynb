{
 "cells": [
  {
   "cell_type": "markdown",
   "metadata": {},
   "source": [
    "# Question 1 "
   ]
  },
  {
   "cell_type": "markdown",
   "metadata": {},
   "source": [
    "Let's say, you have a set of text or a document. You have a to build a dataframe where for every sentence, there will be columns for--\n",
    "\n",
    "1. Number of the words in that sentence\n",
    "2. Frequency of the word 'a' or 'an', irrespective of uppercase or lowercase\n",
    "3. Frequency of the word 'the', irrespective of uppercase or lowercase\n",
    "4. Frequency of the word 'is' or 'are' or 'was' or 'were', irrespective of uppercase or lowercase\n",
    "5. Number of words in that sentence that are unique to the whole document. For example, think about the first sentence in the green document, <font color='green'>It is so great to state that Mark is a great man. But may be his brother Mathew is not.</font>. The unique words for the first sentence that wasn't used in rest of the documents are, **It, so, great, to, state that, Mark, a, man**. Although the word \"great\" appeared twice, we count it only once."
   ]
  },
  {
   "cell_type": "code",
   "execution_count": 14,
   "metadata": {},
   "outputs": [],
   "source": [
    "import pandas as pd\n",
    "TEXT_string = \"The World Health Organisation (WHO) defines asymptomatic cases as those who don't show symptoms but have been confirmed infected through a lab test. WHO notes there are few reports of truly asymptomatic cases. The incubation period, or the time a person takes to show symptoms after getting infected, is the pre-symptomatic phase, the WHO says. Carriers can infect others during this period. Health experts are not yet sure whether asymptomatic or pre-symptomatic cases are infectious. Some say data so far suggests those cases are probably equally likely to be able to spread infection.\"\n",
    "sentences = TEXT_string.split('.')"
   ]
  },
  {
   "cell_type": "code",
   "execution_count": 83,
   "metadata": {},
   "outputs": [],
   "source": [
    "def text_data(text):\n",
    "    N_words = []\n",
    "    A_an = []\n",
    "    Be_verb = []\n",
    "    THE = []\n",
    "    All_words = []\n",
    "    set_words = []\n",
    "    worlist_set_dict = dict()\n",
    "    \n",
    "    i = 0\n",
    "\n",
    "    for sent in text:\n",
    "        if sent:\n",
    "            words = sent.lower().split()\n",
    "            N_words.append(len(words))\n",
    "\n",
    "            #a, an\n",
    "            A_an.append(words.count('a') +  words.count('an'))\n",
    "\n",
    "            #the\n",
    "            THE.append(words.count('the'))\n",
    "\n",
    "            #Be_verb\n",
    "            Be_verb.append(words.count('is') + words.count('are') + words.count('was') + words.count('were'))\n",
    "            \n",
    "            #total word set\n",
    "            worlist_set_dict[i] = list(set([w.replace('(', '').replace(')','') for w in words]))\n",
    "            All_words = All_words + list(worlist_set_dict[i])\n",
    "            i += 1\n",
    "            \n",
    "    uniques = []       \n",
    "    for i in range(len(worlist_set_dict)):\n",
    "        word_counts = [All_words.count(w) for w in worlist_set_dict[i]]\n",
    "        unique_words = [worlist_set_dict[i][idx] for idx, value in enumerate(word_counts) if value==1]\n",
    "        uniques.append(len(unique_words))\n",
    "        \n",
    "    Data = {'Sentences':text[:-1],\n",
    "            'No of words':N_words,\n",
    "           'a_or_an_freq':A_an,\n",
    "           'the_freq':THE,\n",
    "           'is_are_was_were_freq':Be_verb,\n",
    "           'Uniques':uniques}\n",
    "    final_df = pd.DataFrame(Data)\n",
    "        \n",
    "    return final_df\n",
    "    "
   ]
  },
  {
   "cell_type": "code",
   "execution_count": 84,
   "metadata": {},
   "outputs": [
    {
     "data": {
      "text/html": [
       "<div>\n",
       "<style scoped>\n",
       "    .dataframe tbody tr th:only-of-type {\n",
       "        vertical-align: middle;\n",
       "    }\n",
       "\n",
       "    .dataframe tbody tr th {\n",
       "        vertical-align: top;\n",
       "    }\n",
       "\n",
       "    .dataframe thead th {\n",
       "        text-align: right;\n",
       "    }\n",
       "</style>\n",
       "<table border=\"1\" class=\"dataframe\">\n",
       "  <thead>\n",
       "    <tr style=\"text-align: right;\">\n",
       "      <th></th>\n",
       "      <th>Sentences</th>\n",
       "      <th>No of words</th>\n",
       "      <th>a_or_an_freq</th>\n",
       "      <th>the_freq</th>\n",
       "      <th>is_are_was_were_freq</th>\n",
       "      <th>Uniques</th>\n",
       "    </tr>\n",
       "  </thead>\n",
       "  <tbody>\n",
       "    <tr>\n",
       "      <td>0</td>\n",
       "      <td>The World Health Organisation (WHO) defines as...</td>\n",
       "      <td>23</td>\n",
       "      <td>1</td>\n",
       "      <td>1</td>\n",
       "      <td>0</td>\n",
       "      <td>13</td>\n",
       "    </tr>\n",
       "    <tr>\n",
       "      <td>1</td>\n",
       "      <td>WHO notes there are few reports of truly asym...</td>\n",
       "      <td>10</td>\n",
       "      <td>0</td>\n",
       "      <td>0</td>\n",
       "      <td>1</td>\n",
       "      <td>6</td>\n",
       "    </tr>\n",
       "    <tr>\n",
       "      <td>2</td>\n",
       "      <td>The incubation period, or the time a person t...</td>\n",
       "      <td>22</td>\n",
       "      <td>1</td>\n",
       "      <td>4</td>\n",
       "      <td>1</td>\n",
       "      <td>11</td>\n",
       "    </tr>\n",
       "    <tr>\n",
       "      <td>3</td>\n",
       "      <td>Carriers can infect others during this period</td>\n",
       "      <td>7</td>\n",
       "      <td>0</td>\n",
       "      <td>0</td>\n",
       "      <td>0</td>\n",
       "      <td>7</td>\n",
       "    </tr>\n",
       "    <tr>\n",
       "      <td>4</td>\n",
       "      <td>Health experts are not yet sure whether asymp...</td>\n",
       "      <td>13</td>\n",
       "      <td>0</td>\n",
       "      <td>0</td>\n",
       "      <td>2</td>\n",
       "      <td>6</td>\n",
       "    </tr>\n",
       "    <tr>\n",
       "      <td>5</td>\n",
       "      <td>Some say data so far suggests those cases are...</td>\n",
       "      <td>18</td>\n",
       "      <td>0</td>\n",
       "      <td>0</td>\n",
       "      <td>1</td>\n",
       "      <td>13</td>\n",
       "    </tr>\n",
       "  </tbody>\n",
       "</table>\n",
       "</div>"
      ],
      "text/plain": [
       "                                           Sentences  No of words  \\\n",
       "0  The World Health Organisation (WHO) defines as...           23   \n",
       "1   WHO notes there are few reports of truly asym...           10   \n",
       "2   The incubation period, or the time a person t...           22   \n",
       "3      Carriers can infect others during this period            7   \n",
       "4   Health experts are not yet sure whether asymp...           13   \n",
       "5   Some say data so far suggests those cases are...           18   \n",
       "\n",
       "   a_or_an_freq  the_freq  is_are_was_were_freq  Uniques  \n",
       "0             1         1                     0       13  \n",
       "1             0         0                     1        6  \n",
       "2             1         4                     1       11  \n",
       "3             0         0                     0        7  \n",
       "4             0         0                     2        6  \n",
       "5             0         0                     1       13  "
      ]
     },
     "execution_count": 84,
     "metadata": {},
     "output_type": "execute_result"
    }
   ],
   "source": [
    "text_data(sentences)"
   ]
  },
  {
   "cell_type": "markdown",
   "metadata": {},
   "source": [
    "# Question 2"
   ]
  },
  {
   "cell_type": "markdown",
   "metadata": {},
   "source": [
    "Download the titanic dataset from this link: https://www.kaggle.com/c/titanic/data. You have to open a kaggle account for this. At this page, if you clock on 'Data', you will find a place where it's written 'Download All\". Click on that and a zip file will be downloaded. Unzip it and we will work with the file named \"train.csv\" in this folder."
   ]
  },
  {
   "cell_type": "markdown",
   "metadata": {},
   "source": [
    "Please andwer the follwoing questions from the dataset by must writing code. Your code output should be the answer of the question. \n",
    "\n",
    "1. What is the maximum fare and what is the name of the passenger who bought it?\n",
    "2. What is the percentage of male that survived among all male passengers and what is the percentage of female that survived among all female passengers? Note: 0 means not survived and 1 means survived\n",
    "3. What is the median age for all the passengers? What is the median age for male and female passengers?\n",
    "4. How many passengers were there who were aged less than 25, female and survived? "
   ]
  },
  {
   "cell_type": "code",
   "execution_count": 47,
   "metadata": {},
   "outputs": [
    {
     "name": "stdout",
     "output_type": "stream",
     "text": [
      "C:\\Users\\Sadat\\Documents\\EMK_Data_science\\Notebooks\\assignments\n"
     ]
    }
   ],
   "source": [
    "cd assignments"
   ]
  },
  {
   "cell_type": "code",
   "execution_count": 48,
   "metadata": {},
   "outputs": [
    {
     "data": {
      "text/html": [
       "<div>\n",
       "<style scoped>\n",
       "    .dataframe tbody tr th:only-of-type {\n",
       "        vertical-align: middle;\n",
       "    }\n",
       "\n",
       "    .dataframe tbody tr th {\n",
       "        vertical-align: top;\n",
       "    }\n",
       "\n",
       "    .dataframe thead th {\n",
       "        text-align: right;\n",
       "    }\n",
       "</style>\n",
       "<table border=\"1\" class=\"dataframe\">\n",
       "  <thead>\n",
       "    <tr style=\"text-align: right;\">\n",
       "      <th></th>\n",
       "      <th>PassengerId</th>\n",
       "      <th>Survived</th>\n",
       "      <th>Pclass</th>\n",
       "      <th>Name</th>\n",
       "      <th>Sex</th>\n",
       "      <th>Age</th>\n",
       "      <th>SibSp</th>\n",
       "      <th>Parch</th>\n",
       "      <th>Ticket</th>\n",
       "      <th>Fare</th>\n",
       "      <th>Cabin</th>\n",
       "      <th>Embarked</th>\n",
       "    </tr>\n",
       "  </thead>\n",
       "  <tbody>\n",
       "    <tr>\n",
       "      <td>0</td>\n",
       "      <td>1</td>\n",
       "      <td>0</td>\n",
       "      <td>3</td>\n",
       "      <td>Braund, Mr. Owen Harris</td>\n",
       "      <td>male</td>\n",
       "      <td>22.0</td>\n",
       "      <td>1</td>\n",
       "      <td>0</td>\n",
       "      <td>A/5 21171</td>\n",
       "      <td>7.2500</td>\n",
       "      <td>NaN</td>\n",
       "      <td>S</td>\n",
       "    </tr>\n",
       "    <tr>\n",
       "      <td>1</td>\n",
       "      <td>2</td>\n",
       "      <td>1</td>\n",
       "      <td>1</td>\n",
       "      <td>Cumings, Mrs. John Bradley (Florence Briggs Th...</td>\n",
       "      <td>female</td>\n",
       "      <td>38.0</td>\n",
       "      <td>1</td>\n",
       "      <td>0</td>\n",
       "      <td>PC 17599</td>\n",
       "      <td>71.2833</td>\n",
       "      <td>C85</td>\n",
       "      <td>C</td>\n",
       "    </tr>\n",
       "    <tr>\n",
       "      <td>2</td>\n",
       "      <td>3</td>\n",
       "      <td>1</td>\n",
       "      <td>3</td>\n",
       "      <td>Heikkinen, Miss. Laina</td>\n",
       "      <td>female</td>\n",
       "      <td>26.0</td>\n",
       "      <td>0</td>\n",
       "      <td>0</td>\n",
       "      <td>STON/O2. 3101282</td>\n",
       "      <td>7.9250</td>\n",
       "      <td>NaN</td>\n",
       "      <td>S</td>\n",
       "    </tr>\n",
       "    <tr>\n",
       "      <td>3</td>\n",
       "      <td>4</td>\n",
       "      <td>1</td>\n",
       "      <td>1</td>\n",
       "      <td>Futrelle, Mrs. Jacques Heath (Lily May Peel)</td>\n",
       "      <td>female</td>\n",
       "      <td>35.0</td>\n",
       "      <td>1</td>\n",
       "      <td>0</td>\n",
       "      <td>113803</td>\n",
       "      <td>53.1000</td>\n",
       "      <td>C123</td>\n",
       "      <td>S</td>\n",
       "    </tr>\n",
       "    <tr>\n",
       "      <td>4</td>\n",
       "      <td>5</td>\n",
       "      <td>0</td>\n",
       "      <td>3</td>\n",
       "      <td>Allen, Mr. William Henry</td>\n",
       "      <td>male</td>\n",
       "      <td>35.0</td>\n",
       "      <td>0</td>\n",
       "      <td>0</td>\n",
       "      <td>373450</td>\n",
       "      <td>8.0500</td>\n",
       "      <td>NaN</td>\n",
       "      <td>S</td>\n",
       "    </tr>\n",
       "    <tr>\n",
       "      <td>...</td>\n",
       "      <td>...</td>\n",
       "      <td>...</td>\n",
       "      <td>...</td>\n",
       "      <td>...</td>\n",
       "      <td>...</td>\n",
       "      <td>...</td>\n",
       "      <td>...</td>\n",
       "      <td>...</td>\n",
       "      <td>...</td>\n",
       "      <td>...</td>\n",
       "      <td>...</td>\n",
       "      <td>...</td>\n",
       "    </tr>\n",
       "    <tr>\n",
       "      <td>886</td>\n",
       "      <td>887</td>\n",
       "      <td>0</td>\n",
       "      <td>2</td>\n",
       "      <td>Montvila, Rev. Juozas</td>\n",
       "      <td>male</td>\n",
       "      <td>27.0</td>\n",
       "      <td>0</td>\n",
       "      <td>0</td>\n",
       "      <td>211536</td>\n",
       "      <td>13.0000</td>\n",
       "      <td>NaN</td>\n",
       "      <td>S</td>\n",
       "    </tr>\n",
       "    <tr>\n",
       "      <td>887</td>\n",
       "      <td>888</td>\n",
       "      <td>1</td>\n",
       "      <td>1</td>\n",
       "      <td>Graham, Miss. Margaret Edith</td>\n",
       "      <td>female</td>\n",
       "      <td>19.0</td>\n",
       "      <td>0</td>\n",
       "      <td>0</td>\n",
       "      <td>112053</td>\n",
       "      <td>30.0000</td>\n",
       "      <td>B42</td>\n",
       "      <td>S</td>\n",
       "    </tr>\n",
       "    <tr>\n",
       "      <td>888</td>\n",
       "      <td>889</td>\n",
       "      <td>0</td>\n",
       "      <td>3</td>\n",
       "      <td>Johnston, Miss. Catherine Helen \"Carrie\"</td>\n",
       "      <td>female</td>\n",
       "      <td>NaN</td>\n",
       "      <td>1</td>\n",
       "      <td>2</td>\n",
       "      <td>W./C. 6607</td>\n",
       "      <td>23.4500</td>\n",
       "      <td>NaN</td>\n",
       "      <td>S</td>\n",
       "    </tr>\n",
       "    <tr>\n",
       "      <td>889</td>\n",
       "      <td>890</td>\n",
       "      <td>1</td>\n",
       "      <td>1</td>\n",
       "      <td>Behr, Mr. Karl Howell</td>\n",
       "      <td>male</td>\n",
       "      <td>26.0</td>\n",
       "      <td>0</td>\n",
       "      <td>0</td>\n",
       "      <td>111369</td>\n",
       "      <td>30.0000</td>\n",
       "      <td>C148</td>\n",
       "      <td>C</td>\n",
       "    </tr>\n",
       "    <tr>\n",
       "      <td>890</td>\n",
       "      <td>891</td>\n",
       "      <td>0</td>\n",
       "      <td>3</td>\n",
       "      <td>Dooley, Mr. Patrick</td>\n",
       "      <td>male</td>\n",
       "      <td>32.0</td>\n",
       "      <td>0</td>\n",
       "      <td>0</td>\n",
       "      <td>370376</td>\n",
       "      <td>7.7500</td>\n",
       "      <td>NaN</td>\n",
       "      <td>Q</td>\n",
       "    </tr>\n",
       "  </tbody>\n",
       "</table>\n",
       "<p>891 rows × 12 columns</p>\n",
       "</div>"
      ],
      "text/plain": [
       "     PassengerId  Survived  Pclass  \\\n",
       "0              1         0       3   \n",
       "1              2         1       1   \n",
       "2              3         1       3   \n",
       "3              4         1       1   \n",
       "4              5         0       3   \n",
       "..           ...       ...     ...   \n",
       "886          887         0       2   \n",
       "887          888         1       1   \n",
       "888          889         0       3   \n",
       "889          890         1       1   \n",
       "890          891         0       3   \n",
       "\n",
       "                                                  Name     Sex   Age  SibSp  \\\n",
       "0                              Braund, Mr. Owen Harris    male  22.0      1   \n",
       "1    Cumings, Mrs. John Bradley (Florence Briggs Th...  female  38.0      1   \n",
       "2                               Heikkinen, Miss. Laina  female  26.0      0   \n",
       "3         Futrelle, Mrs. Jacques Heath (Lily May Peel)  female  35.0      1   \n",
       "4                             Allen, Mr. William Henry    male  35.0      0   \n",
       "..                                                 ...     ...   ...    ...   \n",
       "886                              Montvila, Rev. Juozas    male  27.0      0   \n",
       "887                       Graham, Miss. Margaret Edith  female  19.0      0   \n",
       "888           Johnston, Miss. Catherine Helen \"Carrie\"  female   NaN      1   \n",
       "889                              Behr, Mr. Karl Howell    male  26.0      0   \n",
       "890                                Dooley, Mr. Patrick    male  32.0      0   \n",
       "\n",
       "     Parch            Ticket     Fare Cabin Embarked  \n",
       "0        0         A/5 21171   7.2500   NaN        S  \n",
       "1        0          PC 17599  71.2833   C85        C  \n",
       "2        0  STON/O2. 3101282   7.9250   NaN        S  \n",
       "3        0            113803  53.1000  C123        S  \n",
       "4        0            373450   8.0500   NaN        S  \n",
       "..     ...               ...      ...   ...      ...  \n",
       "886      0            211536  13.0000   NaN        S  \n",
       "887      0            112053  30.0000   B42        S  \n",
       "888      2        W./C. 6607  23.4500   NaN        S  \n",
       "889      0            111369  30.0000  C148        C  \n",
       "890      0            370376   7.7500   NaN        Q  \n",
       "\n",
       "[891 rows x 12 columns]"
      ]
     },
     "execution_count": 48,
     "metadata": {},
     "output_type": "execute_result"
    }
   ],
   "source": [
    "df = pd.read_csv(\"train.csv\")\n",
    "df"
   ]
  },
  {
   "cell_type": "code",
   "execution_count": 66,
   "metadata": {},
   "outputs": [
    {
     "name": "stdout",
     "output_type": "stream",
     "text": [
      "258                      Ward, Miss. Anna\n",
      "679    Cardeza, Mr. Thomas Drake Martinez\n",
      "737                Lesurer, Mr. Gustave J\n",
      "Name: Name, dtype: object\n",
      "male survival rate 18.890814558058924\n",
      "female survival rate 74.20382165605096\n",
      "median age of all 28.0\n",
      "median age of male 29.0\n",
      "median age of female 27.0\n",
      "aged less than 25, female and survived 85\n"
     ]
    }
   ],
   "source": [
    "print(df[df.Fare==df.Fare.max()]['Name'])\n",
    "print('male survival rate', df[(df.Sex=='male') & (df.Survived==1)].shape[0]*100/df[df.Sex=='male'].shape[0])\n",
    "print('female survival rate', df[(df.Sex=='female') & (df.Survived==1)].shape[0]*100/df[df.Sex=='female'].shape[0])\n",
    "print('median age of all', df.Age.median())\n",
    "print('median age of male', df[df.Sex=='male'].Age.median())\n",
    "print('median age of female', df[df.Sex=='female'].Age.median())\n",
    "print('aged less than 25, female and survived' ,df[(df.Age<25) & (df.Sex=='female') & (df.Survived==1)].shape[0])"
   ]
  },
  {
   "cell_type": "markdown",
   "metadata": {},
   "source": [
    "# Question 3"
   ]
  },
  {
   "cell_type": "markdown",
   "metadata": {},
   "source": [
    "**Must use pandas groupby method**\n",
    "\n",
    "Please andwer the follwoing questions from the dataset by must writing code. Your code output should be the answer of the question. \n",
    "\n",
    "1. Pclass means which class a passanger got in. Find the mean ticket fare for all the classes.\n",
    "2. What is the probablity of your survival if you got in the first class, vs if you got in the third class. In which class it is more likely for you to survive?\n",
    "3. Embarked means from where a passenger got in. Here, C = Cherbourg, Q = Queenstown, S = Southampton. What is the male and feamle ration for all these places that got in Titanic. \n",
    "4. Build a custom age grouper: kids: less than 18 years of age, youths: 18+ and less than 45, Aged: 45+. For each of these groups, find the mean age and percentage of survival."
   ]
  },
  {
   "cell_type": "code",
   "execution_count": 69,
   "metadata": {},
   "outputs": [
    {
     "name": "stdout",
     "output_type": "stream",
     "text": [
      "Pclass\n",
      "1    84.154687\n",
      "2    20.662183\n",
      "3    13.675550\n",
      "Name: Fare, dtype: float64\n"
     ]
    }
   ],
   "source": [
    "clsgrp = df.groupby('Pclass')\n",
    "print(clsgrp.mean()['Fare'])"
   ]
  },
  {
   "cell_type": "code",
   "execution_count": 73,
   "metadata": {},
   "outputs": [
    {
     "name": "stdout",
     "output_type": "stream",
     "text": [
      "Probability of survival in class 1 is 0.6296296296296297\n",
      "Probability of survival in class 2 is 0.47282608695652173\n",
      "Probability of survival in class 3 is 0.24236252545824846\n"
     ]
    }
   ],
   "source": [
    "for cls, data in clsgrp:\n",
    "    print('Probability of survival in class', cls, 'is' ,data[data['Survived']==1].shape[0]/data.shape[0])"
   ]
  },
  {
   "cell_type": "code",
   "execution_count": 76,
   "metadata": {},
   "outputs": [
    {
     "name": "stdout",
     "output_type": "stream",
     "text": [
      "ratio of male and felame in group C is 1.3013698630136987\n",
      "ratio of male and felame in group Q is 1.1388888888888888\n",
      "ratio of male and felame in group S is 2.1724137931034484\n"
     ]
    }
   ],
   "source": [
    "emgrp = df.groupby('Embarked')\n",
    "for cls, data in emgrp:\n",
    "    print('ratio of male and felame in group', cls, 'is', data[data.Sex=='male'].shape[0]/data[data.Sex=='female'].shape[0])"
   ]
  },
  {
   "cell_type": "code",
   "execution_count": 82,
   "metadata": {},
   "outputs": [
    {
     "name": "stdout",
     "output_type": "stream",
     "text": [
      "mean age for the group Aged is 47.31782945736434\n",
      "chances of survival for the Aged group is 32.35294117647059\n",
      "mean age for the group kids is 29.829449152542374\n",
      "chances of survival for the kids group is 38.559322033898304\n",
      "mean age for the group youths is 9.041327433628318\n",
      "chances of survival for the youths group is 53.982300884955755\n"
     ]
    }
   ],
   "source": [
    "def custom_grouper(idx):\n",
    "    if df.Age.loc[idx]<18:\n",
    "        return 'youths'\n",
    "    elif 18<df.Age.loc[idx]<=45:\n",
    "        return 'kids'\n",
    "    else:\n",
    "        return 'Aged'\n",
    "    \n",
    "grp = df.groupby(lambda x:custom_grouper(x))\n",
    "for g, d in grp:\n",
    "    print('mean age for the group', g, 'is', d.Age.mean())\n",
    "    print('chances of survival for the', g, 'group is',d[d.Survived==1].shape[0]*100/d.shape[0])"
   ]
  },
  {
   "cell_type": "code",
   "execution_count": null,
   "metadata": {},
   "outputs": [],
   "source": []
  }
 ],
 "metadata": {
  "kernelspec": {
   "display_name": "Python 3",
   "language": "python",
   "name": "python3"
  },
  "language_info": {
   "codemirror_mode": {
    "name": "ipython",
    "version": 3
   },
   "file_extension": ".py",
   "mimetype": "text/x-python",
   "name": "python",
   "nbconvert_exporter": "python",
   "pygments_lexer": "ipython3",
   "version": "3.7.4"
  }
 },
 "nbformat": 4,
 "nbformat_minor": 2
}
