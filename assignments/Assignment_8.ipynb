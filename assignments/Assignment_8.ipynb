{
 "cells": [
  {
   "cell_type": "markdown",
   "metadata": {},
   "source": [
    "# Question 1 : point -- 35"
   ]
  },
  {
   "cell_type": "markdown",
   "metadata": {},
   "source": [
    "Let's say, you have a set of text or a document. You have a to build a dataframe where for every sentence, there will be columns for--\n",
    "\n",
    "1. Number of the words in that sentence\n",
    "2. Frequency of the word 'a' or 'an', irrespective of uppercase or lowercase\n",
    "3. Frequency of the word 'the', irrespective of uppercase or lowercase\n",
    "4. Frequency of the word 'is' or 'are' or 'was' or 'were', irrespective of uppercase or lowercase\n",
    "5. Number of words in that sentence that are unique to the whole document. For example, think about the first sentence in the green document, <font color='green'>It is so great to state that Mark is a great man. But may be his brother Mathew is not.</font>. The unique words for the first sentence that wasn't used in rest of the documents are, **It, so, great, to, state that, Mark, a, man**. Although the word \"great\" appeared twice, we count it only once."
   ]
  },
  {
   "cell_type": "code",
   "execution_count": 1,
   "metadata": {},
   "outputs": [],
   "source": [
    "import pandas as pd\n",
    "TEXT_string = \"The World Health Organisation (WHO) defines asymptomatic cases as those who don't show symptoms but have been confirmed infected through a lab test. WHO notes there are few reports of truly asymptomatic cases. The incubation period, or the time a person takes to show symptoms after getting infected, is the pre-symptomatic phase, the WHO says. Carriers can infect others during this period. Health experts are not yet sure whether asymptomatic or pre-symptomatic cases are infectious. Some say data so far suggests those cases are probably equally likely to be able to spread infection.\"\n",
    "#Your code here"
   ]
  },
  {
   "cell_type": "markdown",
   "metadata": {},
   "source": [
    "# Question 2 : point -- 30"
   ]
  },
  {
   "cell_type": "markdown",
   "metadata": {},
   "source": [
    "Download the titanic dataset from this link: https://www.kaggle.com/c/titanic/data. You have to open a kaggle account for this. At this page, if you clock on 'Data', you will find a place where it's written 'Download All\". Click on that and a zip file will be downloaded. Unzip it and we will work with the file named \"train.csv\" in this folder."
   ]
  },
  {
   "cell_type": "markdown",
   "metadata": {},
   "source": [
    "Please andwer the follwoing questions from the dataset by must writing code. Your code output should be the answer of the question. \n",
    "\n",
    "1. What is the maximum fare and what is the name of the passenger who bought it?\n",
    "2. What is the percentage of male that survived among all male passengers and what is the percentage of female that survived among all female passengers? Note: 0 means not survived and 1 means survived\n",
    "3. What is the median age for all the passengers? What is the median age for male and female passengers?\n",
    "4. How many passengers were there who were aged less than 25, female and survived? "
   ]
  },
  {
   "cell_type": "code",
   "execution_count": 4,
   "metadata": {},
   "outputs": [],
   "source": [
    "# Your code here"
   ]
  },
  {
   "cell_type": "markdown",
   "metadata": {},
   "source": [
    "# Question 3 : point -- 35"
   ]
  },
  {
   "cell_type": "markdown",
   "metadata": {},
   "source": [
    "**Must use pandas groupby method**\n",
    "\n",
    "Please answer the follwoing questions from the dataset by must writing code. Your code output should be the answer of the question. \n",
    "\n",
    "1. Pclass means which class a passanger got in. Find the mean ticket fare for all the classes.\n",
    "2. What is the probablity of your survival if you got in the first class, vs if you got in the third class. In which class it is more likely for you to survive?\n",
    "3. Embarked means from where a passenger got in. Here, C = Cherbourg, Q = Queenstown, S = Southampton. What is the male and feamle ration for all these places that got in Titanic. \n",
    "4. Build a custom age grouper: kids: less than 18 years of age, youths: 18+ and less than 45, Aged: 45+. For each of these groups, find the mean age and percentage of survival."
   ]
  },
  {
   "cell_type": "code",
   "execution_count": 5,
   "metadata": {},
   "outputs": [],
   "source": [
    "# Your code here"
   ]
  },
  {
   "cell_type": "code",
   "execution_count": null,
   "metadata": {},
   "outputs": [],
   "source": []
  }
 ],
 "metadata": {
  "kernelspec": {
   "display_name": "Python 3",
   "language": "python",
   "name": "python3"
  },
  "language_info": {
   "codemirror_mode": {
    "name": "ipython",
    "version": 3
   },
   "file_extension": ".py",
   "mimetype": "text/x-python",
   "name": "python",
   "nbconvert_exporter": "python",
   "pygments_lexer": "ipython3",
   "version": "3.7.4"
  }
 },
 "nbformat": 4,
 "nbformat_minor": 2
}
