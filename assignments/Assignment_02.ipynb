{
 "cells": [
  {
   "cell_type": "code",
   "execution_count": 1,
   "metadata": {},
   "outputs": [],
   "source": [
    "## Please, Write your own name in place of \"Your Name\""
   ]
  },
  {
   "cell_type": "markdown",
   "metadata": {},
   "source": [
    "I, **Your Name**, hereby certify that,\n",
    "\n",
    "* The code is completely mine\n",
    "* I haven't copied it from internet\n",
    "* I haven't copied it from my friend or any acquaintance "
   ]
  },
  {
   "cell_type": "markdown",
   "metadata": {},
   "source": [
    "## Question 1"
   ]
  },
  {
   "cell_type": "markdown",
   "metadata": {},
   "source": [
    "The code has two phases:\n",
    "\n",
    "\n",
    "Phase 1: **Use a map function** to convert all the numbers of a given list to their cubes. If a number is negative, square it and then cube it. Put the new mapped numbers in a list named cube_mapped.\n",
    "\n",
    "Phase 2: **Use a filter function** to filter out all the numbers of cube_mapped which doesnot have an integer square root.\n",
    "\n",
    "Example: \n",
    "\n",
    "Let's say, L = [4, 9, 12, -5, 7, 36]\n",
    "\n",
    "After mapping and doing the cube root, we will get, \n",
    "\n",
    "cube_mapped = [64, 729, 1728, 15625, 343, 46656]\n",
    "\n",
    "And, after, using the filtering process, we wiil get,\n",
    "\n",
    "filtered_list = [64, 729, 15625, 466656]\n",
    "\n",
    "hint: You can use the is_integer() function, but that's not mandatory."
   ]
  },
  {
   "cell_type": "code",
   "execution_count": 8,
   "metadata": {},
   "outputs": [],
   "source": [
    "import math\n",
    "def map_and_filter(LIST):\n",
    "\n",
    "    #your code here.\n",
    "    \n",
    "    return filtered_list"
   ]
  },
  {
   "cell_type": "markdown",
   "metadata": {},
   "source": [
    "## Question 2"
   ]
  },
  {
   "cell_type": "markdown",
   "metadata": {},
   "source": [
    "Bd and Nz are playing ODI series from last few years. In each series, there are some ODI matches, which is not same in every series. However, if in a series Bd wins more matches than Nz, Bd is awarded 1 point only. Similarly if Nz wins more matches, they are also awarded with 1 point. If the series is drawn, that is, both team wins similar matches, both gets 1 point. \n",
    "\n",
    "Given two list, the first being no of matches won by Bd in last some number of series and the second list being the same for Nz, you have to calculate total point for Both Bd and Nz. \n",
    "\n",
    "Example: \n",
    "\n",
    "Bd = [2, 1, 4]\n",
    "\n",
    "Nz = [3, 2, 0]\n",
    "\n",
    "bd point: 1\n",
    "\n",
    "Nz point: 2\n",
    "\n",
    "Explanation: For the first series, Nz > Bd, so, Nz gets 1 point, Bd gets 0. For the second series, Nz > Bd, so, Nz gets 1 point, Bd gets 0. And for the third series, Bd gets 1 point and Nz gets 0. In total, Bd's points are (0 + 0 + 1) = 1 and Nz's points are (1 + 1 + 0) = 2\n",
    "\n",
    "**Write a function that takes two lists of same length as input and returns the point of both team as output**"
   ]
  },
  {
   "cell_type": "code",
   "execution_count": null,
   "metadata": {},
   "outputs": [],
   "source": [
    "def point_table(Bd, Nz):\n",
    "    # Your code here\n",
    "    \n",
    "    return Bd_point, Nz_point"
   ]
  },
  {
   "cell_type": "code",
   "execution_count": null,
   "metadata": {},
   "outputs": [],
   "source": []
  },
  {
   "cell_type": "markdown",
   "metadata": {},
   "source": [
    "## Question 3"
   ]
  },
  {
   "cell_type": "markdown",
   "metadata": {},
   "source": [
    "The big battle day is here. There's not been much war in Seven Kingdoms and people's been a bit bored. So, king Bran Stark has organised a dual sword-battle between people by the adivise of Tyrion Lannister, the hand of the king. King invited interested people from all the houses to organize duals. Now, as the dual between two different houses may create anarchy, the wise king decided that the battles will be fought between brothers and one guy will fight once only. That means, a Stark will fight another Stark, a Martell will fight another Martell. People, who will not find a pair, will have to sit and watch the game, and will not get a fight. In the big-battle day, if you are given the list of all warriors, you have to find the number of games or battles are going to occur.\n",
    "\n",
    "Example:\n",
    "\n",
    "input:   warriors = ['Lannister', 'Martell', 'Lannister', 'Stark', 'Lannister', 'Tully', 'Grejoy', 'Tully', 'Martell', 'Lannister', 'Tully']\n",
    "\n",
    "Output:  number_of_games = 4 \n",
    "\n",
    "Explanation:\n",
    "\n",
    "* There are 4 Lannisters, so there will be 2 games.\n",
    "* There are 2 Martells, so there will be 1 game.\n",
    "* There are 3 Tullies, so there will be 1 game between two tullies and one has to sit.\n",
    "* Only one guy from Stark and one from Greyjoy came. So, no fight, they will sit. \n",
    "\n",
    "**The function will return the number of games**\n",
    "\n"
   ]
  },
  {
   "cell_type": "code",
   "execution_count": 2,
   "metadata": {},
   "outputs": [],
   "source": [
    "def big_battle_calculator(warriors):\n",
    "    # The argument 'warriors' is basically a list of warriors from different house\n",
    "    # your code here\n",
    "    \n",
    "    \n",
    "    return number_of_games"
   ]
  },
  {
   "cell_type": "markdown",
   "metadata": {},
   "source": [
    "## Question 4"
   ]
  },
  {
   "cell_type": "markdown",
   "metadata": {},
   "source": [
    "King Bran is not like a racist king. He respects people from all houses. So, he asked Samuel Tally to make a list of all great warriors from all the houses, and he will build monument of each of them in the Westeros. Sam immediately asked the house leaders to send him the list of great warriors of all time to him. Sam started collecting them all but faced a small but weird issue. All the houses sent him a list of the warriors and it looks weird, like many lists inside a big list. \n",
    "\n",
    "List_of_all_warriors = [['Ted', 'Kozin', 'Almanac'],['Fred'],['Montash', 'Yigritte'],['Ned', 'John Snow'],['Jamie', 'Bronn', Tywin']]\n",
    "\n",
    "Sam loves the young king and he doesn't want to annoy him. All he wants that the king gets a fresh list of all these people. Like below:\n",
    "\n",
    "fresh_list_of_warriors = ['Ted', 'Kozin', 'Almanac', 'Fred', 'Montash', 'Yigritte', 'Ned', 'John Snow', 'Jamie', 'Bronn', Tywin']\n",
    "\n",
    "**Write a single-line list comprehension code that does the job of freshening up a messy list**"
   ]
  },
  {
   "cell_type": "code",
   "execution_count": 5,
   "metadata": {},
   "outputs": [],
   "source": [
    "def freshen_the_list(List_of_all_warriors):\n",
    "    #Your code here\n",
    "    \n",
    "    return fresh_list_of_warriors"
   ]
  },
  {
   "cell_type": "markdown",
   "metadata": {},
   "source": [
    "## Question 5"
   ]
  },
  {
   "cell_type": "markdown",
   "metadata": {},
   "source": [
    "The winter is back. Although Arya Stark killed the night king, another group of dead is rising and the dead emperror Joffrey is leading in waking them up. After the death of Khaleesi, we donot have any dragon to fight the deads. But there is a sword hidden in a cave in the North to kill Joffrey but only a true Targaryen can go there. That's right, only John Snow has the ability to find the sword which is hidden in a volt with two passwords. John knows there is a book of 100 passwords of which our desired two passwords are also there. The condition is, **two passwords DONOT have any substrings common in them.**.\n",
    "\n",
    "* Example 1: 'asdfghg2212aasjk'  and 'popweeewf' cannot be our desired passwords because they have a substring 'f' common in them.\n",
    "* Example 2: 'deathvaley090qwe' and 'birthsxccx' annot be our desired passwords because they have a substring 'th' common in them.\n",
    "* Example 3: 'mykingwillwintyu' and 'hpfghhh322118' can be our desired password because they donot have any substring common in them.\n",
    "\n",
    "**Try to write a function WITHOUT using any loop that checks if two strings can be our desired password or not**\n",
    "\n",
    "hint: We studied an interesting data structure in the second class that can be handy.\n",
    "\n",
    "NB. If you cannot implement it without loop, you'll get half of the total mark. "
   ]
  },
  {
   "cell_type": "code",
   "execution_count": 6,
   "metadata": {},
   "outputs": [],
   "source": [
    "def is_that_password(string1, string2): \n",
    "    # Your code here\n",
    "    \n",
    "    return #will return a 'yes' or 'no'"
   ]
  },
  {
   "cell_type": "code",
   "execution_count": null,
   "metadata": {},
   "outputs": [],
   "source": []
  }
 ],
 "metadata": {
  "kernelspec": {
   "display_name": "Python 3",
   "language": "python",
   "name": "python3"
  },
  "language_info": {
   "codemirror_mode": {
    "name": "ipython",
    "version": 3
   },
   "file_extension": ".py",
   "mimetype": "text/x-python",
   "name": "python",
   "nbconvert_exporter": "python",
   "pygments_lexer": "ipython3",
   "version": "3.7.4"
  }
 },
 "nbformat": 4,
 "nbformat_minor": 2
}
